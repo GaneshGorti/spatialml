{
  "nbformat": 4,
  "nbformat_minor": 0,
  "metadata": {
    "kernelspec": {
      "display_name": "Python 3",
      "language": "python",
      "name": "python3"
    },
    "language_info": {
      "codemirror_mode": {
        "name": "ipython",
        "version": 3
      },
      "file_extension": ".py",
      "mimetype": "text/x-python",
      "name": "python",
      "nbconvert_exporter": "python",
      "pygments_lexer": "ipython3",
      "version": "3.7.6"
    },
    "colab": {
      "name": "ganeshgorti_code_nueralnetworks_heat.ipynb",
      "provenance": [],
      "collapsed_sections": [],
      "toc_visible": true
    },
    "accelerator": "GPU"
  },
  "cells": [
    {
      "cell_type": "markdown",
      "metadata": {
        "id": "XugT-f7wrrM0"
      },
      "source": [
        "## Ganesh Gorti, 5th December 2021\n",
        "\n",
        "### Deep learning model try (see previous notebook for code on regression models)\n",
        "\n",
        "This code analyses maximum indoor temperature data from 60 households in New Delhi, India. The data was collected between April 2017 and October 2017. The aim of this analysis is to predict the maximum indoor temperatures daily based on a range of features. These include\n",
        "\n",
        "Daily maximum outdoor temperature (in degree celsius)\n",
        "Daily maximum outdoor humidity\n",
        "Daily maximum outdoor windspeed (in KMPH)\n",
        "Daily maximum heatindex\n",
        "Daily maximum rainfall. (in mm)\n",
        "Daily maximum solar radiation\n",
        "Area\n",
        "Floor of the house\n",
        "Floor on top (dummy coded as yes or no)\n",
        "Roof Structure (tin sheet, stone slab, concrete, bricks)\n",
        "Wall material (concrete/bricks)\n",
        "Number of ceiling fans\n",
        "Number of evaporative coolers\n",
        "Flowing ventilation (coded as 0 if no ventilation, 1 if windows are present)\n",
        "Local Climate Zone classification\n",
        "Outcome variable -- temp"
      ]
    },
    {
      "cell_type": "code",
      "metadata": {
        "id": "KO4dO2DGcoM8"
      },
      "source": [
        "import pandas as pd\n",
        "import numpy as np \n",
        "import matplotlib.pyplot as plt\n",
        "import sklearn"
      ],
      "execution_count": 122,
      "outputs": []
    },
    {
      "cell_type": "code",
      "metadata": {
        "id": "H9NzSS3UcoM_"
      },
      "source": [
        "import seaborn as sns\n",
        "import matplotlib as mpl\n",
        "import matplotlib.pyplot as plt\n",
        "%matplotlib inline\n",
        "from mpl_toolkits.mplot3d import Axes3D\n",
        "from matplotlib.collections import PolyCollection"
      ],
      "execution_count": 123,
      "outputs": []
    },
    {
      "cell_type": "markdown",
      "metadata": {
        "id": "pIirtJ6Ojnrk"
      },
      "source": [
        "## Loading Data"
      ]
    },
    {
      "cell_type": "code",
      "metadata": {
        "id": "myrnrjrng8BX",
        "colab": {
          "base_uri": "https://localhost:8080/",
          "height": 313
        },
        "outputId": "87217d96-a403-4eb3-c898-5977bf2d00cf"
      },
      "source": [
        "indoortemp_df = pd.read_csv('https://raw.githubusercontent.com/GaneshGorti/spatialml/main/masterdata.csv') \n",
        "indoortemp_df.head()"
      ],
      "execution_count": 124,
      "outputs": [
        {
          "output_type": "execute_result",
          "data": {
            "text/html": [
              "<div>\n",
              "<style scoped>\n",
              "    .dataframe tbody tr th:only-of-type {\n",
              "        vertical-align: middle;\n",
              "    }\n",
              "\n",
              "    .dataframe tbody tr th {\n",
              "        vertical-align: top;\n",
              "    }\n",
              "\n",
              "    .dataframe thead th {\n",
              "        text-align: right;\n",
              "    }\n",
              "</style>\n",
              "<table border=\"1\" class=\"dataframe\">\n",
              "  <thead>\n",
              "    <tr style=\"text-align: right;\">\n",
              "      <th></th>\n",
              "      <th>logger</th>\n",
              "      <th>date</th>\n",
              "      <th>temp</th>\n",
              "      <th>Temp_Out</th>\n",
              "      <th>Out_Hum</th>\n",
              "      <th>Wind_Speed</th>\n",
              "      <th>Heat_Index</th>\n",
              "      <th>Rain</th>\n",
              "      <th>Solar_Rad</th>\n",
              "      <th>Area</th>\n",
              "      <th>Humidity_sensor</th>\n",
              "      <th>Floor</th>\n",
              "      <th>Floor_on_top</th>\n",
              "      <th>Roof_structure</th>\n",
              "      <th>Wall_material</th>\n",
              "      <th>Fan</th>\n",
              "      <th>Evaporative_cooler</th>\n",
              "      <th>Flowing_ventilation</th>\n",
              "      <th>LCZ</th>\n",
              "    </tr>\n",
              "  </thead>\n",
              "  <tbody>\n",
              "    <tr>\n",
              "      <th>0</th>\n",
              "      <td>10692989</td>\n",
              "      <td>12/04/16</td>\n",
              "      <td>31.4</td>\n",
              "      <td>34.3</td>\n",
              "      <td>29</td>\n",
              "      <td>1.8</td>\n",
              "      <td>32.5</td>\n",
              "      <td>0.0</td>\n",
              "      <td>906</td>\n",
              "      <td>Railway Colony</td>\n",
              "      <td>yes</td>\n",
              "      <td>4</td>\n",
              "      <td>no</td>\n",
              "      <td>concrete</td>\n",
              "      <td>bricks</td>\n",
              "      <td>1</td>\n",
              "      <td>yes</td>\n",
              "      <td>1.0</td>\n",
              "      <td>2</td>\n",
              "    </tr>\n",
              "    <tr>\n",
              "      <th>1</th>\n",
              "      <td>10692990</td>\n",
              "      <td>12/04/16</td>\n",
              "      <td>31.5</td>\n",
              "      <td>34.3</td>\n",
              "      <td>29</td>\n",
              "      <td>1.8</td>\n",
              "      <td>32.5</td>\n",
              "      <td>0.0</td>\n",
              "      <td>906</td>\n",
              "      <td>Kasturbha Nagar</td>\n",
              "      <td>yes</td>\n",
              "      <td>1</td>\n",
              "      <td>no</td>\n",
              "      <td>concrete</td>\n",
              "      <td>bricks</td>\n",
              "      <td>1</td>\n",
              "      <td>yes</td>\n",
              "      <td>1.0</td>\n",
              "      <td>5</td>\n",
              "    </tr>\n",
              "    <tr>\n",
              "      <th>2</th>\n",
              "      <td>10692993</td>\n",
              "      <td>12/04/16</td>\n",
              "      <td>32.7</td>\n",
              "      <td>34.3</td>\n",
              "      <td>29</td>\n",
              "      <td>1.8</td>\n",
              "      <td>32.5</td>\n",
              "      <td>0.0</td>\n",
              "      <td>906</td>\n",
              "      <td>Sarai Kale Khan</td>\n",
              "      <td>yes</td>\n",
              "      <td>3</td>\n",
              "      <td>yes</td>\n",
              "      <td>floor on top</td>\n",
              "      <td>bricks</td>\n",
              "      <td>1</td>\n",
              "      <td>yes</td>\n",
              "      <td>0.0</td>\n",
              "      <td>3</td>\n",
              "    </tr>\n",
              "    <tr>\n",
              "      <th>3</th>\n",
              "      <td>10692995</td>\n",
              "      <td>12/04/16</td>\n",
              "      <td>32.9</td>\n",
              "      <td>34.3</td>\n",
              "      <td>29</td>\n",
              "      <td>1.8</td>\n",
              "      <td>32.5</td>\n",
              "      <td>0.0</td>\n",
              "      <td>906</td>\n",
              "      <td>Lodhi Colony</td>\n",
              "      <td>yes</td>\n",
              "      <td>2</td>\n",
              "      <td>no</td>\n",
              "      <td>concrete</td>\n",
              "      <td>bricks</td>\n",
              "      <td>1</td>\n",
              "      <td>yes</td>\n",
              "      <td>1.0</td>\n",
              "      <td>6</td>\n",
              "    </tr>\n",
              "    <tr>\n",
              "      <th>4</th>\n",
              "      <td>10692998</td>\n",
              "      <td>12/04/16</td>\n",
              "      <td>32.4</td>\n",
              "      <td>34.3</td>\n",
              "      <td>29</td>\n",
              "      <td>1.8</td>\n",
              "      <td>32.5</td>\n",
              "      <td>0.0</td>\n",
              "      <td>906</td>\n",
              "      <td>Patparganj slum</td>\n",
              "      <td>yes</td>\n",
              "      <td>0</td>\n",
              "      <td>yes</td>\n",
              "      <td>floor on top</td>\n",
              "      <td>bricks</td>\n",
              "      <td>1</td>\n",
              "      <td>yes</td>\n",
              "      <td>1.0</td>\n",
              "      <td>2</td>\n",
              "    </tr>\n",
              "  </tbody>\n",
              "</table>\n",
              "</div>"
            ],
            "text/plain": [
              "     logger      date  temp  ...  Evaporative_cooler  Flowing_ventilation  LCZ\n",
              "0  10692989  12/04/16  31.4  ...                 yes                  1.0    2\n",
              "1  10692990  12/04/16  31.5  ...                 yes                  1.0    5\n",
              "2  10692993  12/04/16  32.7  ...                 yes                  0.0    3\n",
              "3  10692995  12/04/16  32.9  ...                 yes                  1.0    6\n",
              "4  10692998  12/04/16  32.4  ...                 yes                  1.0    2\n",
              "\n",
              "[5 rows x 19 columns]"
            ]
          },
          "metadata": {},
          "execution_count": 124
        }
      ]
    },
    {
      "cell_type": "code",
      "metadata": {
        "id": "jQ22baxHhWFJ"
      },
      "source": [
        "indoortemp_df.isnull().sum().sum()\n",
        "indoorcleaned_df = indoortemp_df.dropna()"
      ],
      "execution_count": 125,
      "outputs": []
    },
    {
      "cell_type": "markdown",
      "metadata": {
        "id": "oosOMa97lJkC"
      },
      "source": [
        "### Exploring the data"
      ]
    },
    {
      "cell_type": "code",
      "metadata": {
        "id": "p9cI0pukFytF",
        "colab": {
          "base_uri": "https://localhost:8080/"
        },
        "outputId": "1d4698ec-9e30-4322-c2d8-30f5faade345"
      },
      "source": [
        "#Dropping Area column \n",
        "indoorcleaned_df.drop(columns=['Area'], inplace=True)\n",
        "indoorcleaned_df.shape"
      ],
      "execution_count": 126,
      "outputs": [
        {
          "output_type": "stream",
          "name": "stderr",
          "text": [
            "/usr/local/lib/python3.7/dist-packages/pandas/core/frame.py:4174: SettingWithCopyWarning: \n",
            "A value is trying to be set on a copy of a slice from a DataFrame\n",
            "\n",
            "See the caveats in the documentation: https://pandas.pydata.org/pandas-docs/stable/user_guide/indexing.html#returning-a-view-versus-a-copy\n",
            "  errors=errors,\n"
          ]
        },
        {
          "output_type": "execute_result",
          "data": {
            "text/plain": [
              "(8039, 18)"
            ]
          },
          "metadata": {},
          "execution_count": 126
        }
      ]
    },
    {
      "cell_type": "code",
      "metadata": {
        "id": "7uahDxg2OXhp",
        "colab": {
          "base_uri": "https://localhost:8080/",
          "height": 269
        },
        "outputId": "602200fe-99c8-4983-a29d-a734bb2beba7"
      },
      "source": [
        "#Data Distribution\n",
        "indoorcleaned_df.iloc[:,6:].describe().T"
      ],
      "execution_count": 127,
      "outputs": [
        {
          "output_type": "execute_result",
          "data": {
            "text/html": [
              "<div>\n",
              "<style scoped>\n",
              "    .dataframe tbody tr th:only-of-type {\n",
              "        vertical-align: middle;\n",
              "    }\n",
              "\n",
              "    .dataframe tbody tr th {\n",
              "        vertical-align: top;\n",
              "    }\n",
              "\n",
              "    .dataframe thead th {\n",
              "        text-align: right;\n",
              "    }\n",
              "</style>\n",
              "<table border=\"1\" class=\"dataframe\">\n",
              "  <thead>\n",
              "    <tr style=\"text-align: right;\">\n",
              "      <th></th>\n",
              "      <th>count</th>\n",
              "      <th>mean</th>\n",
              "      <th>std</th>\n",
              "      <th>min</th>\n",
              "      <th>25%</th>\n",
              "      <th>50%</th>\n",
              "      <th>75%</th>\n",
              "      <th>max</th>\n",
              "    </tr>\n",
              "  </thead>\n",
              "  <tbody>\n",
              "    <tr>\n",
              "      <th>Heat_Index</th>\n",
              "      <td>8039.0</td>\n",
              "      <td>41.322515</td>\n",
              "      <td>4.545295</td>\n",
              "      <td>31.2</td>\n",
              "      <td>38.1</td>\n",
              "      <td>41.3</td>\n",
              "      <td>44.70</td>\n",
              "      <td>52.00</td>\n",
              "    </tr>\n",
              "    <tr>\n",
              "      <th>Rain</th>\n",
              "      <td>8039.0</td>\n",
              "      <td>1.714142</td>\n",
              "      <td>5.978278</td>\n",
              "      <td>0.0</td>\n",
              "      <td>0.0</td>\n",
              "      <td>0.0</td>\n",
              "      <td>0.25</td>\n",
              "      <td>39.12</td>\n",
              "    </tr>\n",
              "    <tr>\n",
              "      <th>Solar_Rad</th>\n",
              "      <td>8039.0</td>\n",
              "      <td>693.856325</td>\n",
              "      <td>184.398678</td>\n",
              "      <td>0.0</td>\n",
              "      <td>614.0</td>\n",
              "      <td>747.0</td>\n",
              "      <td>825.00</td>\n",
              "      <td>966.00</td>\n",
              "    </tr>\n",
              "    <tr>\n",
              "      <th>Floor</th>\n",
              "      <td>8039.0</td>\n",
              "      <td>1.779201</td>\n",
              "      <td>1.328815</td>\n",
              "      <td>0.0</td>\n",
              "      <td>1.0</td>\n",
              "      <td>1.0</td>\n",
              "      <td>3.00</td>\n",
              "      <td>4.00</td>\n",
              "    </tr>\n",
              "    <tr>\n",
              "      <th>Fan</th>\n",
              "      <td>8039.0</td>\n",
              "      <td>0.867770</td>\n",
              "      <td>0.338762</td>\n",
              "      <td>0.0</td>\n",
              "      <td>1.0</td>\n",
              "      <td>1.0</td>\n",
              "      <td>1.00</td>\n",
              "      <td>1.00</td>\n",
              "    </tr>\n",
              "    <tr>\n",
              "      <th>Flowing_ventilation</th>\n",
              "      <td>8039.0</td>\n",
              "      <td>0.583841</td>\n",
              "      <td>0.460763</td>\n",
              "      <td>0.0</td>\n",
              "      <td>0.0</td>\n",
              "      <td>1.0</td>\n",
              "      <td>1.00</td>\n",
              "      <td>1.00</td>\n",
              "    </tr>\n",
              "    <tr>\n",
              "      <th>LCZ</th>\n",
              "      <td>8039.0</td>\n",
              "      <td>3.787163</td>\n",
              "      <td>1.625363</td>\n",
              "      <td>2.0</td>\n",
              "      <td>2.0</td>\n",
              "      <td>3.0</td>\n",
              "      <td>5.00</td>\n",
              "      <td>6.00</td>\n",
              "    </tr>\n",
              "  </tbody>\n",
              "</table>\n",
              "</div>"
            ],
            "text/plain": [
              "                      count        mean         std  ...    50%     75%     max\n",
              "Heat_Index           8039.0   41.322515    4.545295  ...   41.3   44.70   52.00\n",
              "Rain                 8039.0    1.714142    5.978278  ...    0.0    0.25   39.12\n",
              "Solar_Rad            8039.0  693.856325  184.398678  ...  747.0  825.00  966.00\n",
              "Floor                8039.0    1.779201    1.328815  ...    1.0    3.00    4.00\n",
              "Fan                  8039.0    0.867770    0.338762  ...    1.0    1.00    1.00\n",
              "Flowing_ventilation  8039.0    0.583841    0.460763  ...    1.0    1.00    1.00\n",
              "LCZ                  8039.0    3.787163    1.625363  ...    3.0    5.00    6.00\n",
              "\n",
              "[7 rows x 8 columns]"
            ]
          },
          "metadata": {},
          "execution_count": 127
        }
      ]
    },
    {
      "cell_type": "markdown",
      "metadata": {
        "id": "5MMXgjJRQN2O"
      },
      "source": [
        "Target variable distribution"
      ]
    },
    {
      "cell_type": "code",
      "metadata": {
        "id": "fB_CoA1nnJuV",
        "colab": {
          "base_uri": "https://localhost:8080/",
          "height": 587
        },
        "outputId": "33b81d5b-c4be-4659-8bf2-56f9453c77f3"
      },
      "source": [
        "from scipy.stats import norm\n",
        "plt.figure(figsize=(8,8))\n",
        "sns.distplot(indoorcleaned_df['temp'], fit=norm)\n",
        "plt.title(\"Target variable Distribution Plot\",size=15, weight='bold')"
      ],
      "execution_count": 128,
      "outputs": [
        {
          "output_type": "stream",
          "name": "stderr",
          "text": [
            "/usr/local/lib/python3.7/dist-packages/seaborn/distributions.py:2619: FutureWarning: `distplot` is a deprecated function and will be removed in a future version. Please adapt your code to use either `displot` (a figure-level function with similar flexibility) or `histplot` (an axes-level function for histograms).\n",
            "  warnings.warn(msg, FutureWarning)\n"
          ]
        },
        {
          "output_type": "execute_result",
          "data": {
            "text/plain": [
              "Text(0.5, 1.0, 'Target variable Distribution Plot')"
            ]
          },
          "metadata": {},
          "execution_count": 128
        },
        {
          "output_type": "display_data",
          "data": {
            "image/png": "[encoded data removed]",
            "text/plain": [
              "<Figure size 576x576 with 1 Axes>"
            ]
          },
          "metadata": {
            "needs_background": "light"
          }
        }
      ]
    },
    {
      "cell_type": "code",
      "metadata": {
        "id": "7gLxm_LOgFca",
        "colab": {
          "base_uri": "https://localhost:8080/",
          "height": 733
        },
        "outputId": "c5a97bcb-dc5d-4114-b79d-855b91841ce7"
      },
      "source": [
        "#Drop some unnecessary features that are not required for the correlation plots\n",
        "features_for_plot = indoorcleaned_df.drop(columns=['logger', 'date'])\n",
        "#Correlation matrix\n",
        "colormap = plt.cm.RdBu\n",
        "plt.figure(figsize=(12,12))\n",
        "plt.title('Pearson Correlation of Features', y=1.05, size=15)\n",
        "sns.heatmap(features_for_plot.corr(),linewidths=0.1,vmax=1.0, square=True, cmap=colormap, linecolor='white', annot=False)\n",
        "plt.show()"
      ],
      "execution_count": 129,
      "outputs": [
        {
          "output_type": "display_data",
          "data": {
            "image/png": "[encoded data removed]",
            "text/plain": [
              "<Figure size 864x864 with 2 Axes>"
            ]
          },
          "metadata": {
            "needs_background": "light"
          }
        }
      ]
    },
    {
      "cell_type": "markdown",
      "metadata": {
        "id": "MvLvPcSpIzda"
      },
      "source": [
        "### Creating features and target variable"
      ]
    },
    {
      "cell_type": "code",
      "metadata": {
        "id": "4dd8DLp4pPRh",
        "colab": {
          "base_uri": "https://localhost:8080/"
        },
        "outputId": "96c8a5eb-3121-4a35-c2b3-82443d63338c"
      },
      "source": [
        "indoorcleaned_df = pd.get_dummies(indoorcleaned_df)\n",
        "features = indoorcleaned_df.drop(columns=['logger', 'temp'])\n",
        "X = features.values\n",
        "y = indoorcleaned_df['temp'].values\n",
        "\n",
        "#Let's shuffle the data to minimize the effect of the orginal order of training/testing data on our results:\n",
        "np.random.seed(42)\n",
        "indices = np.arange(len(X))\n",
        "np.random.shuffle(indices)\n",
        "X = X[indices]\n",
        "y = y[indices]\n",
        "X.shape"
      ],
      "execution_count": 130,
      "outputs": [
        {
          "output_type": "execute_result",
          "data": {
            "text/plain": [
              "(8039, 209)"
            ]
          },
          "metadata": {},
          "execution_count": 130
        }
      ]
    },
    {
      "cell_type": "code",
      "metadata": {
        "id": "irNeP35UhP7r"
      },
      "source": [
        "from sklearn.model_selection import train_test_split\n",
        "X_train, X_test, y_train, y_test = train_test_split(X, y, test_size=0.10, random_state=42)"
      ],
      "execution_count": 131,
      "outputs": []
    },
    {
      "cell_type": "code",
      "metadata": {
        "id": "sPkXmfl-V4xi"
      },
      "source": [
        "# Scaling the features using StandardScaler\n",
        "from sklearn.preprocessing import StandardScaler\n",
        "scaler = StandardScaler()\n",
        "X_train_std = scaler.fit_transform(X_train)\n",
        "X_test_std = scaler.transform(X_test)"
      ],
      "execution_count": 132,
      "outputs": []
    },
    {
      "cell_type": "code",
      "metadata": {
        "id": "B2c6_OCfX1Hc"
      },
      "source": [
        "X_train = X_train_std\n",
        "X_test = X_test_std"
      ],
      "execution_count": 133,
      "outputs": []
    },
    {
      "cell_type": "markdown",
      "metadata": {
        "id": "aC70CLvkfOz_"
      },
      "source": [
        "## Feed Forward Neural Network"
      ]
    },
    {
      "cell_type": "code",
      "metadata": {
        "id": "VlWzlikYfVcR"
      },
      "source": [
        "import tensorflow as tf\n",
        "from tensorflow import keras\n",
        "from tensorflow.keras.layers import Dropout, Flatten, Dense\n",
        "from keras import Sequential\n",
        "from tensorflow.nn import relu\n",
        "\n",
        "tf.random.set_seed(21)\n",
        "\n",
        "#Creating a sequential model with 1 hidden layer and drop out layer\n",
        "\n",
        "model = Sequential([\n",
        "    Dense(10, activation = relu), \n",
        "    Dropout(.1), \n",
        "    Dense(10, activation = relu),\n",
        "    Dropout(.1),\n",
        "    Dense(1)\n",
        "])\n",
        "\n",
        "model.compile(optimizer=tf.optimizers.Adam(), \n",
        "              loss='mse',\n",
        "              metrics=['mae', 'mse'])"
      ],
      "execution_count": 134,
      "outputs": []
    },
    {
      "cell_type": "code",
      "metadata": {
        "id": "H5EMmCtNfWYL",
        "colab": {
          "base_uri": "https://localhost:8080/"
        },
        "outputId": "1a06c014-d054-46f4-a196-ddb58ded29af"
      },
      "source": [
        "#Making the output less verbose\n",
        "class PrintDot(keras.callbacks.Callback):\n",
        "    def on_epoch_end(self, epoch, logs):\n",
        "        if epoch % 100 == 0: print('')\n",
        "        print('.', end='')\n",
        "\n",
        "#Creating an early_stop function with a patience of 4. \n",
        "early_stop = keras.callbacks.EarlyStopping(monitor='val_mse', patience=4)\n",
        "\n",
        "#Fitting the model on training data with a validation split of 0.1\n",
        "ff_model = model.fit(X_train, y_train, epochs=1000, verbose=0, validation_split = 0.1,\n",
        "                    callbacks=[early_stop, PrintDot()])"
      ],
      "execution_count": 135,
      "outputs": [
        {
          "output_type": "stream",
          "name": "stdout",
          "text": [
            "\n",
            ".................."
          ]
        }
      ]
    },
    {
      "cell_type": "code",
      "metadata": {
        "id": "K_UidipqfmAz",
        "colab": {
          "base_uri": "https://localhost:8080/"
        },
        "outputId": "de663ebb-9569-469e-c358-698ddeb6f825"
      },
      "source": [
        "#Creating a datafram to store loss, MSE, and MAE for each epoch \n",
        "hist = pd.DataFrame(ff_model.history)\n",
        "hist['epoch'] = ff_model.epoch\n",
        "\n",
        "#Calculating RMSE \n",
        "rmse_final = np.sqrt(float(hist['val_mse'].tail(1)))\n",
        "\n",
        "print('Final Root Mean Square Error on validation set: {}'.format(round(rmse_final, 3)))"
      ],
      "execution_count": 136,
      "outputs": [
        {
          "output_type": "stream",
          "name": "stdout",
          "text": [
            "Final Root Mean Square Error on validation set: 2.038\n"
          ]
        }
      ]
    },
    {
      "cell_type": "code",
      "metadata": {
        "id": "1QyakQt4fmjE",
        "colab": {
          "base_uri": "https://localhost:8080/",
          "height": 614
        },
        "outputId": "f8f7a80e-6955-4e70-f82f-641f2db18b8e"
      },
      "source": [
        "hist"
      ],
      "execution_count": 137,
      "outputs": [
        {
          "output_type": "execute_result",
          "data": {
            "text/html": [
              "<div>\n",
              "<style scoped>\n",
              "    .dataframe tbody tr th:only-of-type {\n",
              "        vertical-align: middle;\n",
              "    }\n",
              "\n",
              "    .dataframe tbody tr th {\n",
              "        vertical-align: top;\n",
              "    }\n",
              "\n",
              "    .dataframe thead th {\n",
              "        text-align: right;\n",
              "    }\n",
              "</style>\n",
              "<table border=\"1\" class=\"dataframe\">\n",
              "  <thead>\n",
              "    <tr style=\"text-align: right;\">\n",
              "      <th></th>\n",
              "      <th>loss</th>\n",
              "      <th>mae</th>\n",
              "      <th>mse</th>\n",
              "      <th>val_loss</th>\n",
              "      <th>val_mae</th>\n",
              "      <th>val_mse</th>\n",
              "      <th>epoch</th>\n",
              "    </tr>\n",
              "  </thead>\n",
              "  <tbody>\n",
              "    <tr>\n",
              "      <th>0</th>\n",
              "      <td>801.427734</td>\n",
              "      <td>27.325077</td>\n",
              "      <td>801.427734</td>\n",
              "      <td>252.835770</td>\n",
              "      <td>14.221697</td>\n",
              "      <td>252.835770</td>\n",
              "      <td>0</td>\n",
              "    </tr>\n",
              "    <tr>\n",
              "      <th>1</th>\n",
              "      <td>116.639488</td>\n",
              "      <td>8.470289</td>\n",
              "      <td>116.639488</td>\n",
              "      <td>35.715862</td>\n",
              "      <td>4.197237</td>\n",
              "      <td>35.715862</td>\n",
              "      <td>1</td>\n",
              "    </tr>\n",
              "    <tr>\n",
              "      <th>2</th>\n",
              "      <td>63.942932</td>\n",
              "      <td>6.217823</td>\n",
              "      <td>63.942932</td>\n",
              "      <td>17.157063</td>\n",
              "      <td>2.887008</td>\n",
              "      <td>17.157063</td>\n",
              "      <td>2</td>\n",
              "    </tr>\n",
              "    <tr>\n",
              "      <th>3</th>\n",
              "      <td>52.488945</td>\n",
              "      <td>5.676965</td>\n",
              "      <td>52.488945</td>\n",
              "      <td>11.644720</td>\n",
              "      <td>2.493256</td>\n",
              "      <td>11.644720</td>\n",
              "      <td>3</td>\n",
              "    </tr>\n",
              "    <tr>\n",
              "      <th>4</th>\n",
              "      <td>47.013714</td>\n",
              "      <td>5.465268</td>\n",
              "      <td>47.013714</td>\n",
              "      <td>8.186923</td>\n",
              "      <td>2.135745</td>\n",
              "      <td>8.186923</td>\n",
              "      <td>4</td>\n",
              "    </tr>\n",
              "    <tr>\n",
              "      <th>5</th>\n",
              "      <td>45.471203</td>\n",
              "      <td>5.321202</td>\n",
              "      <td>45.471203</td>\n",
              "      <td>6.300998</td>\n",
              "      <td>1.904143</td>\n",
              "      <td>6.300998</td>\n",
              "      <td>5</td>\n",
              "    </tr>\n",
              "    <tr>\n",
              "      <th>6</th>\n",
              "      <td>41.208687</td>\n",
              "      <td>5.063767</td>\n",
              "      <td>41.208687</td>\n",
              "      <td>5.840890</td>\n",
              "      <td>1.887474</td>\n",
              "      <td>5.840890</td>\n",
              "      <td>6</td>\n",
              "    </tr>\n",
              "    <tr>\n",
              "      <th>7</th>\n",
              "      <td>42.459126</td>\n",
              "      <td>5.176371</td>\n",
              "      <td>42.459126</td>\n",
              "      <td>5.970162</td>\n",
              "      <td>1.921275</td>\n",
              "      <td>5.970162</td>\n",
              "      <td>7</td>\n",
              "    </tr>\n",
              "    <tr>\n",
              "      <th>8</th>\n",
              "      <td>39.845654</td>\n",
              "      <td>5.036564</td>\n",
              "      <td>39.845654</td>\n",
              "      <td>5.106635</td>\n",
              "      <td>1.749861</td>\n",
              "      <td>5.106635</td>\n",
              "      <td>8</td>\n",
              "    </tr>\n",
              "    <tr>\n",
              "      <th>9</th>\n",
              "      <td>38.818016</td>\n",
              "      <td>4.951037</td>\n",
              "      <td>38.818016</td>\n",
              "      <td>5.000341</td>\n",
              "      <td>1.717769</td>\n",
              "      <td>5.000341</td>\n",
              "      <td>9</td>\n",
              "    </tr>\n",
              "    <tr>\n",
              "      <th>10</th>\n",
              "      <td>37.275028</td>\n",
              "      <td>4.817996</td>\n",
              "      <td>37.275028</td>\n",
              "      <td>4.810340</td>\n",
              "      <td>1.721916</td>\n",
              "      <td>4.810340</td>\n",
              "      <td>10</td>\n",
              "    </tr>\n",
              "    <tr>\n",
              "      <th>11</th>\n",
              "      <td>37.612537</td>\n",
              "      <td>4.865849</td>\n",
              "      <td>37.612537</td>\n",
              "      <td>4.449039</td>\n",
              "      <td>1.630827</td>\n",
              "      <td>4.449039</td>\n",
              "      <td>11</td>\n",
              "    </tr>\n",
              "    <tr>\n",
              "      <th>12</th>\n",
              "      <td>36.209442</td>\n",
              "      <td>4.751965</td>\n",
              "      <td>36.209442</td>\n",
              "      <td>5.245035</td>\n",
              "      <td>1.829024</td>\n",
              "      <td>5.245035</td>\n",
              "      <td>12</td>\n",
              "    </tr>\n",
              "    <tr>\n",
              "      <th>13</th>\n",
              "      <td>35.106045</td>\n",
              "      <td>4.693749</td>\n",
              "      <td>35.106045</td>\n",
              "      <td>4.096254</td>\n",
              "      <td>1.591452</td>\n",
              "      <td>4.096254</td>\n",
              "      <td>13</td>\n",
              "    </tr>\n",
              "    <tr>\n",
              "      <th>14</th>\n",
              "      <td>34.172932</td>\n",
              "      <td>4.620948</td>\n",
              "      <td>34.172932</td>\n",
              "      <td>4.202809</td>\n",
              "      <td>1.569419</td>\n",
              "      <td>4.202809</td>\n",
              "      <td>14</td>\n",
              "    </tr>\n",
              "    <tr>\n",
              "      <th>15</th>\n",
              "      <td>33.709053</td>\n",
              "      <td>4.615266</td>\n",
              "      <td>33.709053</td>\n",
              "      <td>4.679533</td>\n",
              "      <td>1.677590</td>\n",
              "      <td>4.679533</td>\n",
              "      <td>15</td>\n",
              "    </tr>\n",
              "    <tr>\n",
              "      <th>16</th>\n",
              "      <td>32.308079</td>\n",
              "      <td>4.491517</td>\n",
              "      <td>32.308079</td>\n",
              "      <td>4.422277</td>\n",
              "      <td>1.653288</td>\n",
              "      <td>4.422277</td>\n",
              "      <td>16</td>\n",
              "    </tr>\n",
              "    <tr>\n",
              "      <th>17</th>\n",
              "      <td>32.240654</td>\n",
              "      <td>4.496880</td>\n",
              "      <td>32.240654</td>\n",
              "      <td>4.152628</td>\n",
              "      <td>1.568596</td>\n",
              "      <td>4.152628</td>\n",
              "      <td>17</td>\n",
              "    </tr>\n",
              "  </tbody>\n",
              "</table>\n",
              "</div>"
            ],
            "text/plain": [
              "          loss        mae         mse    val_loss    val_mae     val_mse  epoch\n",
              "0   801.427734  27.325077  801.427734  252.835770  14.221697  252.835770      0\n",
              "1   116.639488   8.470289  116.639488   35.715862   4.197237   35.715862      1\n",
              "2    63.942932   6.217823   63.942932   17.157063   2.887008   17.157063      2\n",
              "3    52.488945   5.676965   52.488945   11.644720   2.493256   11.644720      3\n",
              "4    47.013714   5.465268   47.013714    8.186923   2.135745    8.186923      4\n",
              "5    45.471203   5.321202   45.471203    6.300998   1.904143    6.300998      5\n",
              "6    41.208687   5.063767   41.208687    5.840890   1.887474    5.840890      6\n",
              "7    42.459126   5.176371   42.459126    5.970162   1.921275    5.970162      7\n",
              "8    39.845654   5.036564   39.845654    5.106635   1.749861    5.106635      8\n",
              "9    38.818016   4.951037   38.818016    5.000341   1.717769    5.000341      9\n",
              "10   37.275028   4.817996   37.275028    4.810340   1.721916    4.810340     10\n",
              "11   37.612537   4.865849   37.612537    4.449039   1.630827    4.449039     11\n",
              "12   36.209442   4.751965   36.209442    5.245035   1.829024    5.245035     12\n",
              "13   35.106045   4.693749   35.106045    4.096254   1.591452    4.096254     13\n",
              "14   34.172932   4.620948   34.172932    4.202809   1.569419    4.202809     14\n",
              "15   33.709053   4.615266   33.709053    4.679533   1.677590    4.679533     15\n",
              "16   32.308079   4.491517   32.308079    4.422277   1.653288    4.422277     16\n",
              "17   32.240654   4.496880   32.240654    4.152628   1.568596    4.152628     17"
            ]
          },
          "metadata": {},
          "execution_count": 137
        }
      ]
    },
    {
      "cell_type": "code",
      "metadata": {
        "id": "XdQMCFrNfpPF",
        "colab": {
          "base_uri": "https://localhost:8080/",
          "height": 283
        },
        "outputId": "4432a7e3-55c9-40c0-80f4-88c63c809ac9"
      },
      "source": [
        "# plot validation and training error against number of epochs\n",
        "def plot_history():\n",
        "    plt.figure()\n",
        "    plt.xlabel('Epoch')\n",
        "    plt.ylabel('Mean Square Error')\n",
        "    plt.plot(hist['epoch'], hist['mse'], label='Train Error')\n",
        "    plt.plot(hist['epoch'], hist['val_mse'], label = 'Val Error')\n",
        "    plt.legend()\n",
        "    plt.ylim([0,1000])\n",
        "# \n",
        "plot_history()"
      ],
      "execution_count": 138,
      "outputs": [
        {
          "output_type": "display_data",
          "data": {
            "image/png": "[encoded data removed]",
            "text/plain": [
              "<Figure size 432x288 with 1 Axes>"
            ]
          },
          "metadata": {
            "needs_background": "light"
          }
        }
      ]
    },
    {
      "cell_type": "code",
      "metadata": {
        "id": "pA6Hleb3frWl",
        "colab": {
          "base_uri": "https://localhost:8080/"
        },
        "outputId": "a65a3370-a335-40bd-d6b3-23d1544418ed"
      },
      "source": [
        "#Evaluating the model on the test set \n",
        "mse, _, _ = model.evaluate(X_test, y_test)\n",
        "rmse = np.sqrt(mse)\n",
        "print('Root Mean Square Error on test set: {}'.format(round(rmse, 3)))"
      ],
      "execution_count": 139,
      "outputs": [
        {
          "output_type": "stream",
          "name": "stdout",
          "text": [
            "26/26 [==============================] - 0s 3ms/step - loss: 4.1493 - mae: 1.5316 - mse: 4.1493\n",
            "Root Mean Square Error on test set: 2.037\n"
          ]
        }
      ]
    },
    {
      "cell_type": "code",
      "metadata": {
        "colab": {
          "base_uri": "https://localhost:8080/"
        },
        "id": "hJAUuiCgU-Kl",
        "outputId": "071912cd-faf9-4bdf-dafa-21694a6de722"
      },
      "source": [
        "model.summary()\n"
      ],
      "execution_count": 140,
      "outputs": [
        {
          "output_type": "stream",
          "name": "stdout",
          "text": [
            "Model: \"sequential_1\"\n",
            "_________________________________________________________________\n",
            " Layer (type)                Output Shape              Param #   \n",
            "=================================================================\n",
            " dense_3 (Dense)             (None, 10)                2100      \n",
            "                                                                 \n",
            " dropout_2 (Dropout)         (None, 10)                0         \n",
            "                                                                 \n",
            " dense_4 (Dense)             (None, 10)                110       \n",
            "                                                                 \n",
            " dropout_3 (Dropout)         (None, 10)                0         \n",
            "                                                                 \n",
            " dense_5 (Dense)             (None, 1)                 11        \n",
            "                                                                 \n",
            "=================================================================\n",
            "Total params: 2,221\n",
            "Trainable params: 2,221\n",
            "Non-trainable params: 0\n",
            "_________________________________________________________________\n"
          ]
        }
      ]
    },
    {
      "cell_type": "code",
      "metadata": {
        "id": "jGR2M5Ju5mfR"
      },
      "source": [
        "!pip install -q -U keras-tuner"
      ],
      "execution_count": 141,
      "outputs": []
    },
    {
      "cell_type": "markdown",
      "metadata": {
        "id": "L8kBlhbH1pGw"
      },
      "source": [
        "###HyperModel"
      ]
    },
    {
      "cell_type": "code",
      "metadata": {
        "id": "3Pq_vGJUf0WN"
      },
      "source": [
        "import kerastuner as kt\n",
        "from kerastuner import HyperModel"
      ],
      "execution_count": 142,
      "outputs": []
    },
    {
      "cell_type": "code",
      "metadata": {
        "id": "ip0SZCW7f4X6"
      },
      "source": [
        "#Bullding a class with the hyper model; using only relu for activation \n",
        "class RegressionHyperModel(HyperModel):\n",
        "\n",
        "    def __init__(self, input_shape):\n",
        "        self.input_shape = input_shape    \n",
        "    \n",
        "    def build(self, hp): \n",
        "        model = Sequential()\n",
        "        model.add(\n",
        "            Dense( # add a dense layer\n",
        "                units=hp.Int('units', 6, 60, 5, default=6),\n",
        "                activation=hp.Choice(\n",
        "                      'dense_activation',\n",
        "                    values=['relu'],\n",
        "                    default='relu'),\n",
        "                input_shape=input_shape\n",
        "            )\n",
        "        )\n",
        "        model.add( \n",
        "            Dropout(\n",
        "                rate = hp.Float(\n",
        "                    'dropout',\n",
        "                    min_value=0.0,\n",
        "                    max_value=0.5,\n",
        "                    default=0.005,\n",
        "                    step=0.05)\n",
        "            )\n",
        "        )\n",
        "        model.add(\n",
        "            Dense(\n",
        "                units=hp.Int('units', 6, 120, 5, default=12),\n",
        "                activation=hp.Choice(\n",
        "                    'dense_activation',\n",
        "                    values=['relu'],\n",
        "                    default='relu')\n",
        "            )\n",
        "        )  \n",
        "        model.add(\n",
        "            Dropout(\n",
        "                rate = hp.Float(\n",
        "                    'dropout',\n",
        "                    min_value=0.0,\n",
        "                    max_value=0.5,\n",
        "                    default=0.005,\n",
        "                    step=0.05)\n",
        "            )\n",
        "        ) \n",
        "        model.add(\n",
        "            Dense(1)\n",
        "            )\n",
        "            \n",
        "        \n",
        "        #Compile\n",
        "        model.compile(\n",
        "            optimizer=keras.optimizers.Adam(\n",
        "                hp.Choice('learning_rate', \n",
        "                          values=[1e-2, 1e-3])),\n",
        "                      loss='mse',\n",
        "                      metrics=['mse'])\n",
        "        return model"
      ],
      "execution_count": 143,
      "outputs": []
    },
    {
      "cell_type": "code",
      "metadata": {
        "id": "MKMk173hf6VY"
      },
      "source": [
        "#Number of features\n",
        "input_shape = (X_train.shape[1],) \n",
        "#class RegressionHyperModel \n",
        "hypermodel = RegressionHyperModel(input_shape) "
      ],
      "execution_count": 144,
      "outputs": []
    },
    {
      "cell_type": "code",
      "metadata": {
        "id": "vLPIc7Rif8Zz"
      },
      "source": [
        "#Defining to clear training output after each run of hyperparam tuning\n",
        "import IPython\n",
        "class ClearTrainingOutput(tf.keras.callbacks.Callback):\n",
        "  def on_train_end(*args, **kwargs):\n",
        "    IPython.display.clear_output(wait = True)"
      ],
      "execution_count": 145,
      "outputs": []
    },
    {
      "cell_type": "markdown",
      "metadata": {
        "id": "3ZEwageR1zto"
      },
      "source": [
        "###HyperBand search"
      ]
    },
    {
      "cell_type": "code",
      "metadata": {
        "id": "faZ-2vI8f-UZ"
      },
      "source": [
        "#Hyperband tuner with factor 4 and iterations 1\n",
        "from kerastuner import Hyperband\n",
        "# Hyperband optimization \n",
        "tuner_hb = Hyperband(\n",
        "            hypermodel,\n",
        "            objective='val_mse',  \n",
        "            factor=4, \n",
        "            hyperband_iterations=1,\n",
        "            seed=42,\n",
        "            overwrite=True   \n",
        "        )"
      ],
      "execution_count": 146,
      "outputs": []
    },
    {
      "cell_type": "code",
      "metadata": {
        "id": "-SPzEbLIJaMR",
        "colab": {
          "base_uri": "https://localhost:8080/"
        },
        "outputId": "9772e02f-f0c6-460d-cfa6-a6bc4dfa04f7"
      },
      "source": [
        "#Tuning the hyperband\n",
        "tuner_hb.search(X_train, y_train, epochs=20, validation_split=0.1, verbose=0, \n",
        "                callbacks=[keras.callbacks.EarlyStopping(monitor='val_loss', patience=4), ClearTrainingOutput()])"
      ],
      "execution_count": 147,
      "outputs": [
        {
          "output_type": "stream",
          "name": "stdout",
          "text": [
            "INFO:tensorflow:Oracle triggered exit\n"
          ]
        }
      ]
    },
    {
      "cell_type": "markdown",
      "metadata": {
        "id": "YwVHUSTx2EqD"
      },
      "source": [
        "###Inspecting and refitting the best model"
      ]
    },
    {
      "cell_type": "code",
      "metadata": {
        "id": "3UnGxeBgyn28",
        "colab": {
          "base_uri": "https://localhost:8080/"
        },
        "outputId": "72989fe0-f21a-45ad-d8d3-466ad180bd60"
      },
      "source": [
        "best_model_hb = tuner_hb.get_best_models(num_models=1)[0]\n",
        "best_model_hb.evaluate(X_test, y_test)"
      ],
      "execution_count": 148,
      "outputs": [
        {
          "output_type": "stream",
          "name": "stdout",
          "text": [
            "26/26 [==============================] - 0s 3ms/step - loss: 2.2636 - mse: 2.2636\n"
          ]
        },
        {
          "output_type": "execute_result",
          "data": {
            "text/plain": [
              "[2.2635767459869385, 2.2635767459869385]"
            ]
          },
          "metadata": {},
          "execution_count": 148
        }
      ]
    },
    {
      "cell_type": "code",
      "metadata": {
        "id": "P7RLIDOsnd44"
      },
      "source": [
        "tuned_model = tuner_hb.get_best_models(1)[0]\n",
        "tuned_model_params = tuned_model.get_config()"
      ],
      "execution_count": 149,
      "outputs": []
    },
    {
      "cell_type": "code",
      "metadata": {
        "id": "mBI6SoLYnfFd",
        "colab": {
          "base_uri": "https://localhost:8080/"
        },
        "outputId": "4ca5a36a-b5ae-425e-fa87-1582fe3b94fd"
      },
      "source": [
        "for i in range(1, len(tuned_model_params['layers'])-1):\n",
        "  print('layer number: {}'.format(i))\n",
        "  if i%2 == 0:\n",
        "    print('layer name: {}'.format(tuned_model_params['layers'][i]['config']['name']), ', dropout rate: {}'.format(tuned_model_params['layers'][i]['config']['rate']))\n",
        "  else:\n",
        "    print('layer name: {}'.format(tuned_model_params['layers'][i]['config']['name']), ', activation: {}'.format(tuned_model_params['layers'][i]['config']['activation']), ', number of nodes: {}'.format(tuned_model_params['layers'][i]['config']['units']))\n",
        "  print('---------------------------------------')"
      ],
      "execution_count": 150,
      "outputs": [
        {
          "output_type": "stream",
          "name": "stdout",
          "text": [
            "layer number: 1\n",
            "layer name: dense , activation: relu , number of nodes: 41\n",
            "---------------------------------------\n",
            "layer number: 2\n",
            "layer name: dropout , dropout rate: 0.25\n",
            "---------------------------------------\n",
            "layer number: 3\n",
            "layer name: dense_1 , activation: relu , number of nodes: 41\n",
            "---------------------------------------\n",
            "layer number: 4\n",
            "layer name: dropout_1 , dropout rate: 0.25\n",
            "---------------------------------------\n"
          ]
        }
      ]
    },
    {
      "cell_type": "code",
      "metadata": {
        "id": "yVckeQiagAAT",
        "colab": {
          "base_uri": "https://localhost:8080/"
        },
        "outputId": "bda3691c-74d6-42ff-c15c-e8e7ef98a51e"
      },
      "source": [
        "best_model_hb = tuner_hb.get_best_models(num_models=1)[0]\n",
        "best_model_hb.summary()"
      ],
      "execution_count": 151,
      "outputs": [
        {
          "output_type": "stream",
          "name": "stdout",
          "text": [
            "WARNING:tensorflow:Unresolved object in checkpoint: (root).optimizer.iter\n",
            "WARNING:tensorflow:Unresolved object in checkpoint: (root).optimizer.beta_1\n",
            "WARNING:tensorflow:Unresolved object in checkpoint: (root).optimizer.beta_2\n",
            "WARNING:tensorflow:Unresolved object in checkpoint: (root).optimizer.decay\n",
            "WARNING:tensorflow:Unresolved object in checkpoint: (root).optimizer.learning_rate\n",
            "WARNING:tensorflow:A checkpoint was restored (e.g. tf.train.Checkpoint.restore or tf.keras.Model.load_weights) but not all checkpointed values were used. See above for specific issues. Use expect_partial() on the load status object, e.g. tf.train.Checkpoint.restore(...).expect_partial(), to silence these warnings, or use assert_consumed() to make the check explicit. See https://www.tensorflow.org/guide/checkpoint#loading_mechanics for details.\n",
            "Model: \"sequential\"\n",
            "_________________________________________________________________\n",
            " Layer (type)                Output Shape              Param #   \n",
            "=================================================================\n",
            " dense (Dense)               (None, 41)                8610      \n",
            "                                                                 \n",
            " dropout (Dropout)           (None, 41)                0         \n",
            "                                                                 \n",
            " dense_1 (Dense)             (None, 41)                1722      \n",
            "                                                                 \n",
            " dropout_1 (Dropout)         (None, 41)                0         \n",
            "                                                                 \n",
            " dense_2 (Dense)             (None, 1)                 42        \n",
            "                                                                 \n",
            "=================================================================\n",
            "Total params: 10,374\n",
            "Trainable params: 10,374\n",
            "Non-trainable params: 0\n",
            "_________________________________________________________________\n"
          ]
        }
      ]
    },
    {
      "cell_type": "code",
      "metadata": {
        "id": "fWvqOkfigDxz",
        "colab": {
          "base_uri": "https://localhost:8080/"
        },
        "outputId": "7a94c751-d116-459d-9ff3-a15f1b1394e2"
      },
      "source": [
        "indoortemp_tuned_model_hb = best_model_hb.fit(X_train, y_train, epochs=1000, verbose=0, validation_split = 0.1,\n",
        "                    callbacks=[early_stop, PrintDot()])"
      ],
      "execution_count": 152,
      "outputs": [
        {
          "output_type": "stream",
          "name": "stdout",
          "text": [
            "\n",
            "..........."
          ]
        }
      ]
    },
    {
      "cell_type": "code",
      "metadata": {
        "id": "0AcPvPcEgFe6",
        "colab": {
          "base_uri": "https://localhost:8080/"
        },
        "outputId": "43c63fdc-d625-41ee-c38d-3b2488f67d0a"
      },
      "source": [
        "hist_tuned_hb = pd.DataFrame(indoortemp_tuned_model_hb.history)\n",
        "hist_tuned_hb['epoch'] = indoortemp_tuned_model_hb.epoch\n",
        "\n",
        "# show RMSE measure \n",
        "rmse_final = np.sqrt(float(hist_tuned_hb['val_mse'].tail(1)))\n",
        "\n",
        "print('Root Mean Square Error on validation set after tuning: {}'.format(round(rmse_final, 3)))"
      ],
      "execution_count": 153,
      "outputs": [
        {
          "output_type": "stream",
          "name": "stdout",
          "text": [
            "Root Mean Square Error on validation set after tuning: 1.66\n"
          ]
        }
      ]
    },
    {
      "cell_type": "code",
      "metadata": {
        "id": "3vF-_RlxgH54",
        "colab": {
          "base_uri": "https://localhost:8080/",
          "height": 394
        },
        "outputId": "efdc9521-b0a5-4561-a67f-054e208691a0"
      },
      "source": [
        "hist_tuned_hb"
      ],
      "execution_count": 154,
      "outputs": [
        {
          "output_type": "execute_result",
          "data": {
            "text/html": [
              "<div>\n",
              "<style scoped>\n",
              "    .dataframe tbody tr th:only-of-type {\n",
              "        vertical-align: middle;\n",
              "    }\n",
              "\n",
              "    .dataframe tbody tr th {\n",
              "        vertical-align: top;\n",
              "    }\n",
              "\n",
              "    .dataframe thead th {\n",
              "        text-align: right;\n",
              "    }\n",
              "</style>\n",
              "<table border=\"1\" class=\"dataframe\">\n",
              "  <thead>\n",
              "    <tr style=\"text-align: right;\">\n",
              "      <th></th>\n",
              "      <th>loss</th>\n",
              "      <th>mse</th>\n",
              "      <th>val_loss</th>\n",
              "      <th>val_mse</th>\n",
              "      <th>epoch</th>\n",
              "    </tr>\n",
              "  </thead>\n",
              "  <tbody>\n",
              "    <tr>\n",
              "      <th>0</th>\n",
              "      <td>7.602757</td>\n",
              "      <td>7.602757</td>\n",
              "      <td>2.512745</td>\n",
              "      <td>2.512745</td>\n",
              "      <td>0</td>\n",
              "    </tr>\n",
              "    <tr>\n",
              "      <th>1</th>\n",
              "      <td>7.232864</td>\n",
              "      <td>7.232864</td>\n",
              "      <td>2.926336</td>\n",
              "      <td>2.926336</td>\n",
              "      <td>1</td>\n",
              "    </tr>\n",
              "    <tr>\n",
              "      <th>2</th>\n",
              "      <td>6.473098</td>\n",
              "      <td>6.473098</td>\n",
              "      <td>2.403380</td>\n",
              "      <td>2.403380</td>\n",
              "      <td>2</td>\n",
              "    </tr>\n",
              "    <tr>\n",
              "      <th>3</th>\n",
              "      <td>6.475968</td>\n",
              "      <td>6.475968</td>\n",
              "      <td>2.539778</td>\n",
              "      <td>2.539778</td>\n",
              "      <td>3</td>\n",
              "    </tr>\n",
              "    <tr>\n",
              "      <th>4</th>\n",
              "      <td>6.296517</td>\n",
              "      <td>6.296517</td>\n",
              "      <td>2.743249</td>\n",
              "      <td>2.743249</td>\n",
              "      <td>4</td>\n",
              "    </tr>\n",
              "    <tr>\n",
              "      <th>5</th>\n",
              "      <td>6.071621</td>\n",
              "      <td>6.071621</td>\n",
              "      <td>2.366963</td>\n",
              "      <td>2.366963</td>\n",
              "      <td>5</td>\n",
              "    </tr>\n",
              "    <tr>\n",
              "      <th>6</th>\n",
              "      <td>5.775817</td>\n",
              "      <td>5.775817</td>\n",
              "      <td>2.343122</td>\n",
              "      <td>2.343122</td>\n",
              "      <td>6</td>\n",
              "    </tr>\n",
              "    <tr>\n",
              "      <th>7</th>\n",
              "      <td>5.415469</td>\n",
              "      <td>5.415469</td>\n",
              "      <td>2.822937</td>\n",
              "      <td>2.822937</td>\n",
              "      <td>7</td>\n",
              "    </tr>\n",
              "    <tr>\n",
              "      <th>8</th>\n",
              "      <td>5.078903</td>\n",
              "      <td>5.078903</td>\n",
              "      <td>2.370230</td>\n",
              "      <td>2.370230</td>\n",
              "      <td>8</td>\n",
              "    </tr>\n",
              "    <tr>\n",
              "      <th>9</th>\n",
              "      <td>4.837452</td>\n",
              "      <td>4.837452</td>\n",
              "      <td>2.373446</td>\n",
              "      <td>2.373446</td>\n",
              "      <td>9</td>\n",
              "    </tr>\n",
              "    <tr>\n",
              "      <th>10</th>\n",
              "      <td>4.793914</td>\n",
              "      <td>4.793914</td>\n",
              "      <td>2.755063</td>\n",
              "      <td>2.755063</td>\n",
              "      <td>10</td>\n",
              "    </tr>\n",
              "  </tbody>\n",
              "</table>\n",
              "</div>"
            ],
            "text/plain": [
              "        loss       mse  val_loss   val_mse  epoch\n",
              "0   7.602757  7.602757  2.512745  2.512745      0\n",
              "1   7.232864  7.232864  2.926336  2.926336      1\n",
              "2   6.473098  6.473098  2.403380  2.403380      2\n",
              "3   6.475968  6.475968  2.539778  2.539778      3\n",
              "4   6.296517  6.296517  2.743249  2.743249      4\n",
              "5   6.071621  6.071621  2.366963  2.366963      5\n",
              "6   5.775817  5.775817  2.343122  2.343122      6\n",
              "7   5.415469  5.415469  2.822937  2.822937      7\n",
              "8   5.078903  5.078903  2.370230  2.370230      8\n",
              "9   4.837452  4.837452  2.373446  2.373446      9\n",
              "10  4.793914  4.793914  2.755063  2.755063     10"
            ]
          },
          "metadata": {},
          "execution_count": 154
        }
      ]
    },
    {
      "cell_type": "code",
      "metadata": {
        "id": "SUE6qEX5gJrC",
        "colab": {
          "base_uri": "https://localhost:8080/"
        },
        "outputId": "b0fa2640-a079-436b-9163-f9b5316e70d6"
      },
      "source": [
        "loss_tuned, mse_tuned = best_model_hb.evaluate(X_test, y_test)\n",
        "\n",
        "print('Root Mean Square Error on test set after tuning: {}'.format(round(np.sqrt(mse_tuned), 3)))\n",
        "\n",
        "best_hps = tuner_hb.get_best_hyperparameters(num_trials = 1)[0]\n",
        "\n",
        "print(\"and the optimal learning rate for the optimizer is {}\".format(best_hps.get('learning_rate')))\n"
      ],
      "execution_count": 155,
      "outputs": [
        {
          "output_type": "stream",
          "name": "stdout",
          "text": [
            "26/26 [==============================] - 0s 3ms/step - loss: 2.5883 - mse: 2.5883\n",
            "Root Mean Square Error on test set after tuning: 1.609\n",
            "and the optimal learning rate for the optimizer is 0.01\n"
          ]
        }
      ]
    }
  ]
}