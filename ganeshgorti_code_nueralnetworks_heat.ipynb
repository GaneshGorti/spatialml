{
  "nbformat": 4,
  "nbformat_minor": 0,
  "metadata": {
    "kernelspec": {
      "display_name": "Python 3",
      "language": "python",
      "name": "python3"
    },
    "language_info": {
      "codemirror_mode": {
        "name": "ipython",
        "version": 3
      },
      "file_extension": ".py",
      "mimetype": "text/x-python",
      "name": "python",
      "nbconvert_exporter": "python",
      "pygments_lexer": "ipython3",
      "version": "3.7.6"
    },
    "colab": {
      "name": "ganeshgorti_code_nueralnetworks_heat.ipynb",
      "provenance": [],
      "collapsed_sections": []
    },
    "accelerator": "GPU"
  },
  "cells": [
    {
      "cell_type": "markdown",
      "metadata": {
        "id": "XugT-f7wrrM0"
      },
      "source": [
        "## Ganesh Gorti, 5th December 2021\n",
        "\n",
        "### Deep learning model try (see previous notebook for code on regression models)\n",
        "\n",
        "This code analyses maximum indoor temperature data from 60 households in New Delhi, India. The data was collected between April 2017 and October 2017. The aim of this analysis is to predict the maximum indoor temperatures daily based on a range of features. These include\n",
        "\n",
        "- Daily maximum outdoor temperature (in degree celsius)\n",
        "- Daily maximum outdoor humidity\n",
        "- Daily maximum outdoor windspeed (in KMPH)\n",
        "- Daily maximum heatindex\n",
        "- Daily maximum rainfall. (in mm)\n",
        "- Daily maximum solar radiation\n",
        "- Floor on top (dummy coded as yes or no)\n",
        "- Roof Structure (tin sheet, stone slab, concrete, bricks)\n",
        "- Wall material (concrete/bricks)\n",
        "- Number of ceiling fans\n",
        "- Number of evaporative coolers\n",
        "- Flowing ventilation (coded as 0 if no ventilation, 1 if windows are present)\n",
        "- Local Climate Zone classification\n",
        "- Outcome variable -- temp\n",
        "\n",
        "Code adapted from Morteza Karmizadeh\n"
      ]
    },
    {
      "cell_type": "code",
      "metadata": {
        "id": "KO4dO2DGcoM8"
      },
      "source": [
        "import pandas as pd\n",
        "import numpy as np \n",
        "import matplotlib.pyplot as plt\n",
        "import sklearn"
      ],
      "execution_count": null,
      "outputs": []
    },
    {
      "cell_type": "code",
      "metadata": {
        "id": "H9NzSS3UcoM_"
      },
      "source": [
        "import seaborn as sns\n",
        "import matplotlib as mpl\n",
        "import matplotlib.pyplot as plt\n",
        "%matplotlib inline\n",
        "from mpl_toolkits.mplot3d import Axes3D\n",
        "from matplotlib.collections import PolyCollection"
      ],
      "execution_count": null,
      "outputs": []
    },
    {
      "cell_type": "markdown",
      "metadata": {
        "id": "pIirtJ6Ojnrk"
      },
      "source": [
        "## Loading Data"
      ]
    },
    {
      "cell_type": "code",
      "metadata": {
        "id": "myrnrjrng8BX",
        "colab": {
          "base_uri": "https://localhost:8080/",
          "height": 313
        },
        "outputId": "4f27de15-ead0-4d97-bbb2-c9174cb37b50"
      },
      "source": [
        "indoortemp_df = pd.read_csv('https://raw.githubusercontent.com/GaneshGorti/spatialml/main/masterdata.csv') \n",
        "indoortemp_df.head()"
      ],
      "execution_count": null,
      "outputs": [
        {
          "output_type": "execute_result",
          "data": {
            "text/html": [
              "<div>\n",
              "<style scoped>\n",
              "    .dataframe tbody tr th:only-of-type {\n",
              "        vertical-align: middle;\n",
              "    }\n",
              "\n",
              "    .dataframe tbody tr th {\n",
              "        vertical-align: top;\n",
              "    }\n",
              "\n",
              "    .dataframe thead th {\n",
              "        text-align: right;\n",
              "    }\n",
              "</style>\n",
              "<table border=\"1\" class=\"dataframe\">\n",
              "  <thead>\n",
              "    <tr style=\"text-align: right;\">\n",
              "      <th></th>\n",
              "      <th>logger</th>\n",
              "      <th>date</th>\n",
              "      <th>temp</th>\n",
              "      <th>Temp_Out</th>\n",
              "      <th>Out_Hum</th>\n",
              "      <th>Wind_Speed</th>\n",
              "      <th>Heat_Index</th>\n",
              "      <th>Rain</th>\n",
              "      <th>Solar_Rad</th>\n",
              "      <th>Area</th>\n",
              "      <th>Floor</th>\n",
              "      <th>Floor_on_top</th>\n",
              "      <th>Roof_structure</th>\n",
              "      <th>Wall_material</th>\n",
              "      <th>Fan</th>\n",
              "      <th>Evaporative_cooler</th>\n",
              "      <th>Flowing_ventilation</th>\n",
              "      <th>LCZ</th>\n",
              "    </tr>\n",
              "  </thead>\n",
              "  <tbody>\n",
              "    <tr>\n",
              "      <th>0</th>\n",
              "      <td>10692989</td>\n",
              "      <td>12/04/16</td>\n",
              "      <td>31.4</td>\n",
              "      <td>34.3</td>\n",
              "      <td>29</td>\n",
              "      <td>1.8</td>\n",
              "      <td>32.5</td>\n",
              "      <td>0.0</td>\n",
              "      <td>906</td>\n",
              "      <td>Railway Colony</td>\n",
              "      <td>4</td>\n",
              "      <td>no</td>\n",
              "      <td>concrete</td>\n",
              "      <td>bricks</td>\n",
              "      <td>1</td>\n",
              "      <td>yes</td>\n",
              "      <td>1.0</td>\n",
              "      <td>2</td>\n",
              "    </tr>\n",
              "    <tr>\n",
              "      <th>1</th>\n",
              "      <td>10692990</td>\n",
              "      <td>12/04/16</td>\n",
              "      <td>31.5</td>\n",
              "      <td>34.3</td>\n",
              "      <td>29</td>\n",
              "      <td>1.8</td>\n",
              "      <td>32.5</td>\n",
              "      <td>0.0</td>\n",
              "      <td>906</td>\n",
              "      <td>Kasturbha Nagar</td>\n",
              "      <td>1</td>\n",
              "      <td>no</td>\n",
              "      <td>concrete</td>\n",
              "      <td>bricks</td>\n",
              "      <td>1</td>\n",
              "      <td>yes</td>\n",
              "      <td>1.0</td>\n",
              "      <td>5</td>\n",
              "    </tr>\n",
              "    <tr>\n",
              "      <th>2</th>\n",
              "      <td>10692993</td>\n",
              "      <td>12/04/16</td>\n",
              "      <td>32.7</td>\n",
              "      <td>34.3</td>\n",
              "      <td>29</td>\n",
              "      <td>1.8</td>\n",
              "      <td>32.5</td>\n",
              "      <td>0.0</td>\n",
              "      <td>906</td>\n",
              "      <td>Sarai Kale Khan</td>\n",
              "      <td>3</td>\n",
              "      <td>yes</td>\n",
              "      <td>floor on top</td>\n",
              "      <td>bricks</td>\n",
              "      <td>1</td>\n",
              "      <td>yes</td>\n",
              "      <td>0.0</td>\n",
              "      <td>3</td>\n",
              "    </tr>\n",
              "    <tr>\n",
              "      <th>3</th>\n",
              "      <td>10692995</td>\n",
              "      <td>12/04/16</td>\n",
              "      <td>32.9</td>\n",
              "      <td>34.3</td>\n",
              "      <td>29</td>\n",
              "      <td>1.8</td>\n",
              "      <td>32.5</td>\n",
              "      <td>0.0</td>\n",
              "      <td>906</td>\n",
              "      <td>Lodhi Colony</td>\n",
              "      <td>2</td>\n",
              "      <td>no</td>\n",
              "      <td>concrete</td>\n",
              "      <td>bricks</td>\n",
              "      <td>1</td>\n",
              "      <td>yes</td>\n",
              "      <td>1.0</td>\n",
              "      <td>6</td>\n",
              "    </tr>\n",
              "    <tr>\n",
              "      <th>4</th>\n",
              "      <td>10692998</td>\n",
              "      <td>12/04/16</td>\n",
              "      <td>32.4</td>\n",
              "      <td>34.3</td>\n",
              "      <td>29</td>\n",
              "      <td>1.8</td>\n",
              "      <td>32.5</td>\n",
              "      <td>0.0</td>\n",
              "      <td>906</td>\n",
              "      <td>Patparganj slum</td>\n",
              "      <td>0</td>\n",
              "      <td>yes</td>\n",
              "      <td>floor on top</td>\n",
              "      <td>bricks</td>\n",
              "      <td>1</td>\n",
              "      <td>yes</td>\n",
              "      <td>1.0</td>\n",
              "      <td>2</td>\n",
              "    </tr>\n",
              "  </tbody>\n",
              "</table>\n",
              "</div>"
            ],
            "text/plain": [
              "     logger      date  temp  ...  Evaporative_cooler  Flowing_ventilation  LCZ\n",
              "0  10692989  12/04/16  31.4  ...                 yes                  1.0    2\n",
              "1  10692990  12/04/16  31.5  ...                 yes                  1.0    5\n",
              "2  10692993  12/04/16  32.7  ...                 yes                  0.0    3\n",
              "3  10692995  12/04/16  32.9  ...                 yes                  1.0    6\n",
              "4  10692998  12/04/16  32.4  ...                 yes                  1.0    2\n",
              "\n",
              "[5 rows x 18 columns]"
            ]
          },
          "metadata": {},
          "execution_count": 20
        }
      ]
    },
    {
      "cell_type": "code",
      "metadata": {
        "id": "jQ22baxHhWFJ"
      },
      "source": [
        "indoortemp_df.isnull().sum().sum()\n",
        "indoorcleaned_df = indoortemp_df.dropna()"
      ],
      "execution_count": null,
      "outputs": []
    },
    {
      "cell_type": "markdown",
      "metadata": {
        "id": "oosOMa97lJkC"
      },
      "source": [
        "### Exploring the data"
      ]
    },
    {
      "cell_type": "code",
      "metadata": {
        "id": "p9cI0pukFytF",
        "colab": {
          "base_uri": "https://localhost:8080/"
        },
        "outputId": "0ea84daf-ed9b-4843-9bbd-a7997172bf1e"
      },
      "source": [
        "#Dropping Area column \n",
        "indoorcleaned_df.drop(columns=['Area'], inplace=True)\n",
        "indoorcleaned_df.shape"
      ],
      "execution_count": null,
      "outputs": [
        {
          "output_type": "stream",
          "name": "stderr",
          "text": [
            "/usr/local/lib/python3.7/dist-packages/pandas/core/frame.py:4174: SettingWithCopyWarning: \n",
            "A value is trying to be set on a copy of a slice from a DataFrame\n",
            "\n",
            "See the caveats in the documentation: https://pandas.pydata.org/pandas-docs/stable/user_guide/indexing.html#returning-a-view-versus-a-copy\n",
            "  errors=errors,\n"
          ]
        },
        {
          "output_type": "execute_result",
          "data": {
            "text/plain": [
              "(8039, 17)"
            ]
          },
          "metadata": {},
          "execution_count": 22
        }
      ]
    },
    {
      "cell_type": "code",
      "metadata": {
        "id": "7uahDxg2OXhp",
        "colab": {
          "base_uri": "https://localhost:8080/",
          "height": 394
        },
        "outputId": "414a23ed-8c8c-4965-f55f-666fca770e0e"
      },
      "source": [
        "#Data Distribution\n",
        "indoorcleaned_df.iloc[:,1:].describe().T"
      ],
      "execution_count": null,
      "outputs": [
        {
          "output_type": "execute_result",
          "data": {
            "text/html": [
              "<div>\n",
              "<style scoped>\n",
              "    .dataframe tbody tr th:only-of-type {\n",
              "        vertical-align: middle;\n",
              "    }\n",
              "\n",
              "    .dataframe tbody tr th {\n",
              "        vertical-align: top;\n",
              "    }\n",
              "\n",
              "    .dataframe thead th {\n",
              "        text-align: right;\n",
              "    }\n",
              "</style>\n",
              "<table border=\"1\" class=\"dataframe\">\n",
              "  <thead>\n",
              "    <tr style=\"text-align: right;\">\n",
              "      <th></th>\n",
              "      <th>count</th>\n",
              "      <th>mean</th>\n",
              "      <th>std</th>\n",
              "      <th>min</th>\n",
              "      <th>25%</th>\n",
              "      <th>50%</th>\n",
              "      <th>75%</th>\n",
              "      <th>max</th>\n",
              "    </tr>\n",
              "  </thead>\n",
              "  <tbody>\n",
              "    <tr>\n",
              "      <th>temp</th>\n",
              "      <td>8039.0</td>\n",
              "      <td>34.422217</td>\n",
              "      <td>3.206706</td>\n",
              "      <td>28.0</td>\n",
              "      <td>32.1</td>\n",
              "      <td>33.7</td>\n",
              "      <td>36.10</td>\n",
              "      <td>48.70</td>\n",
              "    </tr>\n",
              "    <tr>\n",
              "      <th>Temp_Out</th>\n",
              "      <td>8039.0</td>\n",
              "      <td>35.638263</td>\n",
              "      <td>3.663782</td>\n",
              "      <td>26.7</td>\n",
              "      <td>33.4</td>\n",
              "      <td>35.2</td>\n",
              "      <td>38.20</td>\n",
              "      <td>43.50</td>\n",
              "    </tr>\n",
              "    <tr>\n",
              "      <th>Out_Hum</th>\n",
              "      <td>8039.0</td>\n",
              "      <td>76.108471</td>\n",
              "      <td>20.764600</td>\n",
              "      <td>23.0</td>\n",
              "      <td>59.0</td>\n",
              "      <td>85.0</td>\n",
              "      <td>91.00</td>\n",
              "      <td>98.00</td>\n",
              "    </tr>\n",
              "    <tr>\n",
              "      <th>Wind_Speed</th>\n",
              "      <td>8039.0</td>\n",
              "      <td>1.056723</td>\n",
              "      <td>0.553592</td>\n",
              "      <td>0.0</td>\n",
              "      <td>0.9</td>\n",
              "      <td>0.9</td>\n",
              "      <td>1.30</td>\n",
              "      <td>4.00</td>\n",
              "    </tr>\n",
              "    <tr>\n",
              "      <th>Heat_Index</th>\n",
              "      <td>8039.0</td>\n",
              "      <td>41.322515</td>\n",
              "      <td>4.545295</td>\n",
              "      <td>31.2</td>\n",
              "      <td>38.1</td>\n",
              "      <td>41.3</td>\n",
              "      <td>44.70</td>\n",
              "      <td>52.00</td>\n",
              "    </tr>\n",
              "    <tr>\n",
              "      <th>Rain</th>\n",
              "      <td>8039.0</td>\n",
              "      <td>1.714142</td>\n",
              "      <td>5.978278</td>\n",
              "      <td>0.0</td>\n",
              "      <td>0.0</td>\n",
              "      <td>0.0</td>\n",
              "      <td>0.25</td>\n",
              "      <td>39.12</td>\n",
              "    </tr>\n",
              "    <tr>\n",
              "      <th>Solar_Rad</th>\n",
              "      <td>8039.0</td>\n",
              "      <td>693.856325</td>\n",
              "      <td>184.398678</td>\n",
              "      <td>0.0</td>\n",
              "      <td>614.0</td>\n",
              "      <td>747.0</td>\n",
              "      <td>825.00</td>\n",
              "      <td>966.00</td>\n",
              "    </tr>\n",
              "    <tr>\n",
              "      <th>Floor</th>\n",
              "      <td>8039.0</td>\n",
              "      <td>1.779201</td>\n",
              "      <td>1.328815</td>\n",
              "      <td>0.0</td>\n",
              "      <td>1.0</td>\n",
              "      <td>1.0</td>\n",
              "      <td>3.00</td>\n",
              "      <td>4.00</td>\n",
              "    </tr>\n",
              "    <tr>\n",
              "      <th>Fan</th>\n",
              "      <td>8039.0</td>\n",
              "      <td>0.867770</td>\n",
              "      <td>0.338762</td>\n",
              "      <td>0.0</td>\n",
              "      <td>1.0</td>\n",
              "      <td>1.0</td>\n",
              "      <td>1.00</td>\n",
              "      <td>1.00</td>\n",
              "    </tr>\n",
              "    <tr>\n",
              "      <th>Flowing_ventilation</th>\n",
              "      <td>8039.0</td>\n",
              "      <td>0.583841</td>\n",
              "      <td>0.460763</td>\n",
              "      <td>0.0</td>\n",
              "      <td>0.0</td>\n",
              "      <td>1.0</td>\n",
              "      <td>1.00</td>\n",
              "      <td>1.00</td>\n",
              "    </tr>\n",
              "    <tr>\n",
              "      <th>LCZ</th>\n",
              "      <td>8039.0</td>\n",
              "      <td>3.787163</td>\n",
              "      <td>1.625363</td>\n",
              "      <td>2.0</td>\n",
              "      <td>2.0</td>\n",
              "      <td>3.0</td>\n",
              "      <td>5.00</td>\n",
              "      <td>6.00</td>\n",
              "    </tr>\n",
              "  </tbody>\n",
              "</table>\n",
              "</div>"
            ],
            "text/plain": [
              "                      count        mean         std  ...    50%     75%     max\n",
              "temp                 8039.0   34.422217    3.206706  ...   33.7   36.10   48.70\n",
              "Temp_Out             8039.0   35.638263    3.663782  ...   35.2   38.20   43.50\n",
              "Out_Hum              8039.0   76.108471   20.764600  ...   85.0   91.00   98.00\n",
              "Wind_Speed           8039.0    1.056723    0.553592  ...    0.9    1.30    4.00\n",
              "Heat_Index           8039.0   41.322515    4.545295  ...   41.3   44.70   52.00\n",
              "Rain                 8039.0    1.714142    5.978278  ...    0.0    0.25   39.12\n",
              "Solar_Rad            8039.0  693.856325  184.398678  ...  747.0  825.00  966.00\n",
              "Floor                8039.0    1.779201    1.328815  ...    1.0    3.00    4.00\n",
              "Fan                  8039.0    0.867770    0.338762  ...    1.0    1.00    1.00\n",
              "Flowing_ventilation  8039.0    0.583841    0.460763  ...    1.0    1.00    1.00\n",
              "LCZ                  8039.0    3.787163    1.625363  ...    3.0    5.00    6.00\n",
              "\n",
              "[11 rows x 8 columns]"
            ]
          },
          "metadata": {},
          "execution_count": 23
        }
      ]
    },
    {
      "cell_type": "markdown",
      "metadata": {
        "id": "5MMXgjJRQN2O"
      },
      "source": [
        "Target variable distribution"
      ]
    },
    {
      "cell_type": "code",
      "metadata": {
        "id": "fB_CoA1nnJuV",
        "colab": {
          "base_uri": "https://localhost:8080/",
          "height": 587
        },
        "outputId": "fc7b480c-9e69-49b8-d19a-a535948c8a29"
      },
      "source": [
        "from scipy.stats import norm\n",
        "plt.figure(figsize=(8,8))\n",
        "sns.distplot(indoorcleaned_df['temp'], fit=norm)\n",
        "plt.title(\"Target variable Distribution Plot\",size=15, weight='bold')"
      ],
      "execution_count": null,
      "outputs": [
        {
          "output_type": "stream",
          "name": "stderr",
          "text": [
            "/usr/local/lib/python3.7/dist-packages/seaborn/distributions.py:2619: FutureWarning: `distplot` is a deprecated function and will be removed in a future version. Please adapt your code to use either `displot` (a figure-level function with similar flexibility) or `histplot` (an axes-level function for histograms).\n",
            "  warnings.warn(msg, FutureWarning)\n"
          ]
        },
        {
          "output_type": "execute_result",
          "data": {
            "text/plain": [
              "Text(0.5, 1.0, 'Target variable Distribution Plot')"
            ]
          },
          "metadata": {},
          "execution_count": 24
        },
        {
          "output_type": "display_data",
          "data": {
            "image/png": "[encoded data removed]",
            "text/plain": [
              "<Figure size 576x576 with 1 Axes>"
            ]
          },
          "metadata": {
            "needs_background": "light"
          }
        }
      ]
    },
    {
      "cell_type": "code",
      "metadata": {
        "id": "7gLxm_LOgFca",
        "colab": {
          "base_uri": "https://localhost:8080/",
          "height": 923
        },
        "outputId": "26526f18-4cfd-4960-bc4d-b0f32552b2e8"
      },
      "source": [
        "#Drop some unnecessary features that are not required for the correlation plots\n",
        "features_for_plot = indoorcleaned_df.drop(columns=['logger', 'date'])\n",
        "#Correlation matrix\n",
        "colormap = plt.cm.RdBu\n",
        "plt.figure(figsize=(30,15))\n",
        "plt.title('Pearson Correlation of Features', y=1.05, size=15)\n",
        "sns.heatmap(features_for_plot.corr(),linewidths=0.1,vmax=1.0, square=True, cmap=colormap, linecolor='white', annot=False)\n",
        "plt.show()"
      ],
      "execution_count": null,
      "outputs": [
        {
          "output_type": "display_data",
          "data": {
            "image/png": "[encoded data removed]",
            "text/plain": [
              "<Figure size 2160x1080 with 2 Axes>"
            ]
          },
          "metadata": {
            "needs_background": "light"
          }
        }
      ]
    },
    {
      "cell_type": "markdown",
      "metadata": {
        "id": "MvLvPcSpIzda"
      },
      "source": [
        "### Creating features and target variable"
      ]
    },
    {
      "cell_type": "code",
      "metadata": {
        "id": "4dd8DLp4pPRh",
        "colab": {
          "base_uri": "https://localhost:8080/"
        },
        "outputId": "f913e930-7f4d-41bb-9153-385fc37e7efb"
      },
      "source": [
        "indoorcleaned_df = pd.get_dummies(indoorcleaned_df)\n",
        "features = indoorcleaned_df.drop(columns=['logger', 'temp'])\n",
        "X = features.values\n",
        "y = indoorcleaned_df['temp'].values\n",
        "\n",
        "#Let's shuffle the data to minimize the effect of the orginal order of training/testing data on our results:\n",
        "np.random.seed(42)\n",
        "indices = np.arange(len(X))\n",
        "np.random.shuffle(indices)\n",
        "X = X[indices]\n",
        "y = y[indices]\n",
        "X.shape"
      ],
      "execution_count": null,
      "outputs": [
        {
          "output_type": "execute_result",
          "data": {
            "text/plain": [
              "(8039, 207)"
            ]
          },
          "metadata": {},
          "execution_count": 26
        }
      ]
    },
    {
      "cell_type": "code",
      "metadata": {
        "id": "irNeP35UhP7r"
      },
      "source": [
        "from sklearn.model_selection import train_test_split\n",
        "X_train, X_test, y_train, y_test = train_test_split(X, y, test_size=0.10, random_state=42)"
      ],
      "execution_count": null,
      "outputs": []
    },
    {
      "cell_type": "code",
      "metadata": {
        "id": "sPkXmfl-V4xi"
      },
      "source": [
        "# Scaling the features using StandardScaler\n",
        "from sklearn.preprocessing import StandardScaler\n",
        "scaler = StandardScaler()\n",
        "X_train_std = scaler.fit_transform(X_train)\n",
        "X_test_std = scaler.transform(X_test)"
      ],
      "execution_count": null,
      "outputs": []
    },
    {
      "cell_type": "code",
      "metadata": {
        "id": "B2c6_OCfX1Hc"
      },
      "source": [
        "X_train = X_train_std\n",
        "X_test = X_test_std"
      ],
      "execution_count": null,
      "outputs": []
    },
    {
      "cell_type": "markdown",
      "metadata": {
        "id": "aC70CLvkfOz_"
      },
      "source": [
        "## Feed Forward Neural Network"
      ]
    },
    {
      "cell_type": "code",
      "metadata": {
        "id": "VlWzlikYfVcR"
      },
      "source": [
        "import tensorflow as tf\n",
        "from tensorflow import keras\n",
        "from tensorflow.keras.layers import Dropout, Flatten, Dense\n",
        "from keras import Sequential\n",
        "from tensorflow.nn import relu\n",
        "\n",
        "tf.random.set_seed(21)\n",
        "\n",
        "#Creating a sequential model with 1 hidden layer and drop out layer\n",
        "\n",
        "model = Sequential([\n",
        "    Dense(10, activation = relu), \n",
        "    Dropout(.1), \n",
        "    Dense(10, activation = relu),\n",
        "    Dropout(.1),\n",
        "    Dense(1)\n",
        "])\n",
        "\n",
        "model.compile(optimizer=tf.optimizers.Adam(), \n",
        "              loss='mse',\n",
        "              metrics=['mae', 'mse'])"
      ],
      "execution_count": null,
      "outputs": []
    },
    {
      "cell_type": "code",
      "metadata": {
        "id": "H5EMmCtNfWYL",
        "colab": {
          "base_uri": "https://localhost:8080/"
        },
        "outputId": "08036d56-2bfd-4d0d-8d94-4436748739e6"
      },
      "source": [
        "#Making the output less verbose\n",
        "class PrintDot(keras.callbacks.Callback):\n",
        "    def on_epoch_end(self, epoch, logs):\n",
        "        if epoch % 100 == 0: print('')\n",
        "        print('.', end='')\n",
        "\n",
        "#Creating an early_stop function with a patience of 4. \n",
        "early_stop = keras.callbacks.EarlyStopping(monitor='val_mse', patience=4)\n",
        "\n",
        "#Fitting the model on training data with a validation split of 0.1\n",
        "ff_model = model.fit(X_train, y_train, epochs=1000, verbose=0, validation_split = 0.1,\n",
        "                    callbacks=[early_stop, PrintDot()])"
      ],
      "execution_count": null,
      "outputs": [
        {
          "output_type": "stream",
          "name": "stdout",
          "text": [
            "\n",
            ".................."
          ]
        }
      ]
    },
    {
      "cell_type": "code",
      "metadata": {
        "id": "K_UidipqfmAz",
        "colab": {
          "base_uri": "https://localhost:8080/"
        },
        "outputId": "df1c2e3d-17ea-4590-9cdf-7adc013a8b50"
      },
      "source": [
        "#Creating a datafram to store loss, MSE, and MAE for each epoch \n",
        "hist = pd.DataFrame(ff_model.history)\n",
        "hist['epoch'] = ff_model.epoch\n",
        "\n",
        "#Calculating RMSE \n",
        "rmse_final = np.sqrt(float(hist['val_mse'].tail(1)))\n",
        "\n",
        "print('Final Root Mean Square Error on validation set: {}'.format(round(rmse_final, 3)))"
      ],
      "execution_count": null,
      "outputs": [
        {
          "output_type": "stream",
          "name": "stdout",
          "text": [
            "Final Root Mean Square Error on validation set: 2.058\n"
          ]
        }
      ]
    },
    {
      "cell_type": "code",
      "metadata": {
        "id": "1QyakQt4fmjE",
        "colab": {
          "base_uri": "https://localhost:8080/",
          "height": 614
        },
        "outputId": "1214c365-caa4-4264-9b66-365e6b21d36d"
      },
      "source": [
        "hist"
      ],
      "execution_count": null,
      "outputs": [
        {
          "output_type": "execute_result",
          "data": {
            "text/html": [
              "<div>\n",
              "<style scoped>\n",
              "    .dataframe tbody tr th:only-of-type {\n",
              "        vertical-align: middle;\n",
              "    }\n",
              "\n",
              "    .dataframe tbody tr th {\n",
              "        vertical-align: top;\n",
              "    }\n",
              "\n",
              "    .dataframe thead th {\n",
              "        text-align: right;\n",
              "    }\n",
              "</style>\n",
              "<table border=\"1\" class=\"dataframe\">\n",
              "  <thead>\n",
              "    <tr style=\"text-align: right;\">\n",
              "      <th></th>\n",
              "      <th>loss</th>\n",
              "      <th>mae</th>\n",
              "      <th>mse</th>\n",
              "      <th>val_loss</th>\n",
              "      <th>val_mae</th>\n",
              "      <th>val_mse</th>\n",
              "      <th>epoch</th>\n",
              "    </tr>\n",
              "  </thead>\n",
              "  <tbody>\n",
              "    <tr>\n",
              "      <th>0</th>\n",
              "      <td>800.547485</td>\n",
              "      <td>27.325163</td>\n",
              "      <td>800.547485</td>\n",
              "      <td>245.419479</td>\n",
              "      <td>14.070968</td>\n",
              "      <td>245.419479</td>\n",
              "      <td>0</td>\n",
              "    </tr>\n",
              "    <tr>\n",
              "      <th>1</th>\n",
              "      <td>112.578232</td>\n",
              "      <td>8.311123</td>\n",
              "      <td>112.578232</td>\n",
              "      <td>32.947121</td>\n",
              "      <td>3.871264</td>\n",
              "      <td>32.947121</td>\n",
              "      <td>1</td>\n",
              "    </tr>\n",
              "    <tr>\n",
              "      <th>2</th>\n",
              "      <td>62.083561</td>\n",
              "      <td>6.115359</td>\n",
              "      <td>62.083561</td>\n",
              "      <td>16.128353</td>\n",
              "      <td>2.725024</td>\n",
              "      <td>16.128353</td>\n",
              "      <td>2</td>\n",
              "    </tr>\n",
              "    <tr>\n",
              "      <th>3</th>\n",
              "      <td>52.903217</td>\n",
              "      <td>5.697086</td>\n",
              "      <td>52.903217</td>\n",
              "      <td>10.501063</td>\n",
              "      <td>2.342686</td>\n",
              "      <td>10.501063</td>\n",
              "      <td>3</td>\n",
              "    </tr>\n",
              "    <tr>\n",
              "      <th>4</th>\n",
              "      <td>46.868248</td>\n",
              "      <td>5.442459</td>\n",
              "      <td>46.868248</td>\n",
              "      <td>7.137315</td>\n",
              "      <td>2.017797</td>\n",
              "      <td>7.137315</td>\n",
              "      <td>4</td>\n",
              "    </tr>\n",
              "    <tr>\n",
              "      <th>5</th>\n",
              "      <td>45.013435</td>\n",
              "      <td>5.305055</td>\n",
              "      <td>45.013435</td>\n",
              "      <td>5.828321</td>\n",
              "      <td>1.852120</td>\n",
              "      <td>5.828321</td>\n",
              "      <td>5</td>\n",
              "    </tr>\n",
              "    <tr>\n",
              "      <th>6</th>\n",
              "      <td>41.443245</td>\n",
              "      <td>5.068076</td>\n",
              "      <td>41.443245</td>\n",
              "      <td>5.164194</td>\n",
              "      <td>1.751880</td>\n",
              "      <td>5.164194</td>\n",
              "      <td>6</td>\n",
              "    </tr>\n",
              "    <tr>\n",
              "      <th>7</th>\n",
              "      <td>42.303783</td>\n",
              "      <td>5.156596</td>\n",
              "      <td>42.303783</td>\n",
              "      <td>5.386456</td>\n",
              "      <td>1.821070</td>\n",
              "      <td>5.386456</td>\n",
              "      <td>7</td>\n",
              "    </tr>\n",
              "    <tr>\n",
              "      <th>8</th>\n",
              "      <td>40.020504</td>\n",
              "      <td>5.056069</td>\n",
              "      <td>40.020504</td>\n",
              "      <td>4.664293</td>\n",
              "      <td>1.673363</td>\n",
              "      <td>4.664293</td>\n",
              "      <td>8</td>\n",
              "    </tr>\n",
              "    <tr>\n",
              "      <th>9</th>\n",
              "      <td>38.897888</td>\n",
              "      <td>4.956697</td>\n",
              "      <td>38.897888</td>\n",
              "      <td>4.666496</td>\n",
              "      <td>1.654459</td>\n",
              "      <td>4.666496</td>\n",
              "      <td>9</td>\n",
              "    </tr>\n",
              "    <tr>\n",
              "      <th>10</th>\n",
              "      <td>37.401058</td>\n",
              "      <td>4.823997</td>\n",
              "      <td>37.401058</td>\n",
              "      <td>4.536585</td>\n",
              "      <td>1.669173</td>\n",
              "      <td>4.536585</td>\n",
              "      <td>10</td>\n",
              "    </tr>\n",
              "    <tr>\n",
              "      <th>11</th>\n",
              "      <td>37.941204</td>\n",
              "      <td>4.893438</td>\n",
              "      <td>37.941204</td>\n",
              "      <td>4.229150</td>\n",
              "      <td>1.571474</td>\n",
              "      <td>4.229150</td>\n",
              "      <td>11</td>\n",
              "    </tr>\n",
              "    <tr>\n",
              "      <th>12</th>\n",
              "      <td>35.952702</td>\n",
              "      <td>4.741915</td>\n",
              "      <td>35.952702</td>\n",
              "      <td>5.042270</td>\n",
              "      <td>1.794958</td>\n",
              "      <td>5.042270</td>\n",
              "      <td>12</td>\n",
              "    </tr>\n",
              "    <tr>\n",
              "      <th>13</th>\n",
              "      <td>35.995522</td>\n",
              "      <td>4.743025</td>\n",
              "      <td>35.995522</td>\n",
              "      <td>4.159641</td>\n",
              "      <td>1.574699</td>\n",
              "      <td>4.159641</td>\n",
              "      <td>13</td>\n",
              "    </tr>\n",
              "    <tr>\n",
              "      <th>14</th>\n",
              "      <td>34.498035</td>\n",
              "      <td>4.629866</td>\n",
              "      <td>34.498035</td>\n",
              "      <td>4.161053</td>\n",
              "      <td>1.566410</td>\n",
              "      <td>4.161053</td>\n",
              "      <td>14</td>\n",
              "    </tr>\n",
              "    <tr>\n",
              "      <th>15</th>\n",
              "      <td>34.010181</td>\n",
              "      <td>4.645017</td>\n",
              "      <td>34.010181</td>\n",
              "      <td>4.572558</td>\n",
              "      <td>1.649882</td>\n",
              "      <td>4.572558</td>\n",
              "      <td>15</td>\n",
              "    </tr>\n",
              "    <tr>\n",
              "      <th>16</th>\n",
              "      <td>32.936306</td>\n",
              "      <td>4.529305</td>\n",
              "      <td>32.936306</td>\n",
              "      <td>4.430592</td>\n",
              "      <td>1.643829</td>\n",
              "      <td>4.430592</td>\n",
              "      <td>16</td>\n",
              "    </tr>\n",
              "    <tr>\n",
              "      <th>17</th>\n",
              "      <td>32.737232</td>\n",
              "      <td>4.529823</td>\n",
              "      <td>32.737232</td>\n",
              "      <td>4.234972</td>\n",
              "      <td>1.544404</td>\n",
              "      <td>4.234972</td>\n",
              "      <td>17</td>\n",
              "    </tr>\n",
              "  </tbody>\n",
              "</table>\n",
              "</div>"
            ],
            "text/plain": [
              "          loss        mae         mse    val_loss    val_mae     val_mse  epoch\n",
              "0   800.547485  27.325163  800.547485  245.419479  14.070968  245.419479      0\n",
              "1   112.578232   8.311123  112.578232   32.947121   3.871264   32.947121      1\n",
              "2    62.083561   6.115359   62.083561   16.128353   2.725024   16.128353      2\n",
              "3    52.903217   5.697086   52.903217   10.501063   2.342686   10.501063      3\n",
              "4    46.868248   5.442459   46.868248    7.137315   2.017797    7.137315      4\n",
              "5    45.013435   5.305055   45.013435    5.828321   1.852120    5.828321      5\n",
              "6    41.443245   5.068076   41.443245    5.164194   1.751880    5.164194      6\n",
              "7    42.303783   5.156596   42.303783    5.386456   1.821070    5.386456      7\n",
              "8    40.020504   5.056069   40.020504    4.664293   1.673363    4.664293      8\n",
              "9    38.897888   4.956697   38.897888    4.666496   1.654459    4.666496      9\n",
              "10   37.401058   4.823997   37.401058    4.536585   1.669173    4.536585     10\n",
              "11   37.941204   4.893438   37.941204    4.229150   1.571474    4.229150     11\n",
              "12   35.952702   4.741915   35.952702    5.042270   1.794958    5.042270     12\n",
              "13   35.995522   4.743025   35.995522    4.159641   1.574699    4.159641     13\n",
              "14   34.498035   4.629866   34.498035    4.161053   1.566410    4.161053     14\n",
              "15   34.010181   4.645017   34.010181    4.572558   1.649882    4.572558     15\n",
              "16   32.936306   4.529305   32.936306    4.430592   1.643829    4.430592     16\n",
              "17   32.737232   4.529823   32.737232    4.234972   1.544404    4.234972     17"
            ]
          },
          "metadata": {},
          "execution_count": 33
        }
      ]
    },
    {
      "cell_type": "code",
      "metadata": {
        "id": "XdQMCFrNfpPF",
        "colab": {
          "base_uri": "https://localhost:8080/",
          "height": 283
        },
        "outputId": "7eeb439b-ee64-4135-9952-e87eaafca75c"
      },
      "source": [
        "# plot validation and training error against number of epochs\n",
        "def plot_history():\n",
        "    plt.figure()\n",
        "    plt.xlabel('Epoch')\n",
        "    plt.ylabel('Mean Square Error')\n",
        "    plt.plot(hist['epoch'], hist['mse'], label='Train Error')\n",
        "    plt.plot(hist['epoch'], hist['val_mse'], label = 'Val Error')\n",
        "    plt.legend()\n",
        "    plt.ylim([0,1000])\n",
        "# \n",
        "plot_history()"
      ],
      "execution_count": null,
      "outputs": [
        {
          "output_type": "display_data",
          "data": {
            "image/png": "[encoded data removed]",
            "text/plain": [
              "<Figure size 432x288 with 1 Axes>"
            ]
          },
          "metadata": {
            "needs_background": "light"
          }
        }
      ]
    },
    {
      "cell_type": "code",
      "metadata": {
        "id": "pA6Hleb3frWl",
        "colab": {
          "base_uri": "https://localhost:8080/"
        },
        "outputId": "f7dfb109-4ad2-460e-c0ed-7edbd609cf86"
      },
      "source": [
        "#Evaluating the model on the test set \n",
        "mse, _, _ = model.evaluate(X_test, y_test)\n",
        "rmse = np.sqrt(mse)\n",
        "print('Root Mean Square Error on test set: {}'.format(round(rmse, 3)))"
      ],
      "execution_count": null,
      "outputs": [
        {
          "output_type": "stream",
          "name": "stdout",
          "text": [
            "26/26 [==============================] - 0s 4ms/step - loss: 4.6688 - mae: 1.5830 - mse: 4.6688\n",
            "Root Mean Square Error on test set: 2.161\n"
          ]
        }
      ]
    },
    {
      "cell_type": "code",
      "metadata": {
        "colab": {
          "base_uri": "https://localhost:8080/"
        },
        "id": "hJAUuiCgU-Kl",
        "outputId": "7a881481-a3ed-4064-a762-568d6a8a03a4"
      },
      "source": [
        "model.summary()\n"
      ],
      "execution_count": null,
      "outputs": [
        {
          "output_type": "stream",
          "name": "stdout",
          "text": [
            "Model: \"sequential\"\n",
            "_________________________________________________________________\n",
            " Layer (type)                Output Shape              Param #   \n",
            "=================================================================\n",
            " dense (Dense)               (None, 10)                2080      \n",
            "                                                                 \n",
            " dropout (Dropout)           (None, 10)                0         \n",
            "                                                                 \n",
            " dense_1 (Dense)             (None, 10)                110       \n",
            "                                                                 \n",
            " dropout_1 (Dropout)         (None, 10)                0         \n",
            "                                                                 \n",
            " dense_2 (Dense)             (None, 1)                 11        \n",
            "                                                                 \n",
            "=================================================================\n",
            "Total params: 2,201\n",
            "Trainable params: 2,201\n",
            "Non-trainable params: 0\n",
            "_________________________________________________________________\n"
          ]
        }
      ]
    },
    {
      "cell_type": "code",
      "metadata": {
        "id": "jGR2M5Ju5mfR",
        "colab": {
          "base_uri": "https://localhost:8080/"
        },
        "outputId": "4787a18a-8a11-4f5d-8524-84dc87287ece"
      },
      "source": [
        "!pip install -q -U keras-tuner"
      ],
      "execution_count": null,
      "outputs": [
        {
          "output_type": "stream",
          "name": "stdout",
          "text": [
            "\u001b[?25l\r\u001b[K     |███▍                            | 10 kB 20.6 MB/s eta 0:00:01\r\u001b[K     |██████▊                         | 20 kB 24.5 MB/s eta 0:00:01\r\u001b[K     |██████████                      | 30 kB 15.6 MB/s eta 0:00:01\r\u001b[K     |█████████████▍                  | 40 kB 11.6 MB/s eta 0:00:01\r\u001b[K     |████████████████▊               | 51 kB 5.7 MB/s eta 0:00:01\r\u001b[K     |████████████████████            | 61 kB 5.9 MB/s eta 0:00:01\r\u001b[K     |███████████████████████▍        | 71 kB 5.6 MB/s eta 0:00:01\r\u001b[K     |██████████████████████████▊     | 81 kB 6.2 MB/s eta 0:00:01\r\u001b[K     |██████████████████████████████  | 92 kB 6.0 MB/s eta 0:00:01\r\u001b[K     |████████████████████████████████| 98 kB 3.5 MB/s \n",
            "\u001b[?25h"
          ]
        }
      ]
    },
    {
      "cell_type": "markdown",
      "metadata": {
        "id": "L8kBlhbH1pGw"
      },
      "source": [
        "###HyperModel"
      ]
    },
    {
      "cell_type": "code",
      "metadata": {
        "id": "3Pq_vGJUf0WN",
        "colab": {
          "base_uri": "https://localhost:8080/"
        },
        "outputId": "fa6c3663-bbc0-4ccb-b5ae-f98640a815ac"
      },
      "source": [
        "import kerastuner as kt\n",
        "from kerastuner import HyperModel"
      ],
      "execution_count": null,
      "outputs": [
        {
          "output_type": "stream",
          "name": "stderr",
          "text": [
            "/usr/local/lib/python3.7/dist-packages/ipykernel_launcher.py:1: DeprecationWarning: `import kerastuner` is deprecated, please use `import keras_tuner`.\n",
            "  \"\"\"Entry point for launching an IPython kernel.\n"
          ]
        }
      ]
    },
    {
      "cell_type": "code",
      "metadata": {
        "id": "ip0SZCW7f4X6"
      },
      "source": [
        "#Bullding a class with the hyper model; using only relu for activation \n",
        "class RegressionHyperModel(HyperModel):\n",
        "\n",
        "    def __init__(self, input_shape):\n",
        "        self.input_shape = input_shape    \n",
        "    \n",
        "    def build(self, hp): \n",
        "        model = Sequential()\n",
        "        model.add(\n",
        "            Dense( # add a dense layer\n",
        "                units=hp.Int('units', 6, 60, 5, default=6),\n",
        "                activation=hp.Choice(\n",
        "                      'dense_activation',\n",
        "                    values=['relu'],\n",
        "                    default='relu'),\n",
        "                input_shape=input_shape\n",
        "            )\n",
        "        )\n",
        "        model.add( \n",
        "            Dropout(\n",
        "                rate = hp.Float(\n",
        "                    'dropout',\n",
        "                    min_value=0.0,\n",
        "                    max_value=0.5,\n",
        "                    default=0.005,\n",
        "                    step=0.05)\n",
        "            )\n",
        "        )\n",
        "        model.add(\n",
        "            Dense(\n",
        "                units=hp.Int('units', 6, 120, 5, default=12),\n",
        "                activation=hp.Choice(\n",
        "                    'dense_activation',\n",
        "                    values=['relu'],\n",
        "                    default='relu')\n",
        "            )\n",
        "        )  \n",
        "        model.add(\n",
        "            Dropout(\n",
        "                rate = hp.Float(\n",
        "                    'dropout',\n",
        "                    min_value=0.0,\n",
        "                    max_value=0.5,\n",
        "                    default=0.005,\n",
        "                    step=0.05)\n",
        "            )\n",
        "        ) \n",
        "        model.add(\n",
        "            Dense(1)\n",
        "            )\n",
        "            \n",
        "        \n",
        "        #Compile\n",
        "        model.compile(\n",
        "            optimizer=keras.optimizers.Adam(\n",
        "                hp.Choice('learning_rate', \n",
        "                          values=[1e-2, 1e-3])),\n",
        "                      loss='mse',\n",
        "                      metrics=['mse'])\n",
        "        return model"
      ],
      "execution_count": null,
      "outputs": []
    },
    {
      "cell_type": "code",
      "metadata": {
        "id": "MKMk173hf6VY"
      },
      "source": [
        "#Number of features\n",
        "input_shape = (X_train.shape[1],) \n",
        "#class RegressionHyperModel \n",
        "hypermodel = RegressionHyperModel(input_shape) "
      ],
      "execution_count": null,
      "outputs": []
    },
    {
      "cell_type": "code",
      "metadata": {
        "id": "vLPIc7Rif8Zz"
      },
      "source": [
        "#Defining to clear training output after each run of hyperparam tuning\n",
        "import IPython\n",
        "class ClearTrainingOutput(tf.keras.callbacks.Callback):\n",
        "  def on_train_end(*args, **kwargs):\n",
        "    IPython.display.clear_output(wait = True)"
      ],
      "execution_count": null,
      "outputs": []
    },
    {
      "cell_type": "markdown",
      "metadata": {
        "id": "3ZEwageR1zto"
      },
      "source": [
        "###HyperBand search"
      ]
    },
    {
      "cell_type": "code",
      "metadata": {
        "id": "faZ-2vI8f-UZ"
      },
      "source": [
        "#Hyperband tuner with factor 4 and iterations 1\n",
        "from kerastuner import Hyperband\n",
        "# Hyperband optimization \n",
        "tuner_hb = Hyperband(\n",
        "            hypermodel,\n",
        "            objective='val_mse',  \n",
        "            factor=4, \n",
        "            hyperband_iterations=1,\n",
        "            seed=42,\n",
        "            overwrite=True   \n",
        "        )"
      ],
      "execution_count": null,
      "outputs": []
    },
    {
      "cell_type": "code",
      "metadata": {
        "id": "-SPzEbLIJaMR",
        "colab": {
          "base_uri": "https://localhost:8080/"
        },
        "outputId": "3494ee81-2496-48c5-f82f-31f348c1c208"
      },
      "source": [
        "#Tuning the hyperband\n",
        "tuner_hb.search(X_train, y_train, epochs=20, validation_split=0.1, verbose=0, \n",
        "                callbacks=[keras.callbacks.EarlyStopping(monitor='val_loss', patience=4), ClearTrainingOutput()])"
      ],
      "execution_count": null,
      "outputs": [
        {
          "output_type": "stream",
          "name": "stdout",
          "text": [
            "INFO:tensorflow:Oracle triggered exit\n"
          ]
        }
      ]
    },
    {
      "cell_type": "markdown",
      "metadata": {
        "id": "YwVHUSTx2EqD"
      },
      "source": [
        "###Inspecting and refitting the best model"
      ]
    },
    {
      "cell_type": "code",
      "metadata": {
        "id": "3UnGxeBgyn28",
        "colab": {
          "base_uri": "https://localhost:8080/"
        },
        "outputId": "0725c137-a179-46fd-8f4c-d85e8fddc3ae"
      },
      "source": [
        "best_model_hb = tuner_hb.get_best_models(num_models=1)[0]\n",
        "best_model_hb.evaluate(X_test, y_test)"
      ],
      "execution_count": null,
      "outputs": [
        {
          "output_type": "stream",
          "name": "stdout",
          "text": [
            "26/26 [==============================] - 0s 3ms/step - loss: 2.5452 - mse: 2.5452\n"
          ]
        },
        {
          "output_type": "execute_result",
          "data": {
            "text/plain": [
              "[2.545207977294922, 2.545207977294922]"
            ]
          },
          "metadata": {},
          "execution_count": 44
        }
      ]
    },
    {
      "cell_type": "code",
      "metadata": {
        "id": "P7RLIDOsnd44"
      },
      "source": [
        "tuned_model = tuner_hb.get_best_models(1)[0]\n",
        "tuned_model_params = tuned_model.get_config()"
      ],
      "execution_count": null,
      "outputs": []
    },
    {
      "cell_type": "code",
      "metadata": {
        "id": "mBI6SoLYnfFd",
        "colab": {
          "base_uri": "https://localhost:8080/"
        },
        "outputId": "338951c4-0ecd-492e-91b8-101116907d4d"
      },
      "source": [
        "for i in range(1, len(tuned_model_params['layers'])-1):\n",
        "  print('layer number: {}'.format(i))\n",
        "  if i%2 == 0:\n",
        "    print('layer name: {}'.format(tuned_model_params['layers'][i]['config']['name']), ', dropout rate: {}'.format(tuned_model_params['layers'][i]['config']['rate']))\n",
        "  else:\n",
        "    print('layer name: {}'.format(tuned_model_params['layers'][i]['config']['name']), ', activation: {}'.format(tuned_model_params['layers'][i]['config']['activation']), ', number of nodes: {}'.format(tuned_model_params['layers'][i]['config']['units']))\n",
        "  print('---------------------------------------')"
      ],
      "execution_count": null,
      "outputs": [
        {
          "output_type": "stream",
          "name": "stdout",
          "text": [
            "layer number: 1\n",
            "layer name: dense , activation: relu , number of nodes: 16\n",
            "---------------------------------------\n",
            "layer number: 2\n",
            "layer name: dropout , dropout rate: 0.05\n",
            "---------------------------------------\n",
            "layer number: 3\n",
            "layer name: dense_1 , activation: relu , number of nodes: 16\n",
            "---------------------------------------\n",
            "layer number: 4\n",
            "layer name: dropout_1 , dropout rate: 0.05\n",
            "---------------------------------------\n"
          ]
        }
      ]
    },
    {
      "cell_type": "code",
      "metadata": {
        "id": "yVckeQiagAAT",
        "colab": {
          "base_uri": "https://localhost:8080/"
        },
        "outputId": "9b2c9e11-1211-49a6-aa40-64b19512304e"
      },
      "source": [
        "best_model_hb = tuner_hb.get_best_models(num_models=1)[0]\n",
        "best_model_hb.summary()"
      ],
      "execution_count": null,
      "outputs": [
        {
          "output_type": "stream",
          "name": "stdout",
          "text": [
            "Model: \"sequential\"\n",
            "_________________________________________________________________\n",
            " Layer (type)                Output Shape              Param #   \n",
            "=================================================================\n",
            " dense (Dense)               (None, 16)                3328      \n",
            "                                                                 \n",
            " dropout (Dropout)           (None, 16)                0         \n",
            "                                                                 \n",
            " dense_1 (Dense)             (None, 16)                272       \n",
            "                                                                 \n",
            " dropout_1 (Dropout)         (None, 16)                0         \n",
            "                                                                 \n",
            " dense_2 (Dense)             (None, 1)                 17        \n",
            "                                                                 \n",
            "=================================================================\n",
            "Total params: 3,617\n",
            "Trainable params: 3,617\n",
            "Non-trainable params: 0\n",
            "_________________________________________________________________\n"
          ]
        }
      ]
    },
    {
      "cell_type": "code",
      "metadata": {
        "id": "fWvqOkfigDxz",
        "colab": {
          "base_uri": "https://localhost:8080/"
        },
        "outputId": "80005041-c9cf-45e5-f2f5-131e51f670c0"
      },
      "source": [
        "indoortemp_tuned_model_hb = best_model_hb.fit(X_train, y_train, epochs=1000, verbose=0, validation_split = 0.1,\n",
        "                    callbacks=[early_stop, PrintDot()])"
      ],
      "execution_count": null,
      "outputs": [
        {
          "output_type": "stream",
          "name": "stdout",
          "text": [
            "\n",
            "......"
          ]
        }
      ]
    },
    {
      "cell_type": "code",
      "metadata": {
        "id": "0AcPvPcEgFe6",
        "colab": {
          "base_uri": "https://localhost:8080/"
        },
        "outputId": "2d587633-828f-429a-de9f-fd29605e7244"
      },
      "source": [
        "hist_tuned_hb = pd.DataFrame(indoortemp_tuned_model_hb.history)\n",
        "hist_tuned_hb['epoch'] = indoortemp_tuned_model_hb.epoch\n",
        "\n",
        "# show RMSE measure \n",
        "rmse_final = np.sqrt(float(hist_tuned_hb['val_mse'].tail(1)))\n",
        "\n",
        "print('Root Mean Square Error on validation set after tuning: {}'.format(round(rmse_final, 3)))"
      ],
      "execution_count": null,
      "outputs": [
        {
          "output_type": "stream",
          "name": "stdout",
          "text": [
            "Root Mean Square Error on validation set after tuning: 1.661\n"
          ]
        }
      ]
    },
    {
      "cell_type": "code",
      "metadata": {
        "id": "3vF-_RlxgH54",
        "colab": {
          "base_uri": "https://localhost:8080/",
          "height": 238
        },
        "outputId": "8fa465c4-78b7-4095-d54d-0ddd91dba42b"
      },
      "source": [
        "hist_tuned_hb"
      ],
      "execution_count": null,
      "outputs": [
        {
          "output_type": "execute_result",
          "data": {
            "text/html": [
              "<div>\n",
              "<style scoped>\n",
              "    .dataframe tbody tr th:only-of-type {\n",
              "        vertical-align: middle;\n",
              "    }\n",
              "\n",
              "    .dataframe tbody tr th {\n",
              "        vertical-align: top;\n",
              "    }\n",
              "\n",
              "    .dataframe thead th {\n",
              "        text-align: right;\n",
              "    }\n",
              "</style>\n",
              "<table border=\"1\" class=\"dataframe\">\n",
              "  <thead>\n",
              "    <tr style=\"text-align: right;\">\n",
              "      <th></th>\n",
              "      <th>loss</th>\n",
              "      <th>mse</th>\n",
              "      <th>val_loss</th>\n",
              "      <th>val_mse</th>\n",
              "      <th>epoch</th>\n",
              "    </tr>\n",
              "  </thead>\n",
              "  <tbody>\n",
              "    <tr>\n",
              "      <th>0</th>\n",
              "      <td>7.160656</td>\n",
              "      <td>7.160656</td>\n",
              "      <td>2.759165</td>\n",
              "      <td>2.759165</td>\n",
              "      <td>0</td>\n",
              "    </tr>\n",
              "    <tr>\n",
              "      <th>1</th>\n",
              "      <td>6.920485</td>\n",
              "      <td>6.920485</td>\n",
              "      <td>2.744485</td>\n",
              "      <td>2.744485</td>\n",
              "      <td>1</td>\n",
              "    </tr>\n",
              "    <tr>\n",
              "      <th>2</th>\n",
              "      <td>6.808062</td>\n",
              "      <td>6.808062</td>\n",
              "      <td>2.774211</td>\n",
              "      <td>2.774211</td>\n",
              "      <td>2</td>\n",
              "    </tr>\n",
              "    <tr>\n",
              "      <th>3</th>\n",
              "      <td>6.964893</td>\n",
              "      <td>6.964893</td>\n",
              "      <td>2.760935</td>\n",
              "      <td>2.760935</td>\n",
              "      <td>3</td>\n",
              "    </tr>\n",
              "    <tr>\n",
              "      <th>4</th>\n",
              "      <td>6.482516</td>\n",
              "      <td>6.482516</td>\n",
              "      <td>2.995446</td>\n",
              "      <td>2.995446</td>\n",
              "      <td>4</td>\n",
              "    </tr>\n",
              "    <tr>\n",
              "      <th>5</th>\n",
              "      <td>6.267972</td>\n",
              "      <td>6.267972</td>\n",
              "      <td>2.757330</td>\n",
              "      <td>2.757330</td>\n",
              "      <td>5</td>\n",
              "    </tr>\n",
              "  </tbody>\n",
              "</table>\n",
              "</div>"
            ],
            "text/plain": [
              "       loss       mse  val_loss   val_mse  epoch\n",
              "0  7.160656  7.160656  2.759165  2.759165      0\n",
              "1  6.920485  6.920485  2.744485  2.744485      1\n",
              "2  6.808062  6.808062  2.774211  2.774211      2\n",
              "3  6.964893  6.964893  2.760935  2.760935      3\n",
              "4  6.482516  6.482516  2.995446  2.995446      4\n",
              "5  6.267972  6.267972  2.757330  2.757330      5"
            ]
          },
          "metadata": {},
          "execution_count": 50
        }
      ]
    },
    {
      "cell_type": "code",
      "metadata": {
        "id": "SUE6qEX5gJrC",
        "colab": {
          "base_uri": "https://localhost:8080/"
        },
        "outputId": "e63d1fcc-f861-457e-8cb2-0236a9fdfe10"
      },
      "source": [
        "loss_tuned, mse_tuned = best_model_hb.evaluate(X_test, y_test)\n",
        "\n",
        "print('Root Mean Square Error on test set after tuning: {}'.format(round(np.sqrt(mse_tuned), 3)))\n",
        "\n",
        "best_hps = tuner_hb.get_best_hyperparameters(num_trials = 1)[0]\n",
        "\n",
        "print(\"and the optimal learning rate for the optimizer is {}\".format(best_hps.get('learning_rate')))\n"
      ],
      "execution_count": null,
      "outputs": [
        {
          "output_type": "stream",
          "name": "stdout",
          "text": [
            "26/26 [==============================] - 0s 4ms/step - loss: 2.6109 - mse: 2.6109\n",
            "Root Mean Square Error on test set after tuning: 1.616\n",
            "and the optimal learning rate for the optimizer is 0.01\n"
          ]
        }
      ]
    }
  ]
}