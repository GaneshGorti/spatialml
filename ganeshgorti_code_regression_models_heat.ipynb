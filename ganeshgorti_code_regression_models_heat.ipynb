{
  "nbformat": 4,
  "nbformat_minor": 0,
  "metadata": {
    "colab": {
      "name": "ganeshgorti_code_regression models_heat.ipynb",
      "provenance": [],
      "collapsed_sections": [],
      "toc_visible": true
    },
    "kernelspec": {
      "display_name": "Python 3",
      "language": "python",
      "name": "python3"
    },
    "language_info": {
      "codemirror_mode": {
        "name": "ipython",
        "version": 3
      },
      "file_extension": ".py",
      "mimetype": "text/x-python",
      "name": "python",
      "nbconvert_exporter": "python",
      "pygments_lexer": "ipython3",
      "version": "3.7.6"
    }
  },
  "cells": [
    {
      "cell_type": "markdown",
      "metadata": {
        "id": "KkSexun7coNP"
      },
      "source": [
        "## Ganesh Gorti, 5th December 2021\n",
        "\n",
        "### Regression models (see next notebook for code on Deep Learning)\n",
        "\n",
        "This code analyses maximum indoor temperature data from 60 households in New Delhi, India. The data was collected between April 2017 and October 2017. The aim of this analysis is to predict the maximum indoor temperatures daily based on a range of features. These include\n",
        "\n",
        "1. Daily maximum outdoor temperature (in degree celsius)\n",
        "2. Daily maximum outdoor humidity  \n",
        "3. Daily maximum outdoor windspeed (in KMPH)\n",
        "4. Daily maximum heatindex \n",
        "5. Daily maximum rainfall. (in mm)\n",
        "6. Daily maximum solar radiation \n",
        "7. Floor of the house \n",
        "8. Floor on top (dummy coded as yes or no)\n",
        "9. Roof Structure (tin sheet, stone slab, concrete, bricks)\n",
        "10. Wall material (concrete/bricks)\n",
        "11. Number of ceiling fans \n",
        "12. Number of evaporative coolers\n",
        "13. Flowing ventilation (coded as 0 if no ventilation, 1 if windows are present)\n",
        "14. Local Climate Zone classification \n",
        "\n",
        "Outcome variable -- temp\n",
        "\n",
        "Code adapted from Morteza Karmizadeh\n"
      ]
    },
    {
      "cell_type": "code",
      "metadata": {
        "colab": {
          "base_uri": "https://localhost:8080/"
        },
        "id": "D7p6kakPctWK",
        "outputId": "b3d6a39c-544f-4f3b-870c-30bfaa0871d9"
      },
      "source": [
        "!pip install geopandas\n",
        "!pip install contextily"
      ],
      "execution_count": null,
      "outputs": [
        {
          "output_type": "stream",
          "name": "stdout",
          "text": [
            "Requirement already satisfied: geopandas in /usr/local/lib/python3.7/dist-packages (0.10.2)\n",
            "Requirement already satisfied: shapely>=1.6 in /usr/local/lib/python3.7/dist-packages (from geopandas) (1.8.0)\n",
            "Requirement already satisfied: pandas>=0.25.0 in /usr/local/lib/python3.7/dist-packages (from geopandas) (1.1.5)\n",
            "Requirement already satisfied: fiona>=1.8 in /usr/local/lib/python3.7/dist-packages (from geopandas) (1.8.20)\n",
            "Requirement already satisfied: pyproj>=2.2.0 in /usr/local/lib/python3.7/dist-packages (from geopandas) (3.2.1)\n",
            "Requirement already satisfied: attrs>=17 in /usr/local/lib/python3.7/dist-packages (from fiona>=1.8->geopandas) (21.2.0)\n",
            "Requirement already satisfied: click>=4.0 in /usr/local/lib/python3.7/dist-packages (from fiona>=1.8->geopandas) (7.1.2)\n",
            "Requirement already satisfied: click-plugins>=1.0 in /usr/local/lib/python3.7/dist-packages (from fiona>=1.8->geopandas) (1.1.1)\n",
            "Requirement already satisfied: cligj>=0.5 in /usr/local/lib/python3.7/dist-packages (from fiona>=1.8->geopandas) (0.7.2)\n",
            "Requirement already satisfied: setuptools in /usr/local/lib/python3.7/dist-packages (from fiona>=1.8->geopandas) (57.4.0)\n",
            "Requirement already satisfied: six>=1.7 in /usr/local/lib/python3.7/dist-packages (from fiona>=1.8->geopandas) (1.15.0)\n",
            "Requirement already satisfied: certifi in /usr/local/lib/python3.7/dist-packages (from fiona>=1.8->geopandas) (2021.10.8)\n",
            "Requirement already satisfied: munch in /usr/local/lib/python3.7/dist-packages (from fiona>=1.8->geopandas) (2.5.0)\n",
            "Requirement already satisfied: numpy>=1.15.4 in /usr/local/lib/python3.7/dist-packages (from pandas>=0.25.0->geopandas) (1.19.5)\n",
            "Requirement already satisfied: python-dateutil>=2.7.3 in /usr/local/lib/python3.7/dist-packages (from pandas>=0.25.0->geopandas) (2.8.2)\n",
            "Requirement already satisfied: pytz>=2017.2 in /usr/local/lib/python3.7/dist-packages (from pandas>=0.25.0->geopandas) (2018.9)\n",
            "Requirement already satisfied: contextily in /usr/local/lib/python3.7/dist-packages (1.2.0)\n",
            "Requirement already satisfied: matplotlib in /usr/local/lib/python3.7/dist-packages (from contextily) (3.2.2)\n",
            "Requirement already satisfied: rasterio in /usr/local/lib/python3.7/dist-packages (from contextily) (1.2.10)\n",
            "Requirement already satisfied: joblib in /usr/local/lib/python3.7/dist-packages (from contextily) (1.1.0)\n",
            "Requirement already satisfied: mercantile in /usr/local/lib/python3.7/dist-packages (from contextily) (1.2.1)\n",
            "Requirement already satisfied: requests in /usr/local/lib/python3.7/dist-packages (from contextily) (2.23.0)\n",
            "Requirement already satisfied: xyzservices in /usr/local/lib/python3.7/dist-packages (from contextily) (2021.11.0)\n",
            "Requirement already satisfied: pillow in /usr/local/lib/python3.7/dist-packages (from contextily) (7.1.2)\n",
            "Requirement already satisfied: geopy in /usr/local/lib/python3.7/dist-packages (from contextily) (1.17.0)\n",
            "Requirement already satisfied: geographiclib<2,>=1.49 in /usr/local/lib/python3.7/dist-packages (from geopy->contextily) (1.52)\n",
            "Requirement already satisfied: python-dateutil>=2.1 in /usr/local/lib/python3.7/dist-packages (from matplotlib->contextily) (2.8.2)\n",
            "Requirement already satisfied: cycler>=0.10 in /usr/local/lib/python3.7/dist-packages (from matplotlib->contextily) (0.11.0)\n",
            "Requirement already satisfied: numpy>=1.11 in /usr/local/lib/python3.7/dist-packages (from matplotlib->contextily) (1.19.5)\n",
            "Requirement already satisfied: kiwisolver>=1.0.1 in /usr/local/lib/python3.7/dist-packages (from matplotlib->contextily) (1.3.2)\n",
            "Requirement already satisfied: pyparsing!=2.0.4,!=2.1.2,!=2.1.6,>=2.0.1 in /usr/local/lib/python3.7/dist-packages (from matplotlib->contextily) (3.0.6)\n",
            "Requirement already satisfied: six>=1.5 in /usr/local/lib/python3.7/dist-packages (from python-dateutil>=2.1->matplotlib->contextily) (1.15.0)\n",
            "Requirement already satisfied: click>=3.0 in /usr/local/lib/python3.7/dist-packages (from mercantile->contextily) (7.1.2)\n",
            "Requirement already satisfied: snuggs>=1.4.1 in /usr/local/lib/python3.7/dist-packages (from rasterio->contextily) (1.4.7)\n",
            "Requirement already satisfied: cligj>=0.5 in /usr/local/lib/python3.7/dist-packages (from rasterio->contextily) (0.7.2)\n",
            "Requirement already satisfied: attrs in /usr/local/lib/python3.7/dist-packages (from rasterio->contextily) (21.2.0)\n",
            "Requirement already satisfied: affine in /usr/local/lib/python3.7/dist-packages (from rasterio->contextily) (2.3.0)\n",
            "Requirement already satisfied: click-plugins in /usr/local/lib/python3.7/dist-packages (from rasterio->contextily) (1.1.1)\n",
            "Requirement already satisfied: setuptools in /usr/local/lib/python3.7/dist-packages (from rasterio->contextily) (57.4.0)\n",
            "Requirement already satisfied: certifi in /usr/local/lib/python3.7/dist-packages (from rasterio->contextily) (2021.10.8)\n",
            "Requirement already satisfied: chardet<4,>=3.0.2 in /usr/local/lib/python3.7/dist-packages (from requests->contextily) (3.0.4)\n",
            "Requirement already satisfied: idna<3,>=2.5 in /usr/local/lib/python3.7/dist-packages (from requests->contextily) (2.10)\n",
            "Requirement already satisfied: urllib3!=1.25.0,!=1.25.1,<1.26,>=1.21.1 in /usr/local/lib/python3.7/dist-packages (from requests->contextily) (1.24.3)\n"
          ]
        }
      ]
    },
    {
      "cell_type": "code",
      "metadata": {
        "id": "KO4dO2DGcoM8"
      },
      "source": [
        "import pandas as pd\n",
        "import numpy as np \n",
        "import matplotlib.pyplot as plt\n",
        "import sklearn"
      ],
      "execution_count": null,
      "outputs": []
    },
    {
      "cell_type": "code",
      "metadata": {
        "id": "H9NzSS3UcoM_"
      },
      "source": [
        "import seaborn as sns\n",
        "import matplotlib as mpl\n",
        "import matplotlib.pyplot as plt\n",
        "%matplotlib inline\n",
        "from mpl_toolkits.mplot3d import Axes3D\n",
        "from matplotlib.collections import PolyCollection"
      ],
      "execution_count": null,
      "outputs": []
    },
    {
      "cell_type": "markdown",
      "metadata": {
        "id": "pIirtJ6Ojnrk"
      },
      "source": [
        "## Loading Data"
      ]
    },
    {
      "cell_type": "code",
      "metadata": {
        "colab": {
          "base_uri": "https://localhost:8080/",
          "height": 313
        },
        "id": "myrnrjrng8BX",
        "outputId": "92bf0ea7-9d6a-4270-825e-24bafdf577f0"
      },
      "source": [
        "import pandas as pd\n",
        "indoorheat_df=pd.read_csv('https://raw.githubusercontent.com/GaneshGorti/spatialml/main/masterdata.csv')\n",
        "indoorheat_df.head()"
      ],
      "execution_count": null,
      "outputs": [
        {
          "output_type": "execute_result",
          "data": {
            "text/html": [
              "<div>\n",
              "<style scoped>\n",
              "    .dataframe tbody tr th:only-of-type {\n",
              "        vertical-align: middle;\n",
              "    }\n",
              "\n",
              "    .dataframe tbody tr th {\n",
              "        vertical-align: top;\n",
              "    }\n",
              "\n",
              "    .dataframe thead th {\n",
              "        text-align: right;\n",
              "    }\n",
              "</style>\n",
              "<table border=\"1\" class=\"dataframe\">\n",
              "  <thead>\n",
              "    <tr style=\"text-align: right;\">\n",
              "      <th></th>\n",
              "      <th>logger</th>\n",
              "      <th>date</th>\n",
              "      <th>temp</th>\n",
              "      <th>Temp_Out</th>\n",
              "      <th>Out_Hum</th>\n",
              "      <th>Wind_Speed</th>\n",
              "      <th>Heat_Index</th>\n",
              "      <th>Rain</th>\n",
              "      <th>Solar_Rad</th>\n",
              "      <th>Area</th>\n",
              "      <th>Floor</th>\n",
              "      <th>Floor_on_top</th>\n",
              "      <th>Roof_structure</th>\n",
              "      <th>Wall_material</th>\n",
              "      <th>Fan</th>\n",
              "      <th>Evaporative_cooler</th>\n",
              "      <th>Flowing_ventilation</th>\n",
              "      <th>LCZ</th>\n",
              "    </tr>\n",
              "  </thead>\n",
              "  <tbody>\n",
              "    <tr>\n",
              "      <th>0</th>\n",
              "      <td>10692989</td>\n",
              "      <td>12/04/16</td>\n",
              "      <td>31.4</td>\n",
              "      <td>34.3</td>\n",
              "      <td>29</td>\n",
              "      <td>1.8</td>\n",
              "      <td>32.5</td>\n",
              "      <td>0.0</td>\n",
              "      <td>906</td>\n",
              "      <td>Railway Colony</td>\n",
              "      <td>4</td>\n",
              "      <td>no</td>\n",
              "      <td>concrete</td>\n",
              "      <td>bricks</td>\n",
              "      <td>1</td>\n",
              "      <td>yes</td>\n",
              "      <td>1.0</td>\n",
              "      <td>2</td>\n",
              "    </tr>\n",
              "    <tr>\n",
              "      <th>1</th>\n",
              "      <td>10692990</td>\n",
              "      <td>12/04/16</td>\n",
              "      <td>31.5</td>\n",
              "      <td>34.3</td>\n",
              "      <td>29</td>\n",
              "      <td>1.8</td>\n",
              "      <td>32.5</td>\n",
              "      <td>0.0</td>\n",
              "      <td>906</td>\n",
              "      <td>Kasturbha Nagar</td>\n",
              "      <td>1</td>\n",
              "      <td>no</td>\n",
              "      <td>concrete</td>\n",
              "      <td>bricks</td>\n",
              "      <td>1</td>\n",
              "      <td>yes</td>\n",
              "      <td>1.0</td>\n",
              "      <td>5</td>\n",
              "    </tr>\n",
              "    <tr>\n",
              "      <th>2</th>\n",
              "      <td>10692993</td>\n",
              "      <td>12/04/16</td>\n",
              "      <td>32.7</td>\n",
              "      <td>34.3</td>\n",
              "      <td>29</td>\n",
              "      <td>1.8</td>\n",
              "      <td>32.5</td>\n",
              "      <td>0.0</td>\n",
              "      <td>906</td>\n",
              "      <td>Sarai Kale Khan</td>\n",
              "      <td>3</td>\n",
              "      <td>yes</td>\n",
              "      <td>floor on top</td>\n",
              "      <td>bricks</td>\n",
              "      <td>1</td>\n",
              "      <td>yes</td>\n",
              "      <td>0.0</td>\n",
              "      <td>3</td>\n",
              "    </tr>\n",
              "    <tr>\n",
              "      <th>3</th>\n",
              "      <td>10692995</td>\n",
              "      <td>12/04/16</td>\n",
              "      <td>32.9</td>\n",
              "      <td>34.3</td>\n",
              "      <td>29</td>\n",
              "      <td>1.8</td>\n",
              "      <td>32.5</td>\n",
              "      <td>0.0</td>\n",
              "      <td>906</td>\n",
              "      <td>Lodhi Colony</td>\n",
              "      <td>2</td>\n",
              "      <td>no</td>\n",
              "      <td>concrete</td>\n",
              "      <td>bricks</td>\n",
              "      <td>1</td>\n",
              "      <td>yes</td>\n",
              "      <td>1.0</td>\n",
              "      <td>6</td>\n",
              "    </tr>\n",
              "    <tr>\n",
              "      <th>4</th>\n",
              "      <td>10692998</td>\n",
              "      <td>12/04/16</td>\n",
              "      <td>32.4</td>\n",
              "      <td>34.3</td>\n",
              "      <td>29</td>\n",
              "      <td>1.8</td>\n",
              "      <td>32.5</td>\n",
              "      <td>0.0</td>\n",
              "      <td>906</td>\n",
              "      <td>Patparganj slum</td>\n",
              "      <td>0</td>\n",
              "      <td>yes</td>\n",
              "      <td>floor on top</td>\n",
              "      <td>bricks</td>\n",
              "      <td>1</td>\n",
              "      <td>yes</td>\n",
              "      <td>1.0</td>\n",
              "      <td>2</td>\n",
              "    </tr>\n",
              "  </tbody>\n",
              "</table>\n",
              "</div>"
            ],
            "text/plain": [
              "     logger      date  temp  ...  Evaporative_cooler  Flowing_ventilation  LCZ\n",
              "0  10692989  12/04/16  31.4  ...                 yes                  1.0    2\n",
              "1  10692990  12/04/16  31.5  ...                 yes                  1.0    5\n",
              "2  10692993  12/04/16  32.7  ...                 yes                  0.0    3\n",
              "3  10692995  12/04/16  32.9  ...                 yes                  1.0    6\n",
              "4  10692998  12/04/16  32.4  ...                 yes                  1.0    2\n",
              "\n",
              "[5 rows x 18 columns]"
            ]
          },
          "metadata": {},
          "execution_count": 83
        }
      ]
    },
    {
      "cell_type": "code",
      "metadata": {
        "colab": {
          "base_uri": "https://localhost:8080/"
        },
        "id": "FpukgbjplPUM",
        "outputId": "0e8d825f-9861-404c-8620-ee7931760fe8"
      },
      "source": [
        "indoorheat_df.shape"
      ],
      "execution_count": null,
      "outputs": [
        {
          "output_type": "execute_result",
          "data": {
            "text/plain": [
              "(10304, 18)"
            ]
          },
          "metadata": {},
          "execution_count": 84
        }
      ]
    },
    {
      "cell_type": "markdown",
      "metadata": {
        "id": "UF9xapdzcoNH"
      },
      "source": [
        "### Checking for Missing Values"
      ]
    },
    {
      "cell_type": "code",
      "metadata": {
        "colab": {
          "base_uri": "https://localhost:8080/"
        },
        "id": "jQ22baxHhWFJ",
        "outputId": "99294e58-9233-489e-b653-d9f6b0f299b2"
      },
      "source": [
        "indoorheat_df.isnull().sum()"
      ],
      "execution_count": null,
      "outputs": [
        {
          "output_type": "execute_result",
          "data": {
            "text/plain": [
              "logger                    0\n",
              "date                      0\n",
              "temp                   2265\n",
              "Temp_Out                  0\n",
              "Out_Hum                   0\n",
              "Wind_Speed                0\n",
              "Heat_Index                0\n",
              "Rain                      0\n",
              "Solar_Rad                 0\n",
              "Area                      0\n",
              "Floor                     0\n",
              "Floor_on_top              0\n",
              "Roof_structure            0\n",
              "Wall_material             0\n",
              "Fan                       0\n",
              "Evaporative_cooler        0\n",
              "Flowing_ventilation       0\n",
              "LCZ                       0\n",
              "dtype: int64"
            ]
          },
          "metadata": {},
          "execution_count": 85
        }
      ]
    },
    {
      "cell_type": "markdown",
      "metadata": {
        "id": "XsmD2wuQUpgU"
      },
      "source": [
        "The dataset has a bunch of NAs on the outcome variable, so in the next step we will drop these. There are not NAs on the predictor variables! "
      ]
    },
    {
      "cell_type": "code",
      "metadata": {
        "id": "lHCSfnwtTe50"
      },
      "source": [
        "indoorcleaned_df = indoorheat_df.dropna()"
      ],
      "execution_count": null,
      "outputs": []
    },
    {
      "cell_type": "code",
      "metadata": {
        "colab": {
          "base_uri": "https://localhost:8080/"
        },
        "id": "1HvraYMBVikt",
        "outputId": "41cc10da-0f13-4a3c-d54c-3b2e140b6372"
      },
      "source": [
        "# checking to make sure NAs have been deleted\n",
        "indoorcleaned_df.isnull().sum()\n",
        "indoorcleaned_df.shape"
      ],
      "execution_count": null,
      "outputs": [
        {
          "output_type": "execute_result",
          "data": {
            "text/plain": [
              "(8039, 18)"
            ]
          },
          "metadata": {},
          "execution_count": 87
        }
      ]
    },
    {
      "cell_type": "markdown",
      "metadata": {
        "id": "oosOMa97lJkC"
      },
      "source": [
        "## Exploring the data"
      ]
    },
    {
      "cell_type": "code",
      "metadata": {
        "colab": {
          "base_uri": "https://localhost:8080/",
          "height": 587
        },
        "id": "fB_CoA1nnJuV",
        "outputId": "1cde2f6e-02cd-43a7-ebd7-89debd83ad82"
      },
      "source": [
        "from scipy.stats import norm\n",
        "plt.figure(figsize=(8,8))\n",
        "sns.distplot(indoorcleaned_df['temp'], fit=norm)\n",
        "plt.title(\"Temp Distribution Plot\",size=15, weight='bold')"
      ],
      "execution_count": null,
      "outputs": [
        {
          "output_type": "stream",
          "name": "stderr",
          "text": [
            "/usr/local/lib/python3.7/dist-packages/seaborn/distributions.py:2619: FutureWarning: `distplot` is a deprecated function and will be removed in a future version. Please adapt your code to use either `displot` (a figure-level function with similar flexibility) or `histplot` (an axes-level function for histograms).\n",
            "  warnings.warn(msg, FutureWarning)\n"
          ]
        },
        {
          "output_type": "execute_result",
          "data": {
            "text/plain": [
              "Text(0.5, 1.0, 'Temp Distribution Plot')"
            ]
          },
          "metadata": {},
          "execution_count": 88
        },
        {
          "output_type": "display_data",
          "data": {
            "image/png": "[encoded data removed]",
            "text/plain": [
              "<Figure size 576x576 with 1 Axes>"
            ]
          },
          "metadata": {
            "needs_background": "light"
          }
        }
      ]
    },
    {
      "cell_type": "code",
      "metadata": {
        "id": "z_2zEzQ8ndtB",
        "colab": {
          "base_uri": "https://localhost:8080/"
        },
        "outputId": "df27d7c8-9d97-46c5-cfb8-dfc17d76a0a7"
      },
      "source": [
        "indoorcleaned_df['temp_log'] = np.log(indoorcleaned_df.temp)"
      ],
      "execution_count": null,
      "outputs": [
        {
          "output_type": "stream",
          "name": "stderr",
          "text": [
            "/usr/local/lib/python3.7/dist-packages/ipykernel_launcher.py:1: SettingWithCopyWarning: \n",
            "A value is trying to be set on a copy of a slice from a DataFrame.\n",
            "Try using .loc[row_indexer,col_indexer] = value instead\n",
            "\n",
            "See the caveats in the documentation: https://pandas.pydata.org/pandas-docs/stable/user_guide/indexing.html#returning-a-view-versus-a-copy\n",
            "  \"\"\"Entry point for launching an IPython kernel.\n"
          ]
        }
      ]
    },
    {
      "cell_type": "code",
      "metadata": {
        "colab": {
          "base_uri": "https://localhost:8080/",
          "height": 588
        },
        "id": "KLhZvag8otVl",
        "outputId": "63b04d37-da93-48c4-de45-dbf908f76a09"
      },
      "source": [
        "plt.figure(figsize=(8,8))\n",
        "sns.distplot(indoorcleaned_df['temp_log'], fit=norm)\n",
        "plt.title(\"Temp Distribution Plot\",size=15, weight='bold')"
      ],
      "execution_count": null,
      "outputs": [
        {
          "output_type": "stream",
          "name": "stderr",
          "text": [
            "/usr/local/lib/python3.7/dist-packages/seaborn/distributions.py:2619: FutureWarning: `distplot` is a deprecated function and will be removed in a future version. Please adapt your code to use either `displot` (a figure-level function with similar flexibility) or `histplot` (an axes-level function for histograms).\n",
            "  warnings.warn(msg, FutureWarning)\n"
          ]
        },
        {
          "output_type": "execute_result",
          "data": {
            "text/plain": [
              "Text(0.5, 1.0, 'Temp Distribution Plot')"
            ]
          },
          "metadata": {},
          "execution_count": 90
        },
        {
          "output_type": "display_data",
          "data": {
            "image/png": "[encoded data removed]",
            "text/plain": [
              "<Figure size 576x576 with 1 Axes>"
            ]
          },
          "metadata": {
            "needs_background": "light"
          }
        }
      ]
    },
    {
      "cell_type": "code",
      "metadata": {
        "colab": {
          "base_uri": "https://localhost:8080/",
          "height": 313
        },
        "id": "-EnsICcOo041",
        "outputId": "414c2f06-e28c-4818-ab1b-63859abe08ea"
      },
      "source": [
        "indoorcleaned_df.head()"
      ],
      "execution_count": null,
      "outputs": [
        {
          "output_type": "execute_result",
          "data": {
            "text/html": [
              "<div>\n",
              "<style scoped>\n",
              "    .dataframe tbody tr th:only-of-type {\n",
              "        vertical-align: middle;\n",
              "    }\n",
              "\n",
              "    .dataframe tbody tr th {\n",
              "        vertical-align: top;\n",
              "    }\n",
              "\n",
              "    .dataframe thead th {\n",
              "        text-align: right;\n",
              "    }\n",
              "</style>\n",
              "<table border=\"1\" class=\"dataframe\">\n",
              "  <thead>\n",
              "    <tr style=\"text-align: right;\">\n",
              "      <th></th>\n",
              "      <th>logger</th>\n",
              "      <th>date</th>\n",
              "      <th>temp</th>\n",
              "      <th>Temp_Out</th>\n",
              "      <th>Out_Hum</th>\n",
              "      <th>Wind_Speed</th>\n",
              "      <th>Heat_Index</th>\n",
              "      <th>Rain</th>\n",
              "      <th>Solar_Rad</th>\n",
              "      <th>Area</th>\n",
              "      <th>Floor</th>\n",
              "      <th>Floor_on_top</th>\n",
              "      <th>Roof_structure</th>\n",
              "      <th>Wall_material</th>\n",
              "      <th>Fan</th>\n",
              "      <th>Evaporative_cooler</th>\n",
              "      <th>Flowing_ventilation</th>\n",
              "      <th>LCZ</th>\n",
              "      <th>temp_log</th>\n",
              "    </tr>\n",
              "  </thead>\n",
              "  <tbody>\n",
              "    <tr>\n",
              "      <th>0</th>\n",
              "      <td>10692989</td>\n",
              "      <td>12/04/16</td>\n",
              "      <td>31.4</td>\n",
              "      <td>34.3</td>\n",
              "      <td>29</td>\n",
              "      <td>1.8</td>\n",
              "      <td>32.5</td>\n",
              "      <td>0.0</td>\n",
              "      <td>906</td>\n",
              "      <td>Railway Colony</td>\n",
              "      <td>4</td>\n",
              "      <td>no</td>\n",
              "      <td>concrete</td>\n",
              "      <td>bricks</td>\n",
              "      <td>1</td>\n",
              "      <td>yes</td>\n",
              "      <td>1.0</td>\n",
              "      <td>2</td>\n",
              "      <td>3.446808</td>\n",
              "    </tr>\n",
              "    <tr>\n",
              "      <th>1</th>\n",
              "      <td>10692990</td>\n",
              "      <td>12/04/16</td>\n",
              "      <td>31.5</td>\n",
              "      <td>34.3</td>\n",
              "      <td>29</td>\n",
              "      <td>1.8</td>\n",
              "      <td>32.5</td>\n",
              "      <td>0.0</td>\n",
              "      <td>906</td>\n",
              "      <td>Kasturbha Nagar</td>\n",
              "      <td>1</td>\n",
              "      <td>no</td>\n",
              "      <td>concrete</td>\n",
              "      <td>bricks</td>\n",
              "      <td>1</td>\n",
              "      <td>yes</td>\n",
              "      <td>1.0</td>\n",
              "      <td>5</td>\n",
              "      <td>3.449988</td>\n",
              "    </tr>\n",
              "    <tr>\n",
              "      <th>2</th>\n",
              "      <td>10692993</td>\n",
              "      <td>12/04/16</td>\n",
              "      <td>32.7</td>\n",
              "      <td>34.3</td>\n",
              "      <td>29</td>\n",
              "      <td>1.8</td>\n",
              "      <td>32.5</td>\n",
              "      <td>0.0</td>\n",
              "      <td>906</td>\n",
              "      <td>Sarai Kale Khan</td>\n",
              "      <td>3</td>\n",
              "      <td>yes</td>\n",
              "      <td>floor on top</td>\n",
              "      <td>bricks</td>\n",
              "      <td>1</td>\n",
              "      <td>yes</td>\n",
              "      <td>0.0</td>\n",
              "      <td>3</td>\n",
              "      <td>3.487375</td>\n",
              "    </tr>\n",
              "    <tr>\n",
              "      <th>3</th>\n",
              "      <td>10692995</td>\n",
              "      <td>12/04/16</td>\n",
              "      <td>32.9</td>\n",
              "      <td>34.3</td>\n",
              "      <td>29</td>\n",
              "      <td>1.8</td>\n",
              "      <td>32.5</td>\n",
              "      <td>0.0</td>\n",
              "      <td>906</td>\n",
              "      <td>Lodhi Colony</td>\n",
              "      <td>2</td>\n",
              "      <td>no</td>\n",
              "      <td>concrete</td>\n",
              "      <td>bricks</td>\n",
              "      <td>1</td>\n",
              "      <td>yes</td>\n",
              "      <td>1.0</td>\n",
              "      <td>6</td>\n",
              "      <td>3.493473</td>\n",
              "    </tr>\n",
              "    <tr>\n",
              "      <th>4</th>\n",
              "      <td>10692998</td>\n",
              "      <td>12/04/16</td>\n",
              "      <td>32.4</td>\n",
              "      <td>34.3</td>\n",
              "      <td>29</td>\n",
              "      <td>1.8</td>\n",
              "      <td>32.5</td>\n",
              "      <td>0.0</td>\n",
              "      <td>906</td>\n",
              "      <td>Patparganj slum</td>\n",
              "      <td>0</td>\n",
              "      <td>yes</td>\n",
              "      <td>floor on top</td>\n",
              "      <td>bricks</td>\n",
              "      <td>1</td>\n",
              "      <td>yes</td>\n",
              "      <td>1.0</td>\n",
              "      <td>2</td>\n",
              "      <td>3.478158</td>\n",
              "    </tr>\n",
              "  </tbody>\n",
              "</table>\n",
              "</div>"
            ],
            "text/plain": [
              "     logger      date  temp  ...  Flowing_ventilation  LCZ  temp_log\n",
              "0  10692989  12/04/16  31.4  ...                  1.0    2  3.446808\n",
              "1  10692990  12/04/16  31.5  ...                  1.0    5  3.449988\n",
              "2  10692993  12/04/16  32.7  ...                  0.0    3  3.487375\n",
              "3  10692995  12/04/16  32.9  ...                  1.0    6  3.493473\n",
              "4  10692998  12/04/16  32.4  ...                  1.0    2  3.478158\n",
              "\n",
              "[5 rows x 19 columns]"
            ]
          },
          "metadata": {},
          "execution_count": 91
        }
      ]
    },
    {
      "cell_type": "markdown",
      "metadata": {
        "id": "63gd5TqkjPOq"
      },
      "source": [
        "Transforming categorical variables into numerics."
      ]
    },
    {
      "cell_type": "code",
      "metadata": {
        "id": "4jgEwuP0xPqX"
      },
      "source": [
        "#len(indoorcleaned_df['Evaporative.cooler'].unique())"
      ],
      "execution_count": null,
      "outputs": []
    },
    {
      "cell_type": "code",
      "metadata": {
        "id": "70_93DwFxLpG"
      },
      "source": [
        "#len(indoorcleaned_df['Wall.material'].unique())"
      ],
      "execution_count": null,
      "outputs": []
    },
    {
      "cell_type": "code",
      "metadata": {
        "id": "xoecdCIVxDtH"
      },
      "source": [
        "#len(indoorcleaned_df['Roof.structure'].unique())"
      ],
      "execution_count": null,
      "outputs": []
    },
    {
      "cell_type": "code",
      "metadata": {
        "id": "KLm27O_Lgdrt"
      },
      "source": [
        "#len(indoorcleaned_df['Humidity.sensor'].unique())"
      ],
      "execution_count": null,
      "outputs": []
    },
    {
      "cell_type": "code",
      "metadata": {
        "colab": {
          "base_uri": "https://localhost:8080/"
        },
        "id": "7_ins9903eCU",
        "outputId": "f8b25ab2-949b-4a4b-b58c-65015af9484b"
      },
      "source": [
        "indoorcleaned_df['Evaporative_cooler'] = pd.factorize(indoorcleaned_df.Evaporative_cooler)[0]\n",
        "indoorcleaned_df['Roof_structure'] = pd.factorize(indoorcleaned_df.Roof_structure)[0]\n",
        "indoorcleaned_df['Wall_material'] = pd.factorize(indoorcleaned_df.Wall_material)[0]\n",
        "indoorcleaned_df['Floor_on_top'] = pd.factorize(indoorcleaned_df.Floor_on_top)[0]"
      ],
      "execution_count": null,
      "outputs": [
        {
          "output_type": "stream",
          "name": "stderr",
          "text": [
            "/usr/local/lib/python3.7/dist-packages/ipykernel_launcher.py:1: SettingWithCopyWarning: \n",
            "A value is trying to be set on a copy of a slice from a DataFrame.\n",
            "Try using .loc[row_indexer,col_indexer] = value instead\n",
            "\n",
            "See the caveats in the documentation: https://pandas.pydata.org/pandas-docs/stable/user_guide/indexing.html#returning-a-view-versus-a-copy\n",
            "  \"\"\"Entry point for launching an IPython kernel.\n",
            "/usr/local/lib/python3.7/dist-packages/ipykernel_launcher.py:2: SettingWithCopyWarning: \n",
            "A value is trying to be set on a copy of a slice from a DataFrame.\n",
            "Try using .loc[row_indexer,col_indexer] = value instead\n",
            "\n",
            "See the caveats in the documentation: https://pandas.pydata.org/pandas-docs/stable/user_guide/indexing.html#returning-a-view-versus-a-copy\n",
            "  \n",
            "/usr/local/lib/python3.7/dist-packages/ipykernel_launcher.py:3: SettingWithCopyWarning: \n",
            "A value is trying to be set on a copy of a slice from a DataFrame.\n",
            "Try using .loc[row_indexer,col_indexer] = value instead\n",
            "\n",
            "See the caveats in the documentation: https://pandas.pydata.org/pandas-docs/stable/user_guide/indexing.html#returning-a-view-versus-a-copy\n",
            "  This is separate from the ipykernel package so we can avoid doing imports until\n",
            "/usr/local/lib/python3.7/dist-packages/ipykernel_launcher.py:4: SettingWithCopyWarning: \n",
            "A value is trying to be set on a copy of a slice from a DataFrame.\n",
            "Try using .loc[row_indexer,col_indexer] = value instead\n",
            "\n",
            "See the caveats in the documentation: https://pandas.pydata.org/pandas-docs/stable/user_guide/indexing.html#returning-a-view-versus-a-copy\n",
            "  after removing the cwd from sys.path.\n"
          ]
        }
      ]
    },
    {
      "cell_type": "code",
      "metadata": {
        "colab": {
          "base_uri": "https://localhost:8080/",
          "height": 313
        },
        "id": "oLkh0Yz0j91b",
        "outputId": "a7832f5a-b355-4848-f0c7-324d027c3965"
      },
      "source": [
        "#indoorcleaned_df = pd.get_dummies(indoorcleaned_df)\n",
        "indoorcleaned_df.head()"
      ],
      "execution_count": null,
      "outputs": [
        {
          "output_type": "execute_result",
          "data": {
            "text/html": [
              "<div>\n",
              "<style scoped>\n",
              "    .dataframe tbody tr th:only-of-type {\n",
              "        vertical-align: middle;\n",
              "    }\n",
              "\n",
              "    .dataframe tbody tr th {\n",
              "        vertical-align: top;\n",
              "    }\n",
              "\n",
              "    .dataframe thead th {\n",
              "        text-align: right;\n",
              "    }\n",
              "</style>\n",
              "<table border=\"1\" class=\"dataframe\">\n",
              "  <thead>\n",
              "    <tr style=\"text-align: right;\">\n",
              "      <th></th>\n",
              "      <th>logger</th>\n",
              "      <th>date</th>\n",
              "      <th>temp</th>\n",
              "      <th>Temp_Out</th>\n",
              "      <th>Out_Hum</th>\n",
              "      <th>Wind_Speed</th>\n",
              "      <th>Heat_Index</th>\n",
              "      <th>Rain</th>\n",
              "      <th>Solar_Rad</th>\n",
              "      <th>Area</th>\n",
              "      <th>Floor</th>\n",
              "      <th>Floor_on_top</th>\n",
              "      <th>Roof_structure</th>\n",
              "      <th>Wall_material</th>\n",
              "      <th>Fan</th>\n",
              "      <th>Evaporative_cooler</th>\n",
              "      <th>Flowing_ventilation</th>\n",
              "      <th>LCZ</th>\n",
              "      <th>temp_log</th>\n",
              "    </tr>\n",
              "  </thead>\n",
              "  <tbody>\n",
              "    <tr>\n",
              "      <th>0</th>\n",
              "      <td>10692989</td>\n",
              "      <td>12/04/16</td>\n",
              "      <td>31.4</td>\n",
              "      <td>34.3</td>\n",
              "      <td>29</td>\n",
              "      <td>1.8</td>\n",
              "      <td>32.5</td>\n",
              "      <td>0.0</td>\n",
              "      <td>906</td>\n",
              "      <td>Railway Colony</td>\n",
              "      <td>4</td>\n",
              "      <td>0</td>\n",
              "      <td>0</td>\n",
              "      <td>0</td>\n",
              "      <td>1</td>\n",
              "      <td>0</td>\n",
              "      <td>1.0</td>\n",
              "      <td>2</td>\n",
              "      <td>3.446808</td>\n",
              "    </tr>\n",
              "    <tr>\n",
              "      <th>1</th>\n",
              "      <td>10692990</td>\n",
              "      <td>12/04/16</td>\n",
              "      <td>31.5</td>\n",
              "      <td>34.3</td>\n",
              "      <td>29</td>\n",
              "      <td>1.8</td>\n",
              "      <td>32.5</td>\n",
              "      <td>0.0</td>\n",
              "      <td>906</td>\n",
              "      <td>Kasturbha Nagar</td>\n",
              "      <td>1</td>\n",
              "      <td>0</td>\n",
              "      <td>0</td>\n",
              "      <td>0</td>\n",
              "      <td>1</td>\n",
              "      <td>0</td>\n",
              "      <td>1.0</td>\n",
              "      <td>5</td>\n",
              "      <td>3.449988</td>\n",
              "    </tr>\n",
              "    <tr>\n",
              "      <th>2</th>\n",
              "      <td>10692993</td>\n",
              "      <td>12/04/16</td>\n",
              "      <td>32.7</td>\n",
              "      <td>34.3</td>\n",
              "      <td>29</td>\n",
              "      <td>1.8</td>\n",
              "      <td>32.5</td>\n",
              "      <td>0.0</td>\n",
              "      <td>906</td>\n",
              "      <td>Sarai Kale Khan</td>\n",
              "      <td>3</td>\n",
              "      <td>1</td>\n",
              "      <td>1</td>\n",
              "      <td>0</td>\n",
              "      <td>1</td>\n",
              "      <td>0</td>\n",
              "      <td>0.0</td>\n",
              "      <td>3</td>\n",
              "      <td>3.487375</td>\n",
              "    </tr>\n",
              "    <tr>\n",
              "      <th>3</th>\n",
              "      <td>10692995</td>\n",
              "      <td>12/04/16</td>\n",
              "      <td>32.9</td>\n",
              "      <td>34.3</td>\n",
              "      <td>29</td>\n",
              "      <td>1.8</td>\n",
              "      <td>32.5</td>\n",
              "      <td>0.0</td>\n",
              "      <td>906</td>\n",
              "      <td>Lodhi Colony</td>\n",
              "      <td>2</td>\n",
              "      <td>0</td>\n",
              "      <td>0</td>\n",
              "      <td>0</td>\n",
              "      <td>1</td>\n",
              "      <td>0</td>\n",
              "      <td>1.0</td>\n",
              "      <td>6</td>\n",
              "      <td>3.493473</td>\n",
              "    </tr>\n",
              "    <tr>\n",
              "      <th>4</th>\n",
              "      <td>10692998</td>\n",
              "      <td>12/04/16</td>\n",
              "      <td>32.4</td>\n",
              "      <td>34.3</td>\n",
              "      <td>29</td>\n",
              "      <td>1.8</td>\n",
              "      <td>32.5</td>\n",
              "      <td>0.0</td>\n",
              "      <td>906</td>\n",
              "      <td>Patparganj slum</td>\n",
              "      <td>0</td>\n",
              "      <td>1</td>\n",
              "      <td>1</td>\n",
              "      <td>0</td>\n",
              "      <td>1</td>\n",
              "      <td>0</td>\n",
              "      <td>1.0</td>\n",
              "      <td>2</td>\n",
              "      <td>3.478158</td>\n",
              "    </tr>\n",
              "  </tbody>\n",
              "</table>\n",
              "</div>"
            ],
            "text/plain": [
              "     logger      date  temp  ...  Flowing_ventilation  LCZ  temp_log\n",
              "0  10692989  12/04/16  31.4  ...                  1.0    2  3.446808\n",
              "1  10692990  12/04/16  31.5  ...                  1.0    5  3.449988\n",
              "2  10692993  12/04/16  32.7  ...                  0.0    3  3.487375\n",
              "3  10692995  12/04/16  32.9  ...                  1.0    6  3.493473\n",
              "4  10692998  12/04/16  32.4  ...                  1.0    2  3.478158\n",
              "\n",
              "[5 rows x 19 columns]"
            ]
          },
          "metadata": {},
          "execution_count": 97
        }
      ]
    },
    {
      "cell_type": "code",
      "metadata": {
        "colab": {
          "base_uri": "https://localhost:8080/",
          "height": 937
        },
        "id": "7gLxm_LOgFca",
        "outputId": "bed867c3-0be8-41ec-d431-6974a2dc22df"
      },
      "source": [
        "# Plotting the pearson correlation matrix of the features\n",
        "colormap = plt.cm.RdBu\n",
        "plt.figure(figsize=(30,15))\n",
        "plt.title('Pearson Correlation of Features', y=1.05, size=15)\n",
        "sns.heatmap(indoorcleaned_df.corr(),linewidths=0.1,vmax=1.0, square=True, cmap=colormap, linecolor='white', annot=False)\n",
        "plt.show()"
      ],
      "execution_count": null,
      "outputs": [
        {
          "output_type": "display_data",
          "data": {
            "image/png": "[encoded data removed]",
            "text/plain": [
              "<Figure size 2160x1080 with 2 Axes>"
            ]
          },
          "metadata": {
            "needs_background": "light"
          }
        }
      ]
    },
    {
      "cell_type": "markdown",
      "metadata": {
        "id": "P-s1ev9QRzPG"
      },
      "source": [
        "We have a few strong correlations, especially with humidity, LCZ, and the presence of ventilation. Linear models might work, but lets see. \n",
        "\n",
        "Seperating the features and the target:"
      ]
    },
    {
      "cell_type": "code",
      "metadata": {
        "id": "l-DLoor-m3x_"
      },
      "source": [
        "indoorcleaned_df = pd.get_dummies(indoorcleaned_df)\n",
        "\n",
        "indoorcleaned_df.to_csv('indoorheat_df_mod.csv')"
      ],
      "execution_count": null,
      "outputs": []
    },
    {
      "cell_type": "code",
      "metadata": {
        "id": "4dd8DLp4pPRh"
      },
      "source": [
        "X = indoorcleaned_df.drop(['temp', 'temp_log'], axis=1)\n",
        "Y = indoorcleaned_df['temp']"
      ],
      "execution_count": null,
      "outputs": []
    },
    {
      "cell_type": "code",
      "metadata": {
        "colab": {
          "base_uri": "https://localhost:8080/",
          "height": 273
        },
        "id": "lonoQUxHqMWK",
        "outputId": "3d1064fb-a48c-4b14-8255-0c2db230cffe"
      },
      "source": [
        "X.head()"
      ],
      "execution_count": null,
      "outputs": [
        {
          "output_type": "execute_result",
          "data": {
            "text/html": [
              "<div>\n",
              "<style scoped>\n",
              "    .dataframe tbody tr th:only-of-type {\n",
              "        vertical-align: middle;\n",
              "    }\n",
              "\n",
              "    .dataframe tbody tr th {\n",
              "        vertical-align: top;\n",
              "    }\n",
              "\n",
              "    .dataframe thead th {\n",
              "        text-align: right;\n",
              "    }\n",
              "</style>\n",
              "<table border=\"1\" class=\"dataframe\">\n",
              "  <thead>\n",
              "    <tr style=\"text-align: right;\">\n",
              "      <th></th>\n",
              "      <th>logger</th>\n",
              "      <th>Temp_Out</th>\n",
              "      <th>Out_Hum</th>\n",
              "      <th>Wind_Speed</th>\n",
              "      <th>Heat_Index</th>\n",
              "      <th>Rain</th>\n",
              "      <th>Solar_Rad</th>\n",
              "      <th>Floor</th>\n",
              "      <th>Floor_on_top</th>\n",
              "      <th>Roof_structure</th>\n",
              "      <th>Wall_material</th>\n",
              "      <th>Fan</th>\n",
              "      <th>Evaporative_cooler</th>\n",
              "      <th>Flowing_ventilation</th>\n",
              "      <th>LCZ</th>\n",
              "      <th>date_01/05/16</th>\n",
              "      <th>date_01/06/16</th>\n",
              "      <th>date_01/07/16</th>\n",
              "      <th>date_01/08/16</th>\n",
              "      <th>date_01/09/16</th>\n",
              "      <th>date_01/10/16</th>\n",
              "      <th>date_02/05/16</th>\n",
              "      <th>date_02/06/16</th>\n",
              "      <th>date_02/07/16</th>\n",
              "      <th>date_02/08/16</th>\n",
              "      <th>date_02/09/16</th>\n",
              "      <th>date_02/10/16</th>\n",
              "      <th>date_03/05/16</th>\n",
              "      <th>date_03/06/16</th>\n",
              "      <th>date_03/07/16</th>\n",
              "      <th>date_03/08/16</th>\n",
              "      <th>date_03/09/16</th>\n",
              "      <th>date_03/10/16</th>\n",
              "      <th>date_04/05/16</th>\n",
              "      <th>date_04/06/16</th>\n",
              "      <th>date_04/07/16</th>\n",
              "      <th>date_04/08/16</th>\n",
              "      <th>date_04/09/16</th>\n",
              "      <th>date_04/10/16</th>\n",
              "      <th>date_05/05/16</th>\n",
              "      <th>...</th>\n",
              "      <th>date_25/07/16</th>\n",
              "      <th>date_25/08/16</th>\n",
              "      <th>date_25/09/16</th>\n",
              "      <th>date_26/04/16</th>\n",
              "      <th>date_26/05/16</th>\n",
              "      <th>date_26/06/16</th>\n",
              "      <th>date_26/07/16</th>\n",
              "      <th>date_26/08/16</th>\n",
              "      <th>date_26/09/16</th>\n",
              "      <th>date_27/04/16</th>\n",
              "      <th>date_27/05/16</th>\n",
              "      <th>date_27/06/16</th>\n",
              "      <th>date_27/07/16</th>\n",
              "      <th>date_27/08/16</th>\n",
              "      <th>date_27/09/16</th>\n",
              "      <th>date_28/04/16</th>\n",
              "      <th>date_28/05/16</th>\n",
              "      <th>date_28/06/16</th>\n",
              "      <th>date_28/07/16</th>\n",
              "      <th>date_28/08/16</th>\n",
              "      <th>date_28/09/16</th>\n",
              "      <th>date_29/04/16</th>\n",
              "      <th>date_29/05/16</th>\n",
              "      <th>date_29/06/16</th>\n",
              "      <th>date_29/07/16</th>\n",
              "      <th>date_29/08/16</th>\n",
              "      <th>date_29/09/16</th>\n",
              "      <th>date_30/04/16</th>\n",
              "      <th>date_30/05/16</th>\n",
              "      <th>date_30/06/16</th>\n",
              "      <th>date_30/08/16</th>\n",
              "      <th>date_30/09/16</th>\n",
              "      <th>date_31/05/16</th>\n",
              "      <th>date_31/08/16</th>\n",
              "      <th>Area_Kasturbha Nagar</th>\n",
              "      <th>Area_Laxmi Nagar</th>\n",
              "      <th>Area_Lodhi Colony</th>\n",
              "      <th>Area_Patparganj slum</th>\n",
              "      <th>Area_Railway Colony</th>\n",
              "      <th>Area_Sarai Kale Khan</th>\n",
              "    </tr>\n",
              "  </thead>\n",
              "  <tbody>\n",
              "    <tr>\n",
              "      <th>0</th>\n",
              "      <td>10692989</td>\n",
              "      <td>34.3</td>\n",
              "      <td>29</td>\n",
              "      <td>1.8</td>\n",
              "      <td>32.5</td>\n",
              "      <td>0.0</td>\n",
              "      <td>906</td>\n",
              "      <td>4</td>\n",
              "      <td>0</td>\n",
              "      <td>0</td>\n",
              "      <td>0</td>\n",
              "      <td>1</td>\n",
              "      <td>0</td>\n",
              "      <td>1.0</td>\n",
              "      <td>2</td>\n",
              "      <td>0</td>\n",
              "      <td>0</td>\n",
              "      <td>0</td>\n",
              "      <td>0</td>\n",
              "      <td>0</td>\n",
              "      <td>0</td>\n",
              "      <td>0</td>\n",
              "      <td>0</td>\n",
              "      <td>0</td>\n",
              "      <td>0</td>\n",
              "      <td>0</td>\n",
              "      <td>0</td>\n",
              "      <td>0</td>\n",
              "      <td>0</td>\n",
              "      <td>0</td>\n",
              "      <td>0</td>\n",
              "      <td>0</td>\n",
              "      <td>0</td>\n",
              "      <td>0</td>\n",
              "      <td>0</td>\n",
              "      <td>0</td>\n",
              "      <td>0</td>\n",
              "      <td>0</td>\n",
              "      <td>0</td>\n",
              "      <td>0</td>\n",
              "      <td>...</td>\n",
              "      <td>0</td>\n",
              "      <td>0</td>\n",
              "      <td>0</td>\n",
              "      <td>0</td>\n",
              "      <td>0</td>\n",
              "      <td>0</td>\n",
              "      <td>0</td>\n",
              "      <td>0</td>\n",
              "      <td>0</td>\n",
              "      <td>0</td>\n",
              "      <td>0</td>\n",
              "      <td>0</td>\n",
              "      <td>0</td>\n",
              "      <td>0</td>\n",
              "      <td>0</td>\n",
              "      <td>0</td>\n",
              "      <td>0</td>\n",
              "      <td>0</td>\n",
              "      <td>0</td>\n",
              "      <td>0</td>\n",
              "      <td>0</td>\n",
              "      <td>0</td>\n",
              "      <td>0</td>\n",
              "      <td>0</td>\n",
              "      <td>0</td>\n",
              "      <td>0</td>\n",
              "      <td>0</td>\n",
              "      <td>0</td>\n",
              "      <td>0</td>\n",
              "      <td>0</td>\n",
              "      <td>0</td>\n",
              "      <td>0</td>\n",
              "      <td>0</td>\n",
              "      <td>0</td>\n",
              "      <td>0</td>\n",
              "      <td>0</td>\n",
              "      <td>0</td>\n",
              "      <td>0</td>\n",
              "      <td>1</td>\n",
              "      <td>0</td>\n",
              "    </tr>\n",
              "    <tr>\n",
              "      <th>1</th>\n",
              "      <td>10692990</td>\n",
              "      <td>34.3</td>\n",
              "      <td>29</td>\n",
              "      <td>1.8</td>\n",
              "      <td>32.5</td>\n",
              "      <td>0.0</td>\n",
              "      <td>906</td>\n",
              "      <td>1</td>\n",
              "      <td>0</td>\n",
              "      <td>0</td>\n",
              "      <td>0</td>\n",
              "      <td>1</td>\n",
              "      <td>0</td>\n",
              "      <td>1.0</td>\n",
              "      <td>5</td>\n",
              "      <td>0</td>\n",
              "      <td>0</td>\n",
              "      <td>0</td>\n",
              "      <td>0</td>\n",
              "      <td>0</td>\n",
              "      <td>0</td>\n",
              "      <td>0</td>\n",
              "      <td>0</td>\n",
              "      <td>0</td>\n",
              "      <td>0</td>\n",
              "      <td>0</td>\n",
              "      <td>0</td>\n",
              "      <td>0</td>\n",
              "      <td>0</td>\n",
              "      <td>0</td>\n",
              "      <td>0</td>\n",
              "      <td>0</td>\n",
              "      <td>0</td>\n",
              "      <td>0</td>\n",
              "      <td>0</td>\n",
              "      <td>0</td>\n",
              "      <td>0</td>\n",
              "      <td>0</td>\n",
              "      <td>0</td>\n",
              "      <td>0</td>\n",
              "      <td>...</td>\n",
              "      <td>0</td>\n",
              "      <td>0</td>\n",
              "      <td>0</td>\n",
              "      <td>0</td>\n",
              "      <td>0</td>\n",
              "      <td>0</td>\n",
              "      <td>0</td>\n",
              "      <td>0</td>\n",
              "      <td>0</td>\n",
              "      <td>0</td>\n",
              "      <td>0</td>\n",
              "      <td>0</td>\n",
              "      <td>0</td>\n",
              "      <td>0</td>\n",
              "      <td>0</td>\n",
              "      <td>0</td>\n",
              "      <td>0</td>\n",
              "      <td>0</td>\n",
              "      <td>0</td>\n",
              "      <td>0</td>\n",
              "      <td>0</td>\n",
              "      <td>0</td>\n",
              "      <td>0</td>\n",
              "      <td>0</td>\n",
              "      <td>0</td>\n",
              "      <td>0</td>\n",
              "      <td>0</td>\n",
              "      <td>0</td>\n",
              "      <td>0</td>\n",
              "      <td>0</td>\n",
              "      <td>0</td>\n",
              "      <td>0</td>\n",
              "      <td>0</td>\n",
              "      <td>0</td>\n",
              "      <td>1</td>\n",
              "      <td>0</td>\n",
              "      <td>0</td>\n",
              "      <td>0</td>\n",
              "      <td>0</td>\n",
              "      <td>0</td>\n",
              "    </tr>\n",
              "    <tr>\n",
              "      <th>2</th>\n",
              "      <td>10692993</td>\n",
              "      <td>34.3</td>\n",
              "      <td>29</td>\n",
              "      <td>1.8</td>\n",
              "      <td>32.5</td>\n",
              "      <td>0.0</td>\n",
              "      <td>906</td>\n",
              "      <td>3</td>\n",
              "      <td>1</td>\n",
              "      <td>1</td>\n",
              "      <td>0</td>\n",
              "      <td>1</td>\n",
              "      <td>0</td>\n",
              "      <td>0.0</td>\n",
              "      <td>3</td>\n",
              "      <td>0</td>\n",
              "      <td>0</td>\n",
              "      <td>0</td>\n",
              "      <td>0</td>\n",
              "      <td>0</td>\n",
              "      <td>0</td>\n",
              "      <td>0</td>\n",
              "      <td>0</td>\n",
              "      <td>0</td>\n",
              "      <td>0</td>\n",
              "      <td>0</td>\n",
              "      <td>0</td>\n",
              "      <td>0</td>\n",
              "      <td>0</td>\n",
              "      <td>0</td>\n",
              "      <td>0</td>\n",
              "      <td>0</td>\n",
              "      <td>0</td>\n",
              "      <td>0</td>\n",
              "      <td>0</td>\n",
              "      <td>0</td>\n",
              "      <td>0</td>\n",
              "      <td>0</td>\n",
              "      <td>0</td>\n",
              "      <td>0</td>\n",
              "      <td>...</td>\n",
              "      <td>0</td>\n",
              "      <td>0</td>\n",
              "      <td>0</td>\n",
              "      <td>0</td>\n",
              "      <td>0</td>\n",
              "      <td>0</td>\n",
              "      <td>0</td>\n",
              "      <td>0</td>\n",
              "      <td>0</td>\n",
              "      <td>0</td>\n",
              "      <td>0</td>\n",
              "      <td>0</td>\n",
              "      <td>0</td>\n",
              "      <td>0</td>\n",
              "      <td>0</td>\n",
              "      <td>0</td>\n",
              "      <td>0</td>\n",
              "      <td>0</td>\n",
              "      <td>0</td>\n",
              "      <td>0</td>\n",
              "      <td>0</td>\n",
              "      <td>0</td>\n",
              "      <td>0</td>\n",
              "      <td>0</td>\n",
              "      <td>0</td>\n",
              "      <td>0</td>\n",
              "      <td>0</td>\n",
              "      <td>0</td>\n",
              "      <td>0</td>\n",
              "      <td>0</td>\n",
              "      <td>0</td>\n",
              "      <td>0</td>\n",
              "      <td>0</td>\n",
              "      <td>0</td>\n",
              "      <td>0</td>\n",
              "      <td>0</td>\n",
              "      <td>0</td>\n",
              "      <td>0</td>\n",
              "      <td>0</td>\n",
              "      <td>1</td>\n",
              "    </tr>\n",
              "    <tr>\n",
              "      <th>3</th>\n",
              "      <td>10692995</td>\n",
              "      <td>34.3</td>\n",
              "      <td>29</td>\n",
              "      <td>1.8</td>\n",
              "      <td>32.5</td>\n",
              "      <td>0.0</td>\n",
              "      <td>906</td>\n",
              "      <td>2</td>\n",
              "      <td>0</td>\n",
              "      <td>0</td>\n",
              "      <td>0</td>\n",
              "      <td>1</td>\n",
              "      <td>0</td>\n",
              "      <td>1.0</td>\n",
              "      <td>6</td>\n",
              "      <td>0</td>\n",
              "      <td>0</td>\n",
              "      <td>0</td>\n",
              "      <td>0</td>\n",
              "      <td>0</td>\n",
              "      <td>0</td>\n",
              "      <td>0</td>\n",
              "      <td>0</td>\n",
              "      <td>0</td>\n",
              "      <td>0</td>\n",
              "      <td>0</td>\n",
              "      <td>0</td>\n",
              "      <td>0</td>\n",
              "      <td>0</td>\n",
              "      <td>0</td>\n",
              "      <td>0</td>\n",
              "      <td>0</td>\n",
              "      <td>0</td>\n",
              "      <td>0</td>\n",
              "      <td>0</td>\n",
              "      <td>0</td>\n",
              "      <td>0</td>\n",
              "      <td>0</td>\n",
              "      <td>0</td>\n",
              "      <td>0</td>\n",
              "      <td>...</td>\n",
              "      <td>0</td>\n",
              "      <td>0</td>\n",
              "      <td>0</td>\n",
              "      <td>0</td>\n",
              "      <td>0</td>\n",
              "      <td>0</td>\n",
              "      <td>0</td>\n",
              "      <td>0</td>\n",
              "      <td>0</td>\n",
              "      <td>0</td>\n",
              "      <td>0</td>\n",
              "      <td>0</td>\n",
              "      <td>0</td>\n",
              "      <td>0</td>\n",
              "      <td>0</td>\n",
              "      <td>0</td>\n",
              "      <td>0</td>\n",
              "      <td>0</td>\n",
              "      <td>0</td>\n",
              "      <td>0</td>\n",
              "      <td>0</td>\n",
              "      <td>0</td>\n",
              "      <td>0</td>\n",
              "      <td>0</td>\n",
              "      <td>0</td>\n",
              "      <td>0</td>\n",
              "      <td>0</td>\n",
              "      <td>0</td>\n",
              "      <td>0</td>\n",
              "      <td>0</td>\n",
              "      <td>0</td>\n",
              "      <td>0</td>\n",
              "      <td>0</td>\n",
              "      <td>0</td>\n",
              "      <td>0</td>\n",
              "      <td>0</td>\n",
              "      <td>1</td>\n",
              "      <td>0</td>\n",
              "      <td>0</td>\n",
              "      <td>0</td>\n",
              "    </tr>\n",
              "    <tr>\n",
              "      <th>4</th>\n",
              "      <td>10692998</td>\n",
              "      <td>34.3</td>\n",
              "      <td>29</td>\n",
              "      <td>1.8</td>\n",
              "      <td>32.5</td>\n",
              "      <td>0.0</td>\n",
              "      <td>906</td>\n",
              "      <td>0</td>\n",
              "      <td>1</td>\n",
              "      <td>1</td>\n",
              "      <td>0</td>\n",
              "      <td>1</td>\n",
              "      <td>0</td>\n",
              "      <td>1.0</td>\n",
              "      <td>2</td>\n",
              "      <td>0</td>\n",
              "      <td>0</td>\n",
              "      <td>0</td>\n",
              "      <td>0</td>\n",
              "      <td>0</td>\n",
              "      <td>0</td>\n",
              "      <td>0</td>\n",
              "      <td>0</td>\n",
              "      <td>0</td>\n",
              "      <td>0</td>\n",
              "      <td>0</td>\n",
              "      <td>0</td>\n",
              "      <td>0</td>\n",
              "      <td>0</td>\n",
              "      <td>0</td>\n",
              "      <td>0</td>\n",
              "      <td>0</td>\n",
              "      <td>0</td>\n",
              "      <td>0</td>\n",
              "      <td>0</td>\n",
              "      <td>0</td>\n",
              "      <td>0</td>\n",
              "      <td>0</td>\n",
              "      <td>0</td>\n",
              "      <td>0</td>\n",
              "      <td>...</td>\n",
              "      <td>0</td>\n",
              "      <td>0</td>\n",
              "      <td>0</td>\n",
              "      <td>0</td>\n",
              "      <td>0</td>\n",
              "      <td>0</td>\n",
              "      <td>0</td>\n",
              "      <td>0</td>\n",
              "      <td>0</td>\n",
              "      <td>0</td>\n",
              "      <td>0</td>\n",
              "      <td>0</td>\n",
              "      <td>0</td>\n",
              "      <td>0</td>\n",
              "      <td>0</td>\n",
              "      <td>0</td>\n",
              "      <td>0</td>\n",
              "      <td>0</td>\n",
              "      <td>0</td>\n",
              "      <td>0</td>\n",
              "      <td>0</td>\n",
              "      <td>0</td>\n",
              "      <td>0</td>\n",
              "      <td>0</td>\n",
              "      <td>0</td>\n",
              "      <td>0</td>\n",
              "      <td>0</td>\n",
              "      <td>0</td>\n",
              "      <td>0</td>\n",
              "      <td>0</td>\n",
              "      <td>0</td>\n",
              "      <td>0</td>\n",
              "      <td>0</td>\n",
              "      <td>0</td>\n",
              "      <td>0</td>\n",
              "      <td>0</td>\n",
              "      <td>0</td>\n",
              "      <td>1</td>\n",
              "      <td>0</td>\n",
              "      <td>0</td>\n",
              "    </tr>\n",
              "  </tbody>\n",
              "</table>\n",
              "<p>5 rows × 205 columns</p>\n",
              "</div>"
            ],
            "text/plain": [
              "     logger  Temp_Out  ...  Area_Railway Colony  Area_Sarai Kale Khan\n",
              "0  10692989      34.3  ...                    1                     0\n",
              "1  10692990      34.3  ...                    0                     0\n",
              "2  10692993      34.3  ...                    0                     1\n",
              "3  10692995      34.3  ...                    0                     0\n",
              "4  10692998      34.3  ...                    0                     0\n",
              "\n",
              "[5 rows x 205 columns]"
            ]
          },
          "metadata": {},
          "execution_count": 101
        }
      ]
    },
    {
      "cell_type": "code",
      "metadata": {
        "id": "irNeP35UhP7r"
      },
      "source": [
        "from sklearn.model_selection import train_test_split\n",
        "X_train, X_test, y_train, y_test = train_test_split(X, Y, test_size=0.30, random_state=42)"
      ],
      "execution_count": null,
      "outputs": []
    },
    {
      "cell_type": "code",
      "metadata": {
        "id": "sPkXmfl-V4xi"
      },
      "source": [
        "# Scaling the features using StandardScaler\n",
        "from sklearn.preprocessing import StandardScaler\n",
        "scaler = StandardScaler()\n",
        "X_train_std = scaler.fit_transform(X_train)\n",
        "X_test_std = scaler.transform(X_test)"
      ],
      "execution_count": null,
      "outputs": []
    },
    {
      "cell_type": "code",
      "metadata": {
        "colab": {
          "base_uri": "https://localhost:8080/"
        },
        "id": "_dZihKQfWThh",
        "outputId": "bbc53d25-c63e-40bc-b271-5f1d481679c7"
      },
      "source": [
        "np.isinf(X_train_std).sum()"
      ],
      "execution_count": null,
      "outputs": [
        {
          "output_type": "execute_result",
          "data": {
            "text/plain": [
              "0"
            ]
          },
          "metadata": {},
          "execution_count": 104
        }
      ]
    },
    {
      "cell_type": "code",
      "metadata": {
        "id": "B2c6_OCfX1Hc"
      },
      "source": [
        "X_train = X_train_std\n",
        "X_test = X_test_std"
      ],
      "execution_count": null,
      "outputs": []
    },
    {
      "cell_type": "markdown",
      "metadata": {
        "id": "3MGpDXUklRum"
      },
      "source": [
        "## Regression Models"
      ]
    },
    {
      "cell_type": "markdown",
      "metadata": {
        "id": "GWZL8qW5lTm-"
      },
      "source": [
        "\n",
        "\n",
        "\n",
        "\n",
        "### Linear Model"
      ]
    },
    {
      "cell_type": "markdown",
      "metadata": {
        "id": "p-iaF9k9iMVW"
      },
      "source": [
        "Linear model without regularization"
      ]
    },
    {
      "cell_type": "code",
      "metadata": {
        "colab": {
          "base_uri": "https://localhost:8080/"
        },
        "id": "8RGzyBJvoi0I",
        "outputId": "16e53098-47b6-4e10-90a3-0eb5f7c491cb"
      },
      "source": [
        "from sklearn.linear_model import LinearRegression\n",
        "from sklearn.metrics import mean_squared_error\n",
        "#Instantiate the model:\n",
        "linear_model= LinearRegression()\n",
        "#train the model using training data\n",
        "linear_model.fit(X_train, y_train)"
      ],
      "execution_count": null,
      "outputs": [
        {
          "output_type": "execute_result",
          "data": {
            "text/plain": [
              "LinearRegression()"
            ]
          },
          "metadata": {},
          "execution_count": 106
        }
      ]
    },
    {
      "cell_type": "code",
      "metadata": {
        "colab": {
          "base_uri": "https://localhost:8080/"
        },
        "id": "ey2YGGCJpUT9",
        "outputId": "918941af-e022-4cbf-8bd2-198b36170603"
      },
      "source": [
        "train_r2 = round(linear_model.score(X_train, y_train),2)\n",
        "print('Training R2 score is {}'.format(train_r2))"
      ],
      "execution_count": null,
      "outputs": [
        {
          "output_type": "stream",
          "name": "stdout",
          "text": [
            "Training R2 score is 0.73\n"
          ]
        }
      ]
    },
    {
      "cell_type": "code",
      "metadata": {
        "colab": {
          "base_uri": "https://localhost:8080/"
        },
        "id": "7sJyxFB9pyYD",
        "outputId": "cbc95669-38d9-4543-b088-467d0dba0058"
      },
      "source": [
        "#RMSE calculations, moving away from R2 from above\n",
        "y_train_predicted = linear_model.predict(X_train)\n",
        "#mean_square_error to RMSE\n",
        "rmse_train_linear = (np.sqrt(mean_squared_error(y_train, y_train_predicted)))\n",
        "print('RMSE of the linear model for the training set is {}'.format(rmse_train_linear))"
      ],
      "execution_count": null,
      "outputs": [
        {
          "output_type": "stream",
          "name": "stdout",
          "text": [
            "RMSE of the linear model for the training set is 1.6658679507791558\n"
          ]
        }
      ]
    },
    {
      "cell_type": "code",
      "metadata": {
        "colab": {
          "base_uri": "https://localhost:8080/"
        },
        "id": "5LA6dn5NqHra",
        "outputId": "969c7321-abc3-4545-9370-72891e404688"
      },
      "source": [
        "y_pred = linear_model.predict(X_test)\n",
        "\n",
        "rmse_test_linear = (np.sqrt(mean_squared_error(y_test, y_pred)))\n",
        "print(\"RMSE of the linear model for the test set is {}\".format(rmse_test_linear))"
      ],
      "execution_count": null,
      "outputs": [
        {
          "output_type": "stream",
          "name": "stdout",
          "text": [
            "RMSE of the linear model for the test set is 1.742029173358561\n"
          ]
        }
      ]
    },
    {
      "cell_type": "code",
      "metadata": {
        "colab": {
          "base_uri": "https://localhost:8080/"
        },
        "id": "SdI5MXvHwG6Y",
        "outputId": "2b7a34ed-d588-405d-89e7-e8d01c1b0204"
      },
      "source": [
        "import numpy\n",
        "numpy.exp(0.52) - 1 "
      ],
      "execution_count": null,
      "outputs": [
        {
          "output_type": "execute_result",
          "data": {
            "text/plain": [
              "0.6820276496988864"
            ]
          },
          "metadata": {},
          "execution_count": 110
        }
      ]
    },
    {
      "cell_type": "code",
      "metadata": {
        "colab": {
          "base_uri": "https://localhost:8080/",
          "height": 206
        },
        "id": "sK2Pdec7hdmQ",
        "outputId": "919475e9-6882-4534-b015-cf62d054867a"
      },
      "source": [
        "linear_coefficients = pd.concat([pd.DataFrame(X.columns, columns={'feature'}),pd.DataFrame(np.transpose(linear_model.coef_), columns={'coefficient'})], axis = 1) \n",
        "linear_coefficients.sort_values(by='coefficient', ascending=False, inplace=True)\n",
        "#Let's just check out the top 5 coefs\n",
        "linear_coefficients.head()"
      ],
      "execution_count": null,
      "outputs": [
        {
          "output_type": "execute_result",
          "data": {
            "text/html": [
              "<div>\n",
              "<style scoped>\n",
              "    .dataframe tbody tr th:only-of-type {\n",
              "        vertical-align: middle;\n",
              "    }\n",
              "\n",
              "    .dataframe tbody tr th {\n",
              "        vertical-align: top;\n",
              "    }\n",
              "\n",
              "    .dataframe thead th {\n",
              "        text-align: right;\n",
              "    }\n",
              "</style>\n",
              "<table border=\"1\" class=\"dataframe\">\n",
              "  <thead>\n",
              "    <tr style=\"text-align: right;\">\n",
              "      <th></th>\n",
              "      <th>feature</th>\n",
              "      <th>coefficient</th>\n",
              "    </tr>\n",
              "  </thead>\n",
              "  <tbody>\n",
              "    <tr>\n",
              "      <th>3</th>\n",
              "      <td>Wind_Speed</td>\n",
              "      <td>5.877403e+11</td>\n",
              "    </tr>\n",
              "    <tr>\n",
              "      <th>4</th>\n",
              "      <td>Heat_Index</td>\n",
              "      <td>5.470406e+11</td>\n",
              "    </tr>\n",
              "    <tr>\n",
              "      <th>201</th>\n",
              "      <td>Area_Lodhi Colony</td>\n",
              "      <td>1.938999e+11</td>\n",
              "    </tr>\n",
              "    <tr>\n",
              "      <th>6</th>\n",
              "      <td>Solar_Rad</td>\n",
              "      <td>1.308422e+11</td>\n",
              "    </tr>\n",
              "    <tr>\n",
              "      <th>131</th>\n",
              "      <td>date_19/09/16</td>\n",
              "      <td>1.062200e+11</td>\n",
              "    </tr>\n",
              "  </tbody>\n",
              "</table>\n",
              "</div>"
            ],
            "text/plain": [
              "               feature   coefficient\n",
              "3           Wind_Speed  5.877403e+11\n",
              "4           Heat_Index  5.470406e+11\n",
              "201  Area_Lodhi Colony  1.938999e+11\n",
              "6            Solar_Rad  1.308422e+11\n",
              "131      date_19/09/16  1.062200e+11"
            ]
          },
          "metadata": {},
          "execution_count": 111
        }
      ]
    },
    {
      "cell_type": "markdown",
      "metadata": {
        "id": "ZmkT6ELKhZ-y"
      },
      "source": [
        "### Lasso Model\n"
      ]
    },
    {
      "cell_type": "code",
      "metadata": {
        "colab": {
          "base_uri": "https://localhost:8080/"
        },
        "id": "TZReiIJ1qaaM",
        "outputId": "2cf8a11c-3e66-453d-e5e2-d2f2b97059b1"
      },
      "source": [
        "from sklearn.linear_model import Lasso\n",
        "from sklearn.model_selection import RandomizedSearchCV\n",
        "\n",
        "lasso = Lasso()\n",
        "lasso_params_grid = {'alpha':np.arange(0.001, 10, 0.05)}\n",
        "\n",
        "lasso_cv =  RandomizedSearchCV(Lasso(), lasso_params_grid, cv=5, scoring ='neg_root_mean_squared_error', random_state=42)\n",
        "lasso_cv.fit(X_train,y_train)\n",
        "lasso_cv.best_params_"
      ],
      "execution_count": null,
      "outputs": [
        {
          "output_type": "execute_result",
          "data": {
            "text/plain": [
              "{'alpha': 0.751}"
            ]
          },
          "metadata": {},
          "execution_count": 112
        }
      ]
    },
    {
      "cell_type": "code",
      "metadata": {
        "colab": {
          "base_uri": "https://localhost:8080/"
        },
        "id": "DPnhCIo9unW9",
        "outputId": "8735dfa0-9a3c-4df5-e3f7-10a6a460e1e0"
      },
      "source": [
        "best_lasso = Lasso(alpha= 4.751)\n",
        "best_lasso.fit(X_train, y_train)"
      ],
      "execution_count": null,
      "outputs": [
        {
          "output_type": "execute_result",
          "data": {
            "text/plain": [
              "Lasso(alpha=4.751)"
            ]
          },
          "metadata": {},
          "execution_count": 113
        }
      ]
    },
    {
      "cell_type": "code",
      "metadata": {
        "colab": {
          "base_uri": "https://localhost:8080/"
        },
        "id": "Rj6mbbTBv0zI",
        "outputId": "0d91b482-bd78-440a-9182-305d649da779"
      },
      "source": [
        "# model evaluation for training set\n",
        "train_r2_lasso = round(best_lasso.score(X_train, y_train),2)\n",
        "print('Training R2 score is {}'.format(train_r2_lasso))\n",
        "y_train_predicted_lasso = best_lasso.predict(X_train)\n",
        "rmse_train_lasso = (np.sqrt(mean_squared_error(y_train, y_train_predicted_lasso)))\n",
        "print('RMSE on the training set for the lasso model is: {}'.format(rmse_train_lasso))"
      ],
      "execution_count": null,
      "outputs": [
        {
          "output_type": "stream",
          "name": "stdout",
          "text": [
            "Training R2 score is 0.0\n",
            "RMSE on the training set for the lasso model is: 3.194942771101432\n"
          ]
        }
      ]
    },
    {
      "cell_type": "code",
      "metadata": {
        "colab": {
          "base_uri": "https://localhost:8080/"
        },
        "id": "OGIAHKUzwIPj",
        "outputId": "80cd2cd2-45a2-4275-b836-79b0022245ba"
      },
      "source": [
        "# model evaluation for test set\n",
        "y_test_predicted_lasso = best_lasso.predict(X_test)\n",
        "rmse_test_lasso = (np.sqrt(mean_squared_error(y_test, y_test_predicted_lasso)))\n",
        "print(\"RMSE on test set is for the lasso model is: {}\".format(rmse_test_lasso))"
      ],
      "execution_count": null,
      "outputs": [
        {
          "output_type": "stream",
          "name": "stdout",
          "text": [
            "RMSE on test set is for the lasso model is: 3.233518922429945\n"
          ]
        }
      ]
    },
    {
      "cell_type": "code",
      "metadata": {
        "colab": {
          "base_uri": "https://localhost:8080/",
          "height": 206
        },
        "id": "UaZEOf3GhRZQ",
        "outputId": "bff1bf77-43fd-495b-dfae-98000032e02c"
      },
      "source": [
        "lasso_coefficients = pd.concat([pd.DataFrame(X.columns, columns={'feature'}),pd.DataFrame(np.transpose(best_lasso.coef_), columns={'coefficient'})], axis = 1) \n",
        "lasso_coefficients.sort_values(by='coefficient', ascending=False, inplace=True)\n",
        "lasso_coefficients.head()"
      ],
      "execution_count": null,
      "outputs": [
        {
          "output_type": "execute_result",
          "data": {
            "text/html": [
              "<div>\n",
              "<style scoped>\n",
              "    .dataframe tbody tr th:only-of-type {\n",
              "        vertical-align: middle;\n",
              "    }\n",
              "\n",
              "    .dataframe tbody tr th {\n",
              "        vertical-align: top;\n",
              "    }\n",
              "\n",
              "    .dataframe thead th {\n",
              "        text-align: right;\n",
              "    }\n",
              "</style>\n",
              "<table border=\"1\" class=\"dataframe\">\n",
              "  <thead>\n",
              "    <tr style=\"text-align: right;\">\n",
              "      <th></th>\n",
              "      <th>feature</th>\n",
              "      <th>coefficient</th>\n",
              "    </tr>\n",
              "  </thead>\n",
              "  <tbody>\n",
              "    <tr>\n",
              "      <th>0</th>\n",
              "      <td>logger</td>\n",
              "      <td>0.0</td>\n",
              "    </tr>\n",
              "    <tr>\n",
              "      <th>141</th>\n",
              "      <td>date_21/07/16</td>\n",
              "      <td>0.0</td>\n",
              "    </tr>\n",
              "    <tr>\n",
              "      <th>131</th>\n",
              "      <td>date_19/09/16</td>\n",
              "      <td>-0.0</td>\n",
              "    </tr>\n",
              "    <tr>\n",
              "      <th>132</th>\n",
              "      <td>date_20/04/16</td>\n",
              "      <td>0.0</td>\n",
              "    </tr>\n",
              "    <tr>\n",
              "      <th>133</th>\n",
              "      <td>date_20/05/16</td>\n",
              "      <td>0.0</td>\n",
              "    </tr>\n",
              "  </tbody>\n",
              "</table>\n",
              "</div>"
            ],
            "text/plain": [
              "           feature  coefficient\n",
              "0           logger          0.0\n",
              "141  date_21/07/16          0.0\n",
              "131  date_19/09/16         -0.0\n",
              "132  date_20/04/16          0.0\n",
              "133  date_20/05/16          0.0"
            ]
          },
          "metadata": {},
          "execution_count": 116
        }
      ]
    },
    {
      "cell_type": "markdown",
      "metadata": {
        "id": "Ts8QDBD1cy20"
      },
      "source": [
        "\n",
        "Most coefficients are zero, so maybe a linear model is not the best"
      ]
    },
    {
      "cell_type": "markdown",
      "metadata": {
        "id": "daLzYVKqhNSS"
      },
      "source": [
        "### Ridge Model\n"
      ]
    },
    {
      "cell_type": "code",
      "metadata": {
        "colab": {
          "base_uri": "https://localhost:8080/"
        },
        "id": "MHAJ-V2NwZY9",
        "outputId": "cd1835bf-d7d1-407a-b10a-24cecf6c18af"
      },
      "source": [
        "from sklearn.linear_model import Ridge\n",
        "ridge_params_grid = {'alpha':np.arange(0.001, 10, 0.05)} \n",
        "ridge_cv = RandomizedSearchCV(Ridge(), ridge_params_grid, cv=5, scoring ='neg_root_mean_squared_error', random_state=42)\n",
        "ridge_cv.fit(X_train,y_train)\n",
        "ridge_cv.best_params_"
      ],
      "execution_count": null,
      "outputs": [
        {
          "output_type": "execute_result",
          "data": {
            "text/plain": [
              "{'alpha': 8.701}"
            ]
          },
          "metadata": {},
          "execution_count": 117
        }
      ]
    },
    {
      "cell_type": "code",
      "metadata": {
        "colab": {
          "base_uri": "https://localhost:8080/"
        },
        "id": "mxF7Ujp7xs7A",
        "outputId": "d28ef633-57ed-46a6-a404-854bf18b1ab9"
      },
      "source": [
        "best_ridge = Ridge(alpha= 8.701)\n",
        "best_ridge.fit(X_train,y_train)"
      ],
      "execution_count": null,
      "outputs": [
        {
          "output_type": "execute_result",
          "data": {
            "text/plain": [
              "Ridge(alpha=8.701)"
            ]
          },
          "metadata": {},
          "execution_count": 118
        }
      ]
    },
    {
      "cell_type": "code",
      "metadata": {
        "colab": {
          "base_uri": "https://localhost:8080/"
        },
        "id": "O7889Yi3x6Qe",
        "outputId": "c1dc1559-4fd2-47b1-dd31-bae457c2ee47"
      },
      "source": [
        "# model evaluation for training set\n",
        "train_r2_ridge = round(best_ridge.score(X_train, y_train),2)\n",
        "print('Training R2 score is {}'.format(train_r2_ridge))\n",
        "y_train_predicted_ridge = best_ridge.predict(X_train)\n",
        "rmse_train_ridge = (np.sqrt(mean_squared_error(y_train, y_train_predicted_ridge)))\n",
        "print('RMSE on the training set for the ridge model is: {}'.format(rmse_train_ridge))"
      ],
      "execution_count": null,
      "outputs": [
        {
          "output_type": "stream",
          "name": "stdout",
          "text": [
            "Training R2 score is 0.73\n",
            "RMSE on the training set for the ridge model is: 1.6658726434603077\n"
          ]
        }
      ]
    },
    {
      "cell_type": "code",
      "metadata": {
        "colab": {
          "base_uri": "https://localhost:8080/"
        },
        "id": "sj8xA7rVyQZC",
        "outputId": "6c54ee99-961d-437f-98ba-866dbbc61878"
      },
      "source": [
        "# model evaluation for test set\n",
        "y_test_predicted_ridge = best_ridge.predict(X_test)\n",
        "rmse_test_ridge = (np.sqrt(mean_squared_error(y_test, y_test_predicted_ridge)))\n",
        "print(\"RMSE on testing set is for the ridge model is: {}\".format(rmse_test_ridge))"
      ],
      "execution_count": null,
      "outputs": [
        {
          "output_type": "stream",
          "name": "stdout",
          "text": [
            "RMSE on testing set is for the ridge model is: 1.7417569017338437\n"
          ]
        }
      ]
    },
    {
      "cell_type": "code",
      "metadata": {
        "colab": {
          "base_uri": "https://localhost:8080/",
          "height": 206
        },
        "id": "NOswin_pg_1w",
        "outputId": "39e6dbb0-2160-4d5d-c92e-291dae151679"
      },
      "source": [
        "ridge_coefficients = pd.concat([pd.DataFrame(X.columns, columns={'variable'}),pd.DataFrame(np.transpose(best_ridge.coef_), columns={'coefficient'})], axis = 1) \n",
        "ridge_coefficients.sort_values(by='coefficient', ascending=False, inplace=True)\n",
        "ridge_coefficients.head()"
      ],
      "execution_count": null,
      "outputs": [
        {
          "output_type": "execute_result",
          "data": {
            "text/html": [
              "<div>\n",
              "<style scoped>\n",
              "    .dataframe tbody tr th:only-of-type {\n",
              "        vertical-align: middle;\n",
              "    }\n",
              "\n",
              "    .dataframe tbody tr th {\n",
              "        vertical-align: top;\n",
              "    }\n",
              "\n",
              "    .dataframe thead th {\n",
              "        text-align: right;\n",
              "    }\n",
              "</style>\n",
              "<table border=\"1\" class=\"dataframe\">\n",
              "  <thead>\n",
              "    <tr style=\"text-align: right;\">\n",
              "      <th></th>\n",
              "      <th>variable</th>\n",
              "      <th>coefficient</th>\n",
              "    </tr>\n",
              "  </thead>\n",
              "  <tbody>\n",
              "    <tr>\n",
              "      <th>204</th>\n",
              "      <td>Area_Sarai Kale Khan</td>\n",
              "      <td>0.793277</td>\n",
              "    </tr>\n",
              "    <tr>\n",
              "      <th>12</th>\n",
              "      <td>Evaporative_cooler</td>\n",
              "      <td>0.631575</td>\n",
              "    </tr>\n",
              "    <tr>\n",
              "      <th>1</th>\n",
              "      <td>Temp_Out</td>\n",
              "      <td>0.573840</td>\n",
              "    </tr>\n",
              "    <tr>\n",
              "      <th>4</th>\n",
              "      <td>Heat_Index</td>\n",
              "      <td>0.317795</td>\n",
              "    </tr>\n",
              "    <tr>\n",
              "      <th>9</th>\n",
              "      <td>Roof_structure</td>\n",
              "      <td>0.188149</td>\n",
              "    </tr>\n",
              "  </tbody>\n",
              "</table>\n",
              "</div>"
            ],
            "text/plain": [
              "                 variable  coefficient\n",
              "204  Area_Sarai Kale Khan     0.793277\n",
              "12     Evaporative_cooler     0.631575\n",
              "1                Temp_Out     0.573840\n",
              "4              Heat_Index     0.317795\n",
              "9          Roof_structure     0.188149"
            ]
          },
          "metadata": {},
          "execution_count": 121
        }
      ]
    },
    {
      "cell_type": "markdown",
      "metadata": {
        "id": "Jmu4DTSEyg6e"
      },
      "source": [
        "### Random Forest Regression"
      ]
    },
    {
      "cell_type": "code",
      "metadata": {
        "colab": {
          "base_uri": "https://localhost:8080/"
        },
        "id": "XfpuGwf3yZ7e",
        "outputId": "d448327c-65f0-4bda-a005-55b0c6fd76f0"
      },
      "source": [
        "from sklearn.ensemble import RandomForestRegressor\n",
        "\n",
        "rf_regressor = RandomForestRegressor(random_state=42)\n",
        "\n",
        "rf_params = {'max_depth':np.arange(1,10,1),\n",
        "             'min_samples_split':np.arange(2,50,1),\n",
        "             'min_samples_leaf':np.arange(2,50,1),\n",
        "             'max_features':['sqrt', 'log2']} # could also add 'criterion':['mse', 'mae'],\n",
        "\n",
        "rf_regressor_cv = RandomizedSearchCV(rf_regressor, rf_params, cv=5, scoring='neg_root_mean_squared_error', random_state=42)\n",
        "rf_regressor_cv.fit(X_train, y_train)\n",
        "rf_regressor_cv.best_params_"
      ],
      "execution_count": null,
      "outputs": [
        {
          "output_type": "execute_result",
          "data": {
            "text/plain": [
              "{'max_depth': 9,\n",
              " 'max_features': 'sqrt',\n",
              " 'min_samples_leaf': 8,\n",
              " 'min_samples_split': 44}"
            ]
          },
          "metadata": {},
          "execution_count": 122
        }
      ]
    },
    {
      "cell_type": "code",
      "metadata": {
        "colab": {
          "base_uri": "https://localhost:8080/"
        },
        "id": "BM8donMuTFP1",
        "outputId": "04778a4c-ef12-4350-edae-41d606b6fe7b"
      },
      "source": [
        "np.random.seed(42)\n",
        "best_rf_regressor = RandomForestRegressor(max_depth= 9, max_features = 'sqrt', min_samples_leaf= 8, min_samples_split=44)\n",
        "best_rf_regressor.fit(X_train, y_train)"
      ],
      "execution_count": null,
      "outputs": [
        {
          "output_type": "execute_result",
          "data": {
            "text/plain": [
              "RandomForestRegressor(max_depth=9, max_features='sqrt', min_samples_leaf=8,\n",
              "                      min_samples_split=44)"
            ]
          },
          "metadata": {},
          "execution_count": 123
        }
      ]
    },
    {
      "cell_type": "code",
      "metadata": {
        "colab": {
          "base_uri": "https://localhost:8080/"
        },
        "id": "rsIsvML8Y3qb",
        "outputId": "6a84ab26-f26f-4ed3-a1aa-28a815d67174"
      },
      "source": [
        "# model evaluation for training set\n",
        "train_r2_rf = round(best_rf_regressor.score(X_train, y_train),2)\n",
        "print('Training R2 score of Random Forest is {}'.format(train_r2_rf))\n",
        "y_train_predicted_rf = best_rf_regressor.predict(X_train)\n",
        "rmse_train_rf = (np.sqrt(mean_squared_error(y_train, y_train_predicted_rf)))\n",
        "print('RMSE on the training set for the Random Forest model is: {}'.format(rmse_train_rf))"
      ],
      "execution_count": null,
      "outputs": [
        {
          "output_type": "stream",
          "name": "stdout",
          "text": [
            "Training R2 score of Random Forest is 0.7\n",
            "RMSE on the training set for the Random Forest model is: 1.761014174782881\n"
          ]
        }
      ]
    },
    {
      "cell_type": "code",
      "metadata": {
        "colab": {
          "base_uri": "https://localhost:8080/"
        },
        "id": "VHDtODaIZ0Z2",
        "outputId": "63c13668-e541-4f62-9002-9fe57bbeec5c"
      },
      "source": [
        "# model evaluation for test set\n",
        "y_test_predicted_rf = best_rf_regressor.predict(X_test)\n",
        "rmse_test_rf= (np.sqrt(mean_squared_error(y_test, y_test_predicted_rf)))\n",
        "print(\"RMSE on testing set is for the Random Forest model is: {}\".format(rmse_test_rf))"
      ],
      "execution_count": null,
      "outputs": [
        {
          "output_type": "stream",
          "name": "stdout",
          "text": [
            "RMSE on testing set is for the Random Forest model is: 1.8248327799714505\n"
          ]
        }
      ]
    },
    {
      "cell_type": "code",
      "metadata": {
        "colab": {
          "base_uri": "https://localhost:8080/",
          "height": 206
        },
        "id": "1-V4fD4CZ91Z",
        "outputId": "4d84a3cb-89e8-48d0-f5d0-f60edabb1d1f"
      },
      "source": [
        "rf_importance = pd.concat([pd.DataFrame(X.columns, columns={'feature'}),pd.DataFrame(np.transpose(best_rf_regressor.feature_importances_), columns={'Importance'})], axis = 1) \n",
        "rf_importance.sort_values(by='Importance', ascending=False, inplace=True)\n",
        "rf_importance.head()"
      ],
      "execution_count": null,
      "outputs": [
        {
          "output_type": "execute_result",
          "data": {
            "text/html": [
              "<div>\n",
              "<style scoped>\n",
              "    .dataframe tbody tr th:only-of-type {\n",
              "        vertical-align: middle;\n",
              "    }\n",
              "\n",
              "    .dataframe tbody tr th {\n",
              "        vertical-align: top;\n",
              "    }\n",
              "\n",
              "    .dataframe thead th {\n",
              "        text-align: right;\n",
              "    }\n",
              "</style>\n",
              "<table border=\"1\" class=\"dataframe\">\n",
              "  <thead>\n",
              "    <tr style=\"text-align: right;\">\n",
              "      <th></th>\n",
              "      <th>feature</th>\n",
              "      <th>Importance</th>\n",
              "    </tr>\n",
              "  </thead>\n",
              "  <tbody>\n",
              "    <tr>\n",
              "      <th>9</th>\n",
              "      <td>Roof_structure</td>\n",
              "      <td>0.154832</td>\n",
              "    </tr>\n",
              "    <tr>\n",
              "      <th>1</th>\n",
              "      <td>Temp_Out</td>\n",
              "      <td>0.140938</td>\n",
              "    </tr>\n",
              "    <tr>\n",
              "      <th>14</th>\n",
              "      <td>LCZ</td>\n",
              "      <td>0.098641</td>\n",
              "    </tr>\n",
              "    <tr>\n",
              "      <th>2</th>\n",
              "      <td>Out_Hum</td>\n",
              "      <td>0.071462</td>\n",
              "    </tr>\n",
              "    <tr>\n",
              "      <th>204</th>\n",
              "      <td>Area_Sarai Kale Khan</td>\n",
              "      <td>0.065445</td>\n",
              "    </tr>\n",
              "  </tbody>\n",
              "</table>\n",
              "</div>"
            ],
            "text/plain": [
              "                  feature  Importance\n",
              "9          Roof_structure    0.154832\n",
              "1                Temp_Out    0.140938\n",
              "14                    LCZ    0.098641\n",
              "2                 Out_Hum    0.071462\n",
              "204  Area_Sarai Kale Khan    0.065445"
            ]
          },
          "metadata": {},
          "execution_count": 126
        }
      ]
    },
    {
      "cell_type": "markdown",
      "metadata": {
        "id": "QhSMyFXGaDFE"
      },
      "source": [
        "###  SVM regression"
      ]
    },
    {
      "cell_type": "code",
      "metadata": {
        "colab": {
          "base_uri": "https://localhost:8080/"
        },
        "id": "QnSnStkGaI42",
        "outputId": "0897ce94-107d-4b47-9677-f807f195994a"
      },
      "source": [
        "from sklearn.svm import SVR\n",
        "svr = SVR()\n",
        "\n",
        "svr_params = { 'kernel': ['linear', 'poly', 'rbf', 'sigmoid'],\n",
        "              'gamma': ['scale', 'auto'],\n",
        "              'C': np.arange(0.1, 5,0.4)}\n",
        "\n",
        "svr_cv = RandomizedSearchCV(svr, svr_params, cv=5, scoring='neg_root_mean_squared_error', random_state=42)\n",
        "svr_cv.fit(X_train, y_train)\n",
        "svr_cv.best_params_"
      ],
      "execution_count": null,
      "outputs": [
        {
          "output_type": "execute_result",
          "data": {
            "text/plain": [
              "{'C': 1.3000000000000003, 'gamma': 'auto', 'kernel': 'rbf'}"
            ]
          },
          "metadata": {},
          "execution_count": 127
        }
      ]
    },
    {
      "cell_type": "code",
      "metadata": {
        "colab": {
          "base_uri": "https://localhost:8080/"
        },
        "id": "wCOrITlKdDzO",
        "outputId": "de23a9e7-ac9d-4d0f-b470-56b1591d5c7a"
      },
      "source": [
        "best_svr = SVR(C= 1.3000000000000003, gamma= 'auto', kernel= 'rbf')\n",
        "best_svr.fit(X_train, y_train)"
      ],
      "execution_count": null,
      "outputs": [
        {
          "output_type": "execute_result",
          "data": {
            "text/plain": [
              "SVR(C=1.3000000000000003, gamma='auto')"
            ]
          },
          "metadata": {},
          "execution_count": 128
        }
      ]
    },
    {
      "cell_type": "code",
      "metadata": {
        "id": "cctZihcAhyVB",
        "colab": {
          "base_uri": "https://localhost:8080/"
        },
        "outputId": "b41755cb-7c32-4429-e0b7-3912f1e5ebc9"
      },
      "source": [
        "# model evaluation for training set\n",
        "train_r2_svr = round(best_svr.score(X_train, y_train),2)\n",
        "print('Training R2 score of SVM Regressor is {}'.format(train_r2_svr))\n",
        "y_train_predicted_svr = best_svr.predict(X_train)\n",
        "rmse_train_svr = (np.sqrt(mean_squared_error(y_train, y_train_predicted_svr)))\n",
        "print('RMSE on the training set for the SVM Regressor is: {}'.format(rmse_train_svr))"
      ],
      "execution_count": null,
      "outputs": [
        {
          "output_type": "stream",
          "name": "stdout",
          "text": [
            "Training R2 score of SVM Regressor is 0.76\n",
            "RMSE on the training set for the SVM Regressor is: 1.5683547495589651\n"
          ]
        }
      ]
    },
    {
      "cell_type": "code",
      "metadata": {
        "id": "lxq9rO2GiF1-",
        "colab": {
          "base_uri": "https://localhost:8080/"
        },
        "outputId": "a9eb0810-bcf2-4c3e-ec16-dc1eb7769171"
      },
      "source": [
        "# model evaluation for test set\n",
        "y_test_predicted_svr = best_svr.predict(X_test)\n",
        "rmse_test_svr= (np.sqrt(mean_squared_error(y_test, y_test_predicted_svr)))\n",
        "print(\"RMSE on testing set is for the SVM Regressor is: {}\".format(rmse_test_svr))"
      ],
      "execution_count": null,
      "outputs": [
        {
          "output_type": "stream",
          "name": "stdout",
          "text": [
            "RMSE on testing set is for the SVM Regressor is: 1.7158117018592178\n"
          ]
        }
      ]
    },
    {
      "cell_type": "markdown",
      "metadata": {
        "id": "G4zBt2bLdMvd"
      },
      "source": [
        "###Stochastic Gradient Boosting Regression"
      ]
    },
    {
      "cell_type": "code",
      "metadata": {
        "id": "w_n4zOzidS8P"
      },
      "source": [
        "from sklearn.ensemble import GradientBoostingRegressor"
      ],
      "execution_count": null,
      "outputs": []
    },
    {
      "cell_type": "code",
      "metadata": {
        "id": "XKWsvL7xdXM2",
        "colab": {
          "base_uri": "https://localhost:8080/"
        },
        "outputId": "e8b42be8-e00f-443e-9706-1209c07a6895"
      },
      "source": [
        "gb_regressor = GradientBoostingRegressor(random_state=42)\n",
        " \n",
        "gb_params = dict(learning_rate=np.arange(0.05,0.3,0.05), \n",
        "                     n_estimators=np.arange(100,1000,100), \n",
        "                     subsample = np.arange(0.1,0.9,0.05),\n",
        "                     max_depth=[int(i) for i in np.arange(1,10,1)],\n",
        "                     max_features = ['sqrt', 'log2']) \n",
        "\n",
        "gb_cv = RandomizedSearchCV(gb_regressor, gb_params, random_state=42, cv=5, scoring='neg_root_mean_squared_error')\n",
        "gb_optimized = gb_cv.fit(X_train, y_train)\n",
        "print('best params: ', gb_optimized.best_params_)"
      ],
      "execution_count": null,
      "outputs": [
        {
          "output_type": "stream",
          "name": "stdout",
          "text": [
            "best params:  {'subsample': 0.6000000000000002, 'n_estimators': 700, 'max_features': 'sqrt', 'max_depth': 7, 'learning_rate': 0.1}\n"
          ]
        }
      ]
    },
    {
      "cell_type": "code",
      "metadata": {
        "id": "X0MGRCBHel7d",
        "colab": {
          "base_uri": "https://localhost:8080/"
        },
        "outputId": "1003df38-79cf-4c6e-f47e-e681980e28de"
      },
      "source": [
        "np.random.seed(42)\n",
        "best_gbr = GradientBoostingRegressor(subsample= 0.6000000000000002, n_estimators= 700, max_features= 'sqrt', max_depth= 7, learning_rate= 0.1)\n",
        "best_gbr.fit(X_train, y_train)"
      ],
      "execution_count": null,
      "outputs": [
        {
          "output_type": "execute_result",
          "data": {
            "text/plain": [
              "GradientBoostingRegressor(max_depth=7, max_features='sqrt', n_estimators=700,\n",
              "                          subsample=0.6000000000000002)"
            ]
          },
          "metadata": {},
          "execution_count": 133
        }
      ]
    },
    {
      "cell_type": "code",
      "metadata": {
        "id": "zcTABNB8ezFH",
        "colab": {
          "base_uri": "https://localhost:8080/"
        },
        "outputId": "cf0e72bb-8235-4d6c-b9f4-bd68efa6dfca"
      },
      "source": [
        "# model evaluation for training set\n",
        "train_r2_gbr = round(best_gbr.score(X_train, y_train),2)\n",
        "print('Training R2 score of Gradient Boosting Regressor is {}'.format(train_r2_gbr))\n",
        "y_train_predicted_gbr = best_gbr.predict(X_train)\n",
        "rmse_train_gbr = (np.sqrt(mean_squared_error(y_train, y_train_predicted_gbr)))\n",
        "print('RMSE on the training set for the Gradient Boosting Regressor is: {}'.format(rmse_train_gbr))"
      ],
      "execution_count": null,
      "outputs": [
        {
          "output_type": "stream",
          "name": "stdout",
          "text": [
            "Training R2 score of Gradient Boosting Regressor is 0.98\n",
            "RMSE on the training set for the Gradient Boosting Regressor is: 0.3994913914809064\n"
          ]
        }
      ]
    },
    {
      "cell_type": "code",
      "metadata": {
        "id": "9G8KpBLOfL9C",
        "colab": {
          "base_uri": "https://localhost:8080/"
        },
        "outputId": "f733503e-4795-4af0-aa15-3064cfe800df"
      },
      "source": [
        "# model evaluation for test set\n",
        "y_test_predicted_gbr = best_gbr.predict(X_test)\n",
        "rmse_test_gbr= (np.sqrt(mean_squared_error(y_test, y_test_predicted_gbr)))\n",
        "print(\"RMSE on testing set is for the Gradient Boosting Regressor is: {}\".format(rmse_test_gbr))"
      ],
      "execution_count": null,
      "outputs": [
        {
          "output_type": "stream",
          "name": "stdout",
          "text": [
            "RMSE on testing set is for the Gradient Boosting Regressor is: 0.9872612033510242\n"
          ]
        }
      ]
    },
    {
      "cell_type": "code",
      "metadata": {
        "id": "ATqYmSXjfTxY",
        "colab": {
          "base_uri": "https://localhost:8080/"
        },
        "outputId": "7ecf4f1b-6eff-4518-9501-ab5a5873d7f9"
      },
      "source": [
        "gbr_importance = pd.concat([pd.DataFrame(X.columns, columns={'variable'}),pd.DataFrame(np.transpose(best_gbr.feature_importances_), columns={'Importance'})], axis = 1) \n",
        "gbr_importance.sort_values(by='Importance', ascending=False, inplace=True)\n",
        "gbr_importance.head()"
      ],
      "execution_count": null,
      "outputs": [
        {
          "output_type": "execute_result",
          "data": {
            "text/html": [
              "<div>\n",
              "<style scoped>\n",
              "    .dataframe tbody tr th:only-of-type {\n",
              "        vertical-align: middle;\n",
              "    }\n",
              "\n",
              "    .dataframe tbody tr th {\n",
              "        vertical-align: top;\n",
              "    }\n",
              "\n",
              "    .dataframe thead th {\n",
              "        text-align: right;\n",
              "    }\n",
              "</style>\n",
              "<table border=\"1\" class=\"dataframe\">\n",
              "  <thead>\n",
              "    <tr style=\"text-align: right;\">\n",
              "      <th></th>\n",
              "      <th>variable</th>\n",
              "      <th>Importance</th>\n",
              "    </tr>\n",
              "  </thead>\n",
              "  <tbody>\n",
              "    <tr>\n",
              "      <th>9</th>\n",
              "      <td>Roof_structure</td>\n",
              "      <td>0.146186</td>\n",
              "    </tr>\n",
              "    <tr>\n",
              "      <th>1</th>\n",
              "      <td>Temp_Out</td>\n",
              "      <td>0.121376</td>\n",
              "    </tr>\n",
              "    <tr>\n",
              "      <th>2</th>\n",
              "      <td>Out_Hum</td>\n",
              "      <td>0.087428</td>\n",
              "    </tr>\n",
              "    <tr>\n",
              "      <th>0</th>\n",
              "      <td>logger</td>\n",
              "      <td>0.077632</td>\n",
              "    </tr>\n",
              "    <tr>\n",
              "      <th>199</th>\n",
              "      <td>Area_Kasturbha Nagar</td>\n",
              "      <td>0.052170</td>\n",
              "    </tr>\n",
              "  </tbody>\n",
              "</table>\n",
              "</div>"
            ],
            "text/plain": [
              "                 variable  Importance\n",
              "9          Roof_structure    0.146186\n",
              "1                Temp_Out    0.121376\n",
              "2                 Out_Hum    0.087428\n",
              "0                  logger    0.077632\n",
              "199  Area_Kasturbha Nagar    0.052170"
            ]
          },
          "metadata": {},
          "execution_count": 136
        }
      ]
    },
    {
      "cell_type": "markdown",
      "metadata": {
        "id": "1SHf4xebf-nB"
      },
      "source": [
        "## Comparing models"
      ]
    },
    {
      "cell_type": "code",
      "metadata": {
        "colab": {
          "base_uri": "https://localhost:8080/"
        },
        "id": "XXzS0zy5gGW_",
        "outputId": "5ace9e0f-ad77-4d2f-e2f3-9dc20d6d3575"
      },
      "source": [
        "#Same order as above, just the names for printing\n",
        "models = ['Linear','Lasso', 'Ridge', 'Random Forest', 'SVR', 'Gradient Boosting']\n",
        "#Creating lists of the values that we stored above\n",
        "training_r2s = [train_r2, train_r2_lasso, train_r2_ridge, train_r2_rf, train_r2_svr, train_r2_gbr]\n",
        "rmse_trains = [rmse_train_linear, rmse_train_lasso, rmse_train_ridge, rmse_train_rf, rmse_train_svr, rmse_train_gbr]\n",
        "rmse_tests= [rmse_test_linear, rmse_test_lasso, rmse_test_ridge, rmse_test_rf, rmse_test_svr, rmse_test_gbr]\n",
        "#Putting them all in a dictionary to create a table\n",
        "data = {\"model\": pd.Series(models), \n",
        "        \"Training R2\": pd.Series(training_r2s), \n",
        "        \"Training RMSE\": pd.Series(rmse_trains),\n",
        "        \"Testing RMSE\": pd.Series(rmse_tests)}\n",
        "\n",
        "comparison_df = pd.concat(data, axis = 1) \n",
        "comparison_df"
      ],
      "execution_count": null,
      "outputs": [
        {
          "output_type": "execute_result",
          "data": {
            "text/html": [
              "<div>\n",
              "<style scoped>\n",
              "    .dataframe tbody tr th:only-of-type {\n",
              "        vertical-align: middle;\n",
              "    }\n",
              "\n",
              "    .dataframe tbody tr th {\n",
              "        vertical-align: top;\n",
              "    }\n",
              "\n",
              "    .dataframe thead th {\n",
              "        text-align: right;\n",
              "    }\n",
              "</style>\n",
              "<table border=\"1\" class=\"dataframe\">\n",
              "  <thead>\n",
              "    <tr style=\"text-align: right;\">\n",
              "      <th></th>\n",
              "      <th>model</th>\n",
              "      <th>Training R2</th>\n",
              "      <th>Training RMSE</th>\n",
              "      <th>Testing RMSE</th>\n",
              "    </tr>\n",
              "  </thead>\n",
              "  <tbody>\n",
              "    <tr>\n",
              "      <th>0</th>\n",
              "      <td>Linear</td>\n",
              "      <td>0.73</td>\n",
              "      <td>1.665868</td>\n",
              "      <td>1.742029</td>\n",
              "    </tr>\n",
              "    <tr>\n",
              "      <th>1</th>\n",
              "      <td>Lasso</td>\n",
              "      <td>0.00</td>\n",
              "      <td>3.194943</td>\n",
              "      <td>3.233519</td>\n",
              "    </tr>\n",
              "    <tr>\n",
              "      <th>2</th>\n",
              "      <td>Ridge</td>\n",
              "      <td>0.73</td>\n",
              "      <td>1.665873</td>\n",
              "      <td>1.741757</td>\n",
              "    </tr>\n",
              "    <tr>\n",
              "      <th>3</th>\n",
              "      <td>Random Forest</td>\n",
              "      <td>0.70</td>\n",
              "      <td>1.761014</td>\n",
              "      <td>1.824833</td>\n",
              "    </tr>\n",
              "    <tr>\n",
              "      <th>4</th>\n",
              "      <td>SVR</td>\n",
              "      <td>0.76</td>\n",
              "      <td>1.568355</td>\n",
              "      <td>1.715812</td>\n",
              "    </tr>\n",
              "    <tr>\n",
              "      <th>5</th>\n",
              "      <td>Gradient Boosting</td>\n",
              "      <td>0.98</td>\n",
              "      <td>0.399491</td>\n",
              "      <td>0.987261</td>\n",
              "    </tr>\n",
              "  </tbody>\n",
              "</table>\n",
              "</div>"
            ],
            "text/plain": [
              "               model  Training R2  Training RMSE  Testing RMSE\n",
              "0             Linear         0.73       1.665868      1.742029\n",
              "1              Lasso         0.00       3.194943      3.233519\n",
              "2              Ridge         0.73       1.665873      1.741757\n",
              "3      Random Forest         0.70       1.761014      1.824833\n",
              "4                SVR         0.76       1.568355      1.715812\n",
              "5  Gradient Boosting         0.98       0.399491      0.987261"
            ]
          },
          "metadata": {},
          "execution_count": 137
        }
      ]
    },
    {
      "cell_type": "code",
      "metadata": {
        "colab": {
          "base_uri": "https://localhost:8080/",
          "height": 585
        },
        "id": "u_aKmnfOgluh",
        "outputId": "2410b8c0-de92-4624-dfcd-9e1f26b54a7b"
      },
      "source": [
        "x = np.arange(len(models))  # the label locations\n",
        "width = 0.35  # the width of the bars\n",
        "\n",
        "fig, ax = plt.subplots(figsize=(8,8))\n",
        "rects1 = ax.bar(x - width/2, round(comparison_df.iloc[:,2],2), width, label='Training RMSE')\n",
        "rects2 = ax.bar(x + width/2, round(comparison_df.iloc[:,3],2), width, label='Testing RMSE')\n",
        "\n",
        "# Add some text for labels, title and custom x-axis tick labels, etc.\n",
        "ax.set_ylabel('Performance Metric value',size=13)\n",
        "ax.set_xlabel('Model',size=13)\n",
        "ax.set_title(\"Root Mean Square Error\",size=15, weight='bold')\n",
        "ax.set_xticks(x)\n",
        "ax.set_xticklabels(models)\n",
        "ax.set_ylim([0,3.5])\n",
        "ax.legend()\n",
        "\n",
        "def autolabel(rects):\n",
        "    \"\"\"Attach a text label above each bar in *rects*, displaying its height.\"\"\"\n",
        "    for rect in rects:\n",
        "        height = rect.get_height()\n",
        "        ax.annotate('{}'.format(height),\n",
        "                    xy=(rect.get_x() + rect.get_width() / 2, height),\n",
        "                    xytext=(0, 3),  # 3 points vertical offset\n",
        "                    textcoords=\"offset points\",\n",
        "                    ha='center', va='bottom')\n",
        "\n",
        "autolabel(rects1)\n",
        "autolabel(rects2)\n",
        "\n",
        "fig.tight_layout()\n",
        "plt.show()"
      ],
      "execution_count": null,
      "outputs": [
        {
          "output_type": "display_data",
          "data": {
            "image/png": "[encoded data removed]",
            "text/plain": [
              "<Figure size 576x576 with 1 Axes>"
            ]
          },
          "metadata": {
            "needs_background": "light"
          }
        }
      ]
    }
  ]
}