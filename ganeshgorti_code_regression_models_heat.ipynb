{
  "nbformat": 4,
  "nbformat_minor": 0,
  "metadata": {
    "colab": {
      "name": "ganeshgorti_code_regression models_heat.ipynb",
      "provenance": [],
      "collapsed_sections": [],
      "toc_visible": true
    },
    "kernelspec": {
      "display_name": "Python 3",
      "language": "python",
      "name": "python3"
    },
    "language_info": {
      "codemirror_mode": {
        "name": "ipython",
        "version": 3
      },
      "file_extension": ".py",
      "mimetype": "text/x-python",
      "name": "python",
      "nbconvert_exporter": "python",
      "pygments_lexer": "ipython3",
      "version": "3.7.6"
    }
  },
  "cells": [
    {
      "cell_type": "markdown",
      "metadata": {
        "id": "KkSexun7coNP"
      },
      "source": [
        "## Ganesh Gorti, 5th December 2021\n",
        "\n",
        "### Regression models (see next notebook for code on Deep Learning)\n",
        "\n",
        "This code analyses maximum indoor temperature data from 60 households in New Delhi, India. The data was collected between April 2017 and October 2017. The aim of this analysis is to predict the maximum indoor temperatures daily based on a range of features. These include\n",
        "\n",
        "1. Daily maximum outdoor temperature (in degree celsius)\n",
        "2. Daily maximum outdoor humidity  \n",
        "3. Daily maximum outdoor windspeed (in KMPH)\n",
        "4. Daily maximum heatindex \n",
        "5. Daily maximum rainfall. (in mm)\n",
        "6. Daily maximum solar radiation \n",
        "7. Area \n",
        "8. Floor of the house \n",
        "9. Floor on top (dummy coded as yes or no)\n",
        "10. Roof Structure (tin sheet, stone slab, concrete, bricks)\n",
        "11. Wall material (concrete/bricks)\n",
        "12. Number of ceiling fans \n",
        "13. Number of evaporative coolers\n",
        "14. Flowing ventilation (coded as 0 if no ventilation, 1 if windows are present)\n",
        "15. Local Climate Zone classification \n",
        "\n",
        "Outcome variable -- temp\n"
      ]
    },
    {
      "cell_type": "code",
      "metadata": {
        "colab": {
          "base_uri": "https://localhost:8080/"
        },
        "id": "D7p6kakPctWK",
        "outputId": "caf4eb08-edf8-4419-a547-dbf4e0a0eeb4"
      },
      "source": [
        "!pip install geopandas\n",
        "!pip install contextily"
      ],
      "execution_count": 1,
      "outputs": [
        {
          "output_type": "stream",
          "name": "stdout",
          "text": [
            "Collecting geopandas\n",
            "  Downloading geopandas-0.10.2-py2.py3-none-any.whl (1.0 MB)\n",
            "\u001b[?25l\r\u001b[K     |▎                               | 10 kB 22.9 MB/s eta 0:00:01\r\u001b[K     |▋                               | 20 kB 27.5 MB/s eta 0:00:01\r\u001b[K     |█                               | 30 kB 14.2 MB/s eta 0:00:01\r\u001b[K     |█▎                              | 40 kB 10.5 MB/s eta 0:00:01\r\u001b[K     |█▋                              | 51 kB 7.7 MB/s eta 0:00:01\r\u001b[K     |██                              | 61 kB 8.0 MB/s eta 0:00:01\r\u001b[K     |██▎                             | 71 kB 7.0 MB/s eta 0:00:01\r\u001b[K     |██▌                             | 81 kB 7.8 MB/s eta 0:00:01\r\u001b[K     |██▉                             | 92 kB 6.9 MB/s eta 0:00:01\r\u001b[K     |███▏                            | 102 kB 7.4 MB/s eta 0:00:01\r\u001b[K     |███▌                            | 112 kB 7.4 MB/s eta 0:00:01\r\u001b[K     |███▉                            | 122 kB 7.4 MB/s eta 0:00:01\r\u001b[K     |████▏                           | 133 kB 7.4 MB/s eta 0:00:01\r\u001b[K     |████▌                           | 143 kB 7.4 MB/s eta 0:00:01\r\u001b[K     |████▊                           | 153 kB 7.4 MB/s eta 0:00:01\r\u001b[K     |█████                           | 163 kB 7.4 MB/s eta 0:00:01\r\u001b[K     |█████▍                          | 174 kB 7.4 MB/s eta 0:00:01\r\u001b[K     |█████▊                          | 184 kB 7.4 MB/s eta 0:00:01\r\u001b[K     |██████                          | 194 kB 7.4 MB/s eta 0:00:01\r\u001b[K     |██████▍                         | 204 kB 7.4 MB/s eta 0:00:01\r\u001b[K     |██████▊                         | 215 kB 7.4 MB/s eta 0:00:01\r\u001b[K     |███████                         | 225 kB 7.4 MB/s eta 0:00:01\r\u001b[K     |███████▎                        | 235 kB 7.4 MB/s eta 0:00:01\r\u001b[K     |███████▋                        | 245 kB 7.4 MB/s eta 0:00:01\r\u001b[K     |████████                        | 256 kB 7.4 MB/s eta 0:00:01\r\u001b[K     |████████▎                       | 266 kB 7.4 MB/s eta 0:00:01\r\u001b[K     |████████▋                       | 276 kB 7.4 MB/s eta 0:00:01\r\u001b[K     |█████████                       | 286 kB 7.4 MB/s eta 0:00:01\r\u001b[K     |█████████▏                      | 296 kB 7.4 MB/s eta 0:00:01\r\u001b[K     |█████████▌                      | 307 kB 7.4 MB/s eta 0:00:01\r\u001b[K     |█████████▉                      | 317 kB 7.4 MB/s eta 0:00:01\r\u001b[K     |██████████▏                     | 327 kB 7.4 MB/s eta 0:00:01\r\u001b[K     |██████████▌                     | 337 kB 7.4 MB/s eta 0:00:01\r\u001b[K     |██████████▉                     | 348 kB 7.4 MB/s eta 0:00:01\r\u001b[K     |███████████▏                    | 358 kB 7.4 MB/s eta 0:00:01\r\u001b[K     |███████████▍                    | 368 kB 7.4 MB/s eta 0:00:01\r\u001b[K     |███████████▊                    | 378 kB 7.4 MB/s eta 0:00:01\r\u001b[K     |████████████                    | 389 kB 7.4 MB/s eta 0:00:01\r\u001b[K     |████████████▍                   | 399 kB 7.4 MB/s eta 0:00:01\r\u001b[K     |████████████▊                   | 409 kB 7.4 MB/s eta 0:00:01\r\u001b[K     |█████████████                   | 419 kB 7.4 MB/s eta 0:00:01\r\u001b[K     |█████████████▍                  | 430 kB 7.4 MB/s eta 0:00:01\r\u001b[K     |█████████████▋                  | 440 kB 7.4 MB/s eta 0:00:01\r\u001b[K     |██████████████                  | 450 kB 7.4 MB/s eta 0:00:01\r\u001b[K     |██████████████▎                 | 460 kB 7.4 MB/s eta 0:00:01\r\u001b[K     |██████████████▋                 | 471 kB 7.4 MB/s eta 0:00:01\r\u001b[K     |███████████████                 | 481 kB 7.4 MB/s eta 0:00:01\r\u001b[K     |███████████████▎                | 491 kB 7.4 MB/s eta 0:00:01\r\u001b[K     |███████████████▋                | 501 kB 7.4 MB/s eta 0:00:01\r\u001b[K     |███████████████▉                | 512 kB 7.4 MB/s eta 0:00:01\r\u001b[K     |████████████████▏               | 522 kB 7.4 MB/s eta 0:00:01\r\u001b[K     |████████████████▌               | 532 kB 7.4 MB/s eta 0:00:01\r\u001b[K     |████████████████▉               | 542 kB 7.4 MB/s eta 0:00:01\r\u001b[K     |█████████████████▏              | 552 kB 7.4 MB/s eta 0:00:01\r\u001b[K     |█████████████████▌              | 563 kB 7.4 MB/s eta 0:00:01\r\u001b[K     |█████████████████▉              | 573 kB 7.4 MB/s eta 0:00:01\r\u001b[K     |██████████████████              | 583 kB 7.4 MB/s eta 0:00:01\r\u001b[K     |██████████████████▍             | 593 kB 7.4 MB/s eta 0:00:01\r\u001b[K     |██████████████████▊             | 604 kB 7.4 MB/s eta 0:00:01\r\u001b[K     |███████████████████             | 614 kB 7.4 MB/s eta 0:00:01\r\u001b[K     |███████████████████▍            | 624 kB 7.4 MB/s eta 0:00:01\r\u001b[K     |███████████████████▊            | 634 kB 7.4 MB/s eta 0:00:01\r\u001b[K     |████████████████████            | 645 kB 7.4 MB/s eta 0:00:01\r\u001b[K     |████████████████████▎           | 655 kB 7.4 MB/s eta 0:00:01\r\u001b[K     |████████████████████▋           | 665 kB 7.4 MB/s eta 0:00:01\r\u001b[K     |█████████████████████           | 675 kB 7.4 MB/s eta 0:00:01\r\u001b[K     |█████████████████████▎          | 686 kB 7.4 MB/s eta 0:00:01\r\u001b[K     |█████████████████████▋          | 696 kB 7.4 MB/s eta 0:00:01\r\u001b[K     |██████████████████████          | 706 kB 7.4 MB/s eta 0:00:01\r\u001b[K     |██████████████████████▎         | 716 kB 7.4 MB/s eta 0:00:01\r\u001b[K     |██████████████████████▋         | 727 kB 7.4 MB/s eta 0:00:01\r\u001b[K     |██████████████████████▉         | 737 kB 7.4 MB/s eta 0:00:01\r\u001b[K     |███████████████████████▏        | 747 kB 7.4 MB/s eta 0:00:01\r\u001b[K     |███████████████████████▌        | 757 kB 7.4 MB/s eta 0:00:01\r\u001b[K     |███████████████████████▉        | 768 kB 7.4 MB/s eta 0:00:01\r\u001b[K     |████████████████████████▏       | 778 kB 7.4 MB/s eta 0:00:01\r\u001b[K     |████████████████████████▌       | 788 kB 7.4 MB/s eta 0:00:01\r\u001b[K     |████████████████████████▉       | 798 kB 7.4 MB/s eta 0:00:01\r\u001b[K     |█████████████████████████       | 808 kB 7.4 MB/s eta 0:00:01\r\u001b[K     |█████████████████████████▍      | 819 kB 7.4 MB/s eta 0:00:01\r\u001b[K     |█████████████████████████▊      | 829 kB 7.4 MB/s eta 0:00:01\r\u001b[K     |██████████████████████████      | 839 kB 7.4 MB/s eta 0:00:01\r\u001b[K     |██████████████████████████▍     | 849 kB 7.4 MB/s eta 0:00:01\r\u001b[K     |██████████████████████████▊     | 860 kB 7.4 MB/s eta 0:00:01\r\u001b[K     |███████████████████████████     | 870 kB 7.4 MB/s eta 0:00:01\r\u001b[K     |███████████████████████████▎    | 880 kB 7.4 MB/s eta 0:00:01\r\u001b[K     |███████████████████████████▋    | 890 kB 7.4 MB/s eta 0:00:01\r\u001b[K     |████████████████████████████    | 901 kB 7.4 MB/s eta 0:00:01\r\u001b[K     |████████████████████████████▎   | 911 kB 7.4 MB/s eta 0:00:01\r\u001b[K     |████████████████████████████▋   | 921 kB 7.4 MB/s eta 0:00:01\r\u001b[K     |█████████████████████████████   | 931 kB 7.4 MB/s eta 0:00:01\r\u001b[K     |█████████████████████████████▎  | 942 kB 7.4 MB/s eta 0:00:01\r\u001b[K     |█████████████████████████████▌  | 952 kB 7.4 MB/s eta 0:00:01\r\u001b[K     |█████████████████████████████▉  | 962 kB 7.4 MB/s eta 0:00:01\r\u001b[K     |██████████████████████████████▏ | 972 kB 7.4 MB/s eta 0:00:01\r\u001b[K     |██████████████████████████████▌ | 983 kB 7.4 MB/s eta 0:00:01\r\u001b[K     |██████████████████████████████▉ | 993 kB 7.4 MB/s eta 0:00:01\r\u001b[K     |███████████████████████████████▏| 1.0 MB 7.4 MB/s eta 0:00:01\r\u001b[K     |███████████████████████████████▌| 1.0 MB 7.4 MB/s eta 0:00:01\r\u001b[K     |███████████████████████████████▊| 1.0 MB 7.4 MB/s eta 0:00:01\r\u001b[K     |████████████████████████████████| 1.0 MB 7.4 MB/s \n",
            "\u001b[?25hRequirement already satisfied: shapely>=1.6 in /usr/local/lib/python3.7/dist-packages (from geopandas) (1.8.0)\n",
            "Collecting pyproj>=2.2.0\n",
            "  Downloading pyproj-3.2.1-cp37-cp37m-manylinux2010_x86_64.whl (6.3 MB)\n",
            "\u001b[K     |████████████████████████████████| 6.3 MB 15.1 MB/s \n",
            "\u001b[?25hCollecting fiona>=1.8\n",
            "  Downloading Fiona-1.8.20-cp37-cp37m-manylinux1_x86_64.whl (15.4 MB)\n",
            "\u001b[K     |████████████████████████████████| 15.4 MB 45.6 MB/s \n",
            "\u001b[?25hRequirement already satisfied: pandas>=0.25.0 in /usr/local/lib/python3.7/dist-packages (from geopandas) (1.1.5)\n",
            "Collecting munch\n",
            "  Downloading munch-2.5.0-py2.py3-none-any.whl (10 kB)\n",
            "Requirement already satisfied: setuptools in /usr/local/lib/python3.7/dist-packages (from fiona>=1.8->geopandas) (57.4.0)\n",
            "Requirement already satisfied: six>=1.7 in /usr/local/lib/python3.7/dist-packages (from fiona>=1.8->geopandas) (1.15.0)\n",
            "Requirement already satisfied: attrs>=17 in /usr/local/lib/python3.7/dist-packages (from fiona>=1.8->geopandas) (21.2.0)\n",
            "Requirement already satisfied: click>=4.0 in /usr/local/lib/python3.7/dist-packages (from fiona>=1.8->geopandas) (7.1.2)\n",
            "Collecting cligj>=0.5\n",
            "  Downloading cligj-0.7.2-py3-none-any.whl (7.1 kB)\n",
            "Collecting click-plugins>=1.0\n",
            "  Downloading click_plugins-1.1.1-py2.py3-none-any.whl (7.5 kB)\n",
            "Requirement already satisfied: certifi in /usr/local/lib/python3.7/dist-packages (from fiona>=1.8->geopandas) (2021.10.8)\n",
            "Requirement already satisfied: python-dateutil>=2.7.3 in /usr/local/lib/python3.7/dist-packages (from pandas>=0.25.0->geopandas) (2.8.2)\n",
            "Requirement already satisfied: pytz>=2017.2 in /usr/local/lib/python3.7/dist-packages (from pandas>=0.25.0->geopandas) (2018.9)\n",
            "Requirement already satisfied: numpy>=1.15.4 in /usr/local/lib/python3.7/dist-packages (from pandas>=0.25.0->geopandas) (1.19.5)\n",
            "Installing collected packages: munch, cligj, click-plugins, pyproj, fiona, geopandas\n",
            "Successfully installed click-plugins-1.1.1 cligj-0.7.2 fiona-1.8.20 geopandas-0.10.2 munch-2.5.0 pyproj-3.2.1\n",
            "Collecting contextily\n",
            "  Downloading contextily-1.2.0-py3-none-any.whl (16 kB)\n",
            "Requirement already satisfied: geopy in /usr/local/lib/python3.7/dist-packages (from contextily) (1.17.0)\n",
            "Collecting xyzservices\n",
            "  Downloading xyzservices-2021.11.0-py3-none-any.whl (34 kB)\n",
            "Collecting rasterio\n",
            "  Downloading rasterio-1.2.10-cp37-cp37m-manylinux1_x86_64.whl (19.3 MB)\n",
            "\u001b[K     |████████████████████████████████| 19.3 MB 239 kB/s \n",
            "\u001b[?25hRequirement already satisfied: requests in /usr/local/lib/python3.7/dist-packages (from contextily) (2.23.0)\n",
            "Requirement already satisfied: pillow in /usr/local/lib/python3.7/dist-packages (from contextily) (7.1.2)\n",
            "Requirement already satisfied: matplotlib in /usr/local/lib/python3.7/dist-packages (from contextily) (3.2.2)\n",
            "Requirement already satisfied: joblib in /usr/local/lib/python3.7/dist-packages (from contextily) (1.1.0)\n",
            "Collecting mercantile\n",
            "  Downloading mercantile-1.2.1-py3-none-any.whl (14 kB)\n",
            "Requirement already satisfied: geographiclib<2,>=1.49 in /usr/local/lib/python3.7/dist-packages (from geopy->contextily) (1.52)\n",
            "Requirement already satisfied: numpy>=1.11 in /usr/local/lib/python3.7/dist-packages (from matplotlib->contextily) (1.19.5)\n",
            "Requirement already satisfied: kiwisolver>=1.0.1 in /usr/local/lib/python3.7/dist-packages (from matplotlib->contextily) (1.3.2)\n",
            "Requirement already satisfied: cycler>=0.10 in /usr/local/lib/python3.7/dist-packages (from matplotlib->contextily) (0.11.0)\n",
            "Requirement already satisfied: python-dateutil>=2.1 in /usr/local/lib/python3.7/dist-packages (from matplotlib->contextily) (2.8.2)\n",
            "Requirement already satisfied: pyparsing!=2.0.4,!=2.1.2,!=2.1.6,>=2.0.1 in /usr/local/lib/python3.7/dist-packages (from matplotlib->contextily) (3.0.6)\n",
            "Requirement already satisfied: six>=1.5 in /usr/local/lib/python3.7/dist-packages (from python-dateutil>=2.1->matplotlib->contextily) (1.15.0)\n",
            "Requirement already satisfied: click>=3.0 in /usr/local/lib/python3.7/dist-packages (from mercantile->contextily) (7.1.2)\n",
            "Requirement already satisfied: cligj>=0.5 in /usr/local/lib/python3.7/dist-packages (from rasterio->contextily) (0.7.2)\n",
            "Requirement already satisfied: setuptools in /usr/local/lib/python3.7/dist-packages (from rasterio->contextily) (57.4.0)\n",
            "Collecting snuggs>=1.4.1\n",
            "  Downloading snuggs-1.4.7-py3-none-any.whl (5.4 kB)\n",
            "Requirement already satisfied: click-plugins in /usr/local/lib/python3.7/dist-packages (from rasterio->contextily) (1.1.1)\n",
            "Requirement already satisfied: certifi in /usr/local/lib/python3.7/dist-packages (from rasterio->contextily) (2021.10.8)\n",
            "Collecting affine\n",
            "  Downloading affine-2.3.0-py2.py3-none-any.whl (15 kB)\n",
            "Requirement already satisfied: attrs in /usr/local/lib/python3.7/dist-packages (from rasterio->contextily) (21.2.0)\n",
            "Requirement already satisfied: chardet<4,>=3.0.2 in /usr/local/lib/python3.7/dist-packages (from requests->contextily) (3.0.4)\n",
            "Requirement already satisfied: idna<3,>=2.5 in /usr/local/lib/python3.7/dist-packages (from requests->contextily) (2.10)\n",
            "Requirement already satisfied: urllib3!=1.25.0,!=1.25.1,<1.26,>=1.21.1 in /usr/local/lib/python3.7/dist-packages (from requests->contextily) (1.24.3)\n",
            "Installing collected packages: snuggs, affine, xyzservices, rasterio, mercantile, contextily\n",
            "Successfully installed affine-2.3.0 contextily-1.2.0 mercantile-1.2.1 rasterio-1.2.10 snuggs-1.4.7 xyzservices-2021.11.0\n"
          ]
        }
      ]
    },
    {
      "cell_type": "code",
      "metadata": {
        "id": "KO4dO2DGcoM8"
      },
      "source": [
        "import pandas as pd\n",
        "import numpy as np \n",
        "import matplotlib.pyplot as plt\n",
        "import sklearn"
      ],
      "execution_count": 2,
      "outputs": []
    },
    {
      "cell_type": "code",
      "metadata": {
        "id": "H9NzSS3UcoM_"
      },
      "source": [
        "import seaborn as sns\n",
        "import matplotlib as mpl\n",
        "import matplotlib.pyplot as plt\n",
        "%matplotlib inline\n",
        "from mpl_toolkits.mplot3d import Axes3D\n",
        "from matplotlib.collections import PolyCollection"
      ],
      "execution_count": 3,
      "outputs": []
    },
    {
      "cell_type": "markdown",
      "metadata": {
        "id": "pIirtJ6Ojnrk"
      },
      "source": [
        "## Loading Data"
      ]
    },
    {
      "cell_type": "code",
      "metadata": {
        "colab": {
          "base_uri": "https://localhost:8080/",
          "height": 313
        },
        "id": "myrnrjrng8BX",
        "outputId": "247f33d8-8948-40a0-9d1a-8f0b5cf59dfd"
      },
      "source": [
        "import pandas as pd\n",
        "indoorheat_df=pd.read_csv('https://raw.githubusercontent.com/GaneshGorti/spatialml/main/masterdata.csv')\n",
        "indoorheat_df.head()"
      ],
      "execution_count": 4,
      "outputs": [
        {
          "output_type": "execute_result",
          "data": {
            "text/html": [
              "<div>\n",
              "<style scoped>\n",
              "    .dataframe tbody tr th:only-of-type {\n",
              "        vertical-align: middle;\n",
              "    }\n",
              "\n",
              "    .dataframe tbody tr th {\n",
              "        vertical-align: top;\n",
              "    }\n",
              "\n",
              "    .dataframe thead th {\n",
              "        text-align: right;\n",
              "    }\n",
              "</style>\n",
              "<table border=\"1\" class=\"dataframe\">\n",
              "  <thead>\n",
              "    <tr style=\"text-align: right;\">\n",
              "      <th></th>\n",
              "      <th>logger</th>\n",
              "      <th>date</th>\n",
              "      <th>temp</th>\n",
              "      <th>Temp_Out</th>\n",
              "      <th>Out_Hum</th>\n",
              "      <th>Wind_Speed</th>\n",
              "      <th>Heat_Index</th>\n",
              "      <th>Rain</th>\n",
              "      <th>Solar_Rad</th>\n",
              "      <th>Area</th>\n",
              "      <th>Humidity_sensor</th>\n",
              "      <th>Floor</th>\n",
              "      <th>Floor_on_top</th>\n",
              "      <th>Roof_structure</th>\n",
              "      <th>Wall_material</th>\n",
              "      <th>Fan</th>\n",
              "      <th>Evaporative_cooler</th>\n",
              "      <th>Flowing_ventilation</th>\n",
              "      <th>LCZ</th>\n",
              "    </tr>\n",
              "  </thead>\n",
              "  <tbody>\n",
              "    <tr>\n",
              "      <th>0</th>\n",
              "      <td>10692989</td>\n",
              "      <td>12/04/16</td>\n",
              "      <td>31.4</td>\n",
              "      <td>34.3</td>\n",
              "      <td>29</td>\n",
              "      <td>1.8</td>\n",
              "      <td>32.5</td>\n",
              "      <td>0.0</td>\n",
              "      <td>906</td>\n",
              "      <td>Railway Colony</td>\n",
              "      <td>yes</td>\n",
              "      <td>4</td>\n",
              "      <td>no</td>\n",
              "      <td>concrete</td>\n",
              "      <td>bricks</td>\n",
              "      <td>1</td>\n",
              "      <td>yes</td>\n",
              "      <td>1.0</td>\n",
              "      <td>2</td>\n",
              "    </tr>\n",
              "    <tr>\n",
              "      <th>1</th>\n",
              "      <td>10692990</td>\n",
              "      <td>12/04/16</td>\n",
              "      <td>31.5</td>\n",
              "      <td>34.3</td>\n",
              "      <td>29</td>\n",
              "      <td>1.8</td>\n",
              "      <td>32.5</td>\n",
              "      <td>0.0</td>\n",
              "      <td>906</td>\n",
              "      <td>Kasturbha Nagar</td>\n",
              "      <td>yes</td>\n",
              "      <td>1</td>\n",
              "      <td>no</td>\n",
              "      <td>concrete</td>\n",
              "      <td>bricks</td>\n",
              "      <td>1</td>\n",
              "      <td>yes</td>\n",
              "      <td>1.0</td>\n",
              "      <td>5</td>\n",
              "    </tr>\n",
              "    <tr>\n",
              "      <th>2</th>\n",
              "      <td>10692993</td>\n",
              "      <td>12/04/16</td>\n",
              "      <td>32.7</td>\n",
              "      <td>34.3</td>\n",
              "      <td>29</td>\n",
              "      <td>1.8</td>\n",
              "      <td>32.5</td>\n",
              "      <td>0.0</td>\n",
              "      <td>906</td>\n",
              "      <td>Sarai Kale Khan</td>\n",
              "      <td>yes</td>\n",
              "      <td>3</td>\n",
              "      <td>yes</td>\n",
              "      <td>floor on top</td>\n",
              "      <td>bricks</td>\n",
              "      <td>1</td>\n",
              "      <td>yes</td>\n",
              "      <td>0.0</td>\n",
              "      <td>3</td>\n",
              "    </tr>\n",
              "    <tr>\n",
              "      <th>3</th>\n",
              "      <td>10692995</td>\n",
              "      <td>12/04/16</td>\n",
              "      <td>32.9</td>\n",
              "      <td>34.3</td>\n",
              "      <td>29</td>\n",
              "      <td>1.8</td>\n",
              "      <td>32.5</td>\n",
              "      <td>0.0</td>\n",
              "      <td>906</td>\n",
              "      <td>Lodhi Colony</td>\n",
              "      <td>yes</td>\n",
              "      <td>2</td>\n",
              "      <td>no</td>\n",
              "      <td>concrete</td>\n",
              "      <td>bricks</td>\n",
              "      <td>1</td>\n",
              "      <td>yes</td>\n",
              "      <td>1.0</td>\n",
              "      <td>6</td>\n",
              "    </tr>\n",
              "    <tr>\n",
              "      <th>4</th>\n",
              "      <td>10692998</td>\n",
              "      <td>12/04/16</td>\n",
              "      <td>32.4</td>\n",
              "      <td>34.3</td>\n",
              "      <td>29</td>\n",
              "      <td>1.8</td>\n",
              "      <td>32.5</td>\n",
              "      <td>0.0</td>\n",
              "      <td>906</td>\n",
              "      <td>Patparganj slum</td>\n",
              "      <td>yes</td>\n",
              "      <td>0</td>\n",
              "      <td>yes</td>\n",
              "      <td>floor on top</td>\n",
              "      <td>bricks</td>\n",
              "      <td>1</td>\n",
              "      <td>yes</td>\n",
              "      <td>1.0</td>\n",
              "      <td>2</td>\n",
              "    </tr>\n",
              "  </tbody>\n",
              "</table>\n",
              "</div>"
            ],
            "text/plain": [
              "     logger      date  temp  ...  Evaporative_cooler  Flowing_ventilation  LCZ\n",
              "0  10692989  12/04/16  31.4  ...                 yes                  1.0    2\n",
              "1  10692990  12/04/16  31.5  ...                 yes                  1.0    5\n",
              "2  10692993  12/04/16  32.7  ...                 yes                  0.0    3\n",
              "3  10692995  12/04/16  32.9  ...                 yes                  1.0    6\n",
              "4  10692998  12/04/16  32.4  ...                 yes                  1.0    2\n",
              "\n",
              "[5 rows x 19 columns]"
            ]
          },
          "metadata": {},
          "execution_count": 4
        }
      ]
    },
    {
      "cell_type": "code",
      "metadata": {
        "colab": {
          "base_uri": "https://localhost:8080/"
        },
        "id": "FpukgbjplPUM",
        "outputId": "ea652a87-2416-4c67-f9aa-970a48d54d1c"
      },
      "source": [
        "indoorheat_df.shape"
      ],
      "execution_count": 5,
      "outputs": [
        {
          "output_type": "execute_result",
          "data": {
            "text/plain": [
              "(10304, 19)"
            ]
          },
          "metadata": {},
          "execution_count": 5
        }
      ]
    },
    {
      "cell_type": "markdown",
      "metadata": {
        "id": "UF9xapdzcoNH"
      },
      "source": [
        "### Checking for Missing Values"
      ]
    },
    {
      "cell_type": "code",
      "metadata": {
        "colab": {
          "base_uri": "https://localhost:8080/"
        },
        "id": "jQ22baxHhWFJ",
        "outputId": "12023a74-6269-4d72-c91c-b21fa004a10e"
      },
      "source": [
        "indoorheat_df.isnull().sum()"
      ],
      "execution_count": 6,
      "outputs": [
        {
          "output_type": "execute_result",
          "data": {
            "text/plain": [
              "logger                    0\n",
              "date                      0\n",
              "temp                   2265\n",
              "Temp_Out                  0\n",
              "Out_Hum                   0\n",
              "Wind_Speed                0\n",
              "Heat_Index                0\n",
              "Rain                      0\n",
              "Solar_Rad                 0\n",
              "Area                      0\n",
              "Humidity_sensor           0\n",
              "Floor                     0\n",
              "Floor_on_top              0\n",
              "Roof_structure            0\n",
              "Wall_material             0\n",
              "Fan                       0\n",
              "Evaporative_cooler        0\n",
              "Flowing_ventilation       0\n",
              "LCZ                       0\n",
              "dtype: int64"
            ]
          },
          "metadata": {},
          "execution_count": 6
        }
      ]
    },
    {
      "cell_type": "markdown",
      "metadata": {
        "id": "XsmD2wuQUpgU"
      },
      "source": [
        "The dataset has a bunch of NAs on the outcome variable, so in the next step we will drop these. There are not NAs on the predictor variables! "
      ]
    },
    {
      "cell_type": "code",
      "metadata": {
        "id": "lHCSfnwtTe50"
      },
      "source": [
        "indoorcleaned_df = indoorheat_df.dropna()"
      ],
      "execution_count": 7,
      "outputs": []
    },
    {
      "cell_type": "code",
      "metadata": {
        "colab": {
          "base_uri": "https://localhost:8080/"
        },
        "id": "1HvraYMBVikt",
        "outputId": "f848cbf0-c81e-4d31-b7f4-3a3fd2893130"
      },
      "source": [
        "# checking to make sure NAs have been deleted\n",
        "indoorcleaned_df.isnull().sum()"
      ],
      "execution_count": 8,
      "outputs": [
        {
          "output_type": "execute_result",
          "data": {
            "text/plain": [
              "logger                 0\n",
              "date                   0\n",
              "temp                   0\n",
              "Temp_Out               0\n",
              "Out_Hum                0\n",
              "Wind_Speed             0\n",
              "Heat_Index             0\n",
              "Rain                   0\n",
              "Solar_Rad              0\n",
              "Area                   0\n",
              "Humidity_sensor        0\n",
              "Floor                  0\n",
              "Floor_on_top           0\n",
              "Roof_structure         0\n",
              "Wall_material          0\n",
              "Fan                    0\n",
              "Evaporative_cooler     0\n",
              "Flowing_ventilation    0\n",
              "LCZ                    0\n",
              "dtype: int64"
            ]
          },
          "metadata": {},
          "execution_count": 8
        }
      ]
    },
    {
      "cell_type": "markdown",
      "metadata": {
        "id": "oosOMa97lJkC"
      },
      "source": [
        "## Exploring the data"
      ]
    },
    {
      "cell_type": "code",
      "metadata": {
        "colab": {
          "base_uri": "https://localhost:8080/",
          "height": 587
        },
        "id": "fB_CoA1nnJuV",
        "outputId": "7d4f60e9-c3fa-4e65-f083-b8400dcf8632"
      },
      "source": [
        "from scipy.stats import norm\n",
        "plt.figure(figsize=(8,8))\n",
        "sns.distplot(indoorcleaned_df['temp'], fit=norm)\n",
        "plt.title(\"Temp Distribution Plot\",size=15, weight='bold')"
      ],
      "execution_count": 9,
      "outputs": [
        {
          "output_type": "stream",
          "name": "stderr",
          "text": [
            "/usr/local/lib/python3.7/dist-packages/seaborn/distributions.py:2619: FutureWarning: `distplot` is a deprecated function and will be removed in a future version. Please adapt your code to use either `displot` (a figure-level function with similar flexibility) or `histplot` (an axes-level function for histograms).\n",
            "  warnings.warn(msg, FutureWarning)\n"
          ]
        },
        {
          "output_type": "execute_result",
          "data": {
            "text/plain": [
              "Text(0.5, 1.0, 'Temp Distribution Plot')"
            ]
          },
          "metadata": {},
          "execution_count": 9
        },
        {
          "output_type": "display_data",
          "data": {
            "image/png": "[encoded data removed]",
            "text/plain": [
              "<Figure size 576x576 with 1 Axes>"
            ]
          },
          "metadata": {
            "needs_background": "light"
          }
        }
      ]
    },
    {
      "cell_type": "code",
      "metadata": {
        "id": "z_2zEzQ8ndtB",
        "colab": {
          "base_uri": "https://localhost:8080/"
        },
        "outputId": "f01ebea0-ccfb-499f-a076-dfd111c52452"
      },
      "source": [
        "indoorcleaned_df['temp_log'] = np.log(indoorcleaned_df.temp)"
      ],
      "execution_count": 10,
      "outputs": [
        {
          "output_type": "stream",
          "name": "stderr",
          "text": [
            "/usr/local/lib/python3.7/dist-packages/ipykernel_launcher.py:1: SettingWithCopyWarning: \n",
            "A value is trying to be set on a copy of a slice from a DataFrame.\n",
            "Try using .loc[row_indexer,col_indexer] = value instead\n",
            "\n",
            "See the caveats in the documentation: https://pandas.pydata.org/pandas-docs/stable/user_guide/indexing.html#returning-a-view-versus-a-copy\n",
            "  \"\"\"Entry point for launching an IPython kernel.\n"
          ]
        }
      ]
    },
    {
      "cell_type": "code",
      "metadata": {
        "colab": {
          "base_uri": "https://localhost:8080/",
          "height": 588
        },
        "id": "KLhZvag8otVl",
        "outputId": "cd4231eb-8452-40ca-bb4e-74374233a2d4"
      },
      "source": [
        "plt.figure(figsize=(8,8))\n",
        "sns.distplot(indoorcleaned_df['temp_log'], fit=norm)\n",
        "plt.title(\"Temp Distribution Plot\",size=15, weight='bold')"
      ],
      "execution_count": 11,
      "outputs": [
        {
          "output_type": "stream",
          "name": "stderr",
          "text": [
            "/usr/local/lib/python3.7/dist-packages/seaborn/distributions.py:2619: FutureWarning: `distplot` is a deprecated function and will be removed in a future version. Please adapt your code to use either `displot` (a figure-level function with similar flexibility) or `histplot` (an axes-level function for histograms).\n",
            "  warnings.warn(msg, FutureWarning)\n"
          ]
        },
        {
          "output_type": "execute_result",
          "data": {
            "text/plain": [
              "Text(0.5, 1.0, 'Temp Distribution Plot')"
            ]
          },
          "metadata": {},
          "execution_count": 11
        },
        {
          "output_type": "display_data",
          "data": {
            "image/png": "[encoded data removed]",
            "text/plain": [
              "<Figure size 576x576 with 1 Axes>"
            ]
          },
          "metadata": {
            "needs_background": "light"
          }
        }
      ]
    },
    {
      "cell_type": "code",
      "metadata": {
        "colab": {
          "base_uri": "https://localhost:8080/",
          "height": 313
        },
        "id": "-EnsICcOo041",
        "outputId": "d12b0ded-f9eb-4f1e-aafa-aef3c77cb4ab"
      },
      "source": [
        "indoorcleaned_df.head()"
      ],
      "execution_count": 12,
      "outputs": [
        {
          "output_type": "execute_result",
          "data": {
            "text/html": [
              "<div>\n",
              "<style scoped>\n",
              "    .dataframe tbody tr th:only-of-type {\n",
              "        vertical-align: middle;\n",
              "    }\n",
              "\n",
              "    .dataframe tbody tr th {\n",
              "        vertical-align: top;\n",
              "    }\n",
              "\n",
              "    .dataframe thead th {\n",
              "        text-align: right;\n",
              "    }\n",
              "</style>\n",
              "<table border=\"1\" class=\"dataframe\">\n",
              "  <thead>\n",
              "    <tr style=\"text-align: right;\">\n",
              "      <th></th>\n",
              "      <th>logger</th>\n",
              "      <th>date</th>\n",
              "      <th>temp</th>\n",
              "      <th>Temp_Out</th>\n",
              "      <th>Out_Hum</th>\n",
              "      <th>Wind_Speed</th>\n",
              "      <th>Heat_Index</th>\n",
              "      <th>Rain</th>\n",
              "      <th>Solar_Rad</th>\n",
              "      <th>Area</th>\n",
              "      <th>Humidity_sensor</th>\n",
              "      <th>Floor</th>\n",
              "      <th>Floor_on_top</th>\n",
              "      <th>Roof_structure</th>\n",
              "      <th>Wall_material</th>\n",
              "      <th>Fan</th>\n",
              "      <th>Evaporative_cooler</th>\n",
              "      <th>Flowing_ventilation</th>\n",
              "      <th>LCZ</th>\n",
              "      <th>temp_log</th>\n",
              "    </tr>\n",
              "  </thead>\n",
              "  <tbody>\n",
              "    <tr>\n",
              "      <th>0</th>\n",
              "      <td>10692989</td>\n",
              "      <td>12/04/16</td>\n",
              "      <td>31.4</td>\n",
              "      <td>34.3</td>\n",
              "      <td>29</td>\n",
              "      <td>1.8</td>\n",
              "      <td>32.5</td>\n",
              "      <td>0.0</td>\n",
              "      <td>906</td>\n",
              "      <td>Railway Colony</td>\n",
              "      <td>yes</td>\n",
              "      <td>4</td>\n",
              "      <td>no</td>\n",
              "      <td>concrete</td>\n",
              "      <td>bricks</td>\n",
              "      <td>1</td>\n",
              "      <td>yes</td>\n",
              "      <td>1.0</td>\n",
              "      <td>2</td>\n",
              "      <td>3.446808</td>\n",
              "    </tr>\n",
              "    <tr>\n",
              "      <th>1</th>\n",
              "      <td>10692990</td>\n",
              "      <td>12/04/16</td>\n",
              "      <td>31.5</td>\n",
              "      <td>34.3</td>\n",
              "      <td>29</td>\n",
              "      <td>1.8</td>\n",
              "      <td>32.5</td>\n",
              "      <td>0.0</td>\n",
              "      <td>906</td>\n",
              "      <td>Kasturbha Nagar</td>\n",
              "      <td>yes</td>\n",
              "      <td>1</td>\n",
              "      <td>no</td>\n",
              "      <td>concrete</td>\n",
              "      <td>bricks</td>\n",
              "      <td>1</td>\n",
              "      <td>yes</td>\n",
              "      <td>1.0</td>\n",
              "      <td>5</td>\n",
              "      <td>3.449988</td>\n",
              "    </tr>\n",
              "    <tr>\n",
              "      <th>2</th>\n",
              "      <td>10692993</td>\n",
              "      <td>12/04/16</td>\n",
              "      <td>32.7</td>\n",
              "      <td>34.3</td>\n",
              "      <td>29</td>\n",
              "      <td>1.8</td>\n",
              "      <td>32.5</td>\n",
              "      <td>0.0</td>\n",
              "      <td>906</td>\n",
              "      <td>Sarai Kale Khan</td>\n",
              "      <td>yes</td>\n",
              "      <td>3</td>\n",
              "      <td>yes</td>\n",
              "      <td>floor on top</td>\n",
              "      <td>bricks</td>\n",
              "      <td>1</td>\n",
              "      <td>yes</td>\n",
              "      <td>0.0</td>\n",
              "      <td>3</td>\n",
              "      <td>3.487375</td>\n",
              "    </tr>\n",
              "    <tr>\n",
              "      <th>3</th>\n",
              "      <td>10692995</td>\n",
              "      <td>12/04/16</td>\n",
              "      <td>32.9</td>\n",
              "      <td>34.3</td>\n",
              "      <td>29</td>\n",
              "      <td>1.8</td>\n",
              "      <td>32.5</td>\n",
              "      <td>0.0</td>\n",
              "      <td>906</td>\n",
              "      <td>Lodhi Colony</td>\n",
              "      <td>yes</td>\n",
              "      <td>2</td>\n",
              "      <td>no</td>\n",
              "      <td>concrete</td>\n",
              "      <td>bricks</td>\n",
              "      <td>1</td>\n",
              "      <td>yes</td>\n",
              "      <td>1.0</td>\n",
              "      <td>6</td>\n",
              "      <td>3.493473</td>\n",
              "    </tr>\n",
              "    <tr>\n",
              "      <th>4</th>\n",
              "      <td>10692998</td>\n",
              "      <td>12/04/16</td>\n",
              "      <td>32.4</td>\n",
              "      <td>34.3</td>\n",
              "      <td>29</td>\n",
              "      <td>1.8</td>\n",
              "      <td>32.5</td>\n",
              "      <td>0.0</td>\n",
              "      <td>906</td>\n",
              "      <td>Patparganj slum</td>\n",
              "      <td>yes</td>\n",
              "      <td>0</td>\n",
              "      <td>yes</td>\n",
              "      <td>floor on top</td>\n",
              "      <td>bricks</td>\n",
              "      <td>1</td>\n",
              "      <td>yes</td>\n",
              "      <td>1.0</td>\n",
              "      <td>2</td>\n",
              "      <td>3.478158</td>\n",
              "    </tr>\n",
              "  </tbody>\n",
              "</table>\n",
              "</div>"
            ],
            "text/plain": [
              "     logger      date  temp  ...  Flowing_ventilation  LCZ  temp_log\n",
              "0  10692989  12/04/16  31.4  ...                  1.0    2  3.446808\n",
              "1  10692990  12/04/16  31.5  ...                  1.0    5  3.449988\n",
              "2  10692993  12/04/16  32.7  ...                  0.0    3  3.487375\n",
              "3  10692995  12/04/16  32.9  ...                  1.0    6  3.493473\n",
              "4  10692998  12/04/16  32.4  ...                  1.0    2  3.478158\n",
              "\n",
              "[5 rows x 20 columns]"
            ]
          },
          "metadata": {},
          "execution_count": 12
        }
      ]
    },
    {
      "cell_type": "markdown",
      "metadata": {
        "id": "63gd5TqkjPOq"
      },
      "source": [
        "Transforming categorical variables into numerics."
      ]
    },
    {
      "cell_type": "code",
      "metadata": {
        "id": "4jgEwuP0xPqX"
      },
      "source": [
        "#len(indoorcleaned_df['Evaporative.cooler'].unique())"
      ],
      "execution_count": 13,
      "outputs": []
    },
    {
      "cell_type": "code",
      "metadata": {
        "id": "70_93DwFxLpG"
      },
      "source": [
        "#len(indoorcleaned_df['Wall.material'].unique())"
      ],
      "execution_count": 14,
      "outputs": []
    },
    {
      "cell_type": "code",
      "metadata": {
        "id": "xoecdCIVxDtH"
      },
      "source": [
        "#len(indoorcleaned_df['Roof.structure'].unique())"
      ],
      "execution_count": 15,
      "outputs": []
    },
    {
      "cell_type": "code",
      "metadata": {
        "id": "KLm27O_Lgdrt"
      },
      "source": [
        "#len(indoorcleaned_df['Humidity.sensor'].unique())"
      ],
      "execution_count": 16,
      "outputs": []
    },
    {
      "cell_type": "code",
      "metadata": {
        "colab": {
          "base_uri": "https://localhost:8080/"
        },
        "id": "7_ins9903eCU",
        "outputId": "3930fe36-e143-48e2-b2a7-da68acb28498"
      },
      "source": [
        "indoorcleaned_df['Evaporative_cooler'] = pd.factorize(indoorcleaned_df.Evaporative_cooler)[0]\n",
        "indoorcleaned_df['Roof_structure'] = pd.factorize(indoorcleaned_df.Roof_structure)[0]\n",
        "indoorcleaned_df['Wall_material'] = pd.factorize(indoorcleaned_df.Wall_material)[0]\n",
        "indoorcleaned_df['Humidity_sensor'] = pd.factorize(indoorcleaned_df.Humidity_sensor)[0]\n",
        "indoorcleaned_df['Floor_on_top'] = pd.factorize(indoorcleaned_df.Floor_on_top)[0]"
      ],
      "execution_count": 17,
      "outputs": [
        {
          "output_type": "stream",
          "name": "stderr",
          "text": [
            "/usr/local/lib/python3.7/dist-packages/ipykernel_launcher.py:1: SettingWithCopyWarning: \n",
            "A value is trying to be set on a copy of a slice from a DataFrame.\n",
            "Try using .loc[row_indexer,col_indexer] = value instead\n",
            "\n",
            "See the caveats in the documentation: https://pandas.pydata.org/pandas-docs/stable/user_guide/indexing.html#returning-a-view-versus-a-copy\n",
            "  \"\"\"Entry point for launching an IPython kernel.\n",
            "/usr/local/lib/python3.7/dist-packages/ipykernel_launcher.py:2: SettingWithCopyWarning: \n",
            "A value is trying to be set on a copy of a slice from a DataFrame.\n",
            "Try using .loc[row_indexer,col_indexer] = value instead\n",
            "\n",
            "See the caveats in the documentation: https://pandas.pydata.org/pandas-docs/stable/user_guide/indexing.html#returning-a-view-versus-a-copy\n",
            "  \n",
            "/usr/local/lib/python3.7/dist-packages/ipykernel_launcher.py:3: SettingWithCopyWarning: \n",
            "A value is trying to be set on a copy of a slice from a DataFrame.\n",
            "Try using .loc[row_indexer,col_indexer] = value instead\n",
            "\n",
            "See the caveats in the documentation: https://pandas.pydata.org/pandas-docs/stable/user_guide/indexing.html#returning-a-view-versus-a-copy\n",
            "  This is separate from the ipykernel package so we can avoid doing imports until\n",
            "/usr/local/lib/python3.7/dist-packages/ipykernel_launcher.py:4: SettingWithCopyWarning: \n",
            "A value is trying to be set on a copy of a slice from a DataFrame.\n",
            "Try using .loc[row_indexer,col_indexer] = value instead\n",
            "\n",
            "See the caveats in the documentation: https://pandas.pydata.org/pandas-docs/stable/user_guide/indexing.html#returning-a-view-versus-a-copy\n",
            "  after removing the cwd from sys.path.\n",
            "/usr/local/lib/python3.7/dist-packages/ipykernel_launcher.py:5: SettingWithCopyWarning: \n",
            "A value is trying to be set on a copy of a slice from a DataFrame.\n",
            "Try using .loc[row_indexer,col_indexer] = value instead\n",
            "\n",
            "See the caveats in the documentation: https://pandas.pydata.org/pandas-docs/stable/user_guide/indexing.html#returning-a-view-versus-a-copy\n",
            "  \"\"\"\n"
          ]
        }
      ]
    },
    {
      "cell_type": "code",
      "metadata": {
        "colab": {
          "base_uri": "https://localhost:8080/",
          "height": 313
        },
        "id": "oLkh0Yz0j91b",
        "outputId": "9e4365c1-ee8f-4c11-8f51-ca9e4472758f"
      },
      "source": [
        "#indoorcleaned_df = pd.get_dummies(indoorcleaned_df)\n",
        "indoorcleaned_df.head()"
      ],
      "execution_count": 18,
      "outputs": [
        {
          "output_type": "execute_result",
          "data": {
            "text/html": [
              "<div>\n",
              "<style scoped>\n",
              "    .dataframe tbody tr th:only-of-type {\n",
              "        vertical-align: middle;\n",
              "    }\n",
              "\n",
              "    .dataframe tbody tr th {\n",
              "        vertical-align: top;\n",
              "    }\n",
              "\n",
              "    .dataframe thead th {\n",
              "        text-align: right;\n",
              "    }\n",
              "</style>\n",
              "<table border=\"1\" class=\"dataframe\">\n",
              "  <thead>\n",
              "    <tr style=\"text-align: right;\">\n",
              "      <th></th>\n",
              "      <th>logger</th>\n",
              "      <th>date</th>\n",
              "      <th>temp</th>\n",
              "      <th>Temp_Out</th>\n",
              "      <th>Out_Hum</th>\n",
              "      <th>Wind_Speed</th>\n",
              "      <th>Heat_Index</th>\n",
              "      <th>Rain</th>\n",
              "      <th>Solar_Rad</th>\n",
              "      <th>Area</th>\n",
              "      <th>Humidity_sensor</th>\n",
              "      <th>Floor</th>\n",
              "      <th>Floor_on_top</th>\n",
              "      <th>Roof_structure</th>\n",
              "      <th>Wall_material</th>\n",
              "      <th>Fan</th>\n",
              "      <th>Evaporative_cooler</th>\n",
              "      <th>Flowing_ventilation</th>\n",
              "      <th>LCZ</th>\n",
              "      <th>temp_log</th>\n",
              "    </tr>\n",
              "  </thead>\n",
              "  <tbody>\n",
              "    <tr>\n",
              "      <th>0</th>\n",
              "      <td>10692989</td>\n",
              "      <td>12/04/16</td>\n",
              "      <td>31.4</td>\n",
              "      <td>34.3</td>\n",
              "      <td>29</td>\n",
              "      <td>1.8</td>\n",
              "      <td>32.5</td>\n",
              "      <td>0.0</td>\n",
              "      <td>906</td>\n",
              "      <td>Railway Colony</td>\n",
              "      <td>0</td>\n",
              "      <td>4</td>\n",
              "      <td>0</td>\n",
              "      <td>0</td>\n",
              "      <td>0</td>\n",
              "      <td>1</td>\n",
              "      <td>0</td>\n",
              "      <td>1.0</td>\n",
              "      <td>2</td>\n",
              "      <td>3.446808</td>\n",
              "    </tr>\n",
              "    <tr>\n",
              "      <th>1</th>\n",
              "      <td>10692990</td>\n",
              "      <td>12/04/16</td>\n",
              "      <td>31.5</td>\n",
              "      <td>34.3</td>\n",
              "      <td>29</td>\n",
              "      <td>1.8</td>\n",
              "      <td>32.5</td>\n",
              "      <td>0.0</td>\n",
              "      <td>906</td>\n",
              "      <td>Kasturbha Nagar</td>\n",
              "      <td>0</td>\n",
              "      <td>1</td>\n",
              "      <td>0</td>\n",
              "      <td>0</td>\n",
              "      <td>0</td>\n",
              "      <td>1</td>\n",
              "      <td>0</td>\n",
              "      <td>1.0</td>\n",
              "      <td>5</td>\n",
              "      <td>3.449988</td>\n",
              "    </tr>\n",
              "    <tr>\n",
              "      <th>2</th>\n",
              "      <td>10692993</td>\n",
              "      <td>12/04/16</td>\n",
              "      <td>32.7</td>\n",
              "      <td>34.3</td>\n",
              "      <td>29</td>\n",
              "      <td>1.8</td>\n",
              "      <td>32.5</td>\n",
              "      <td>0.0</td>\n",
              "      <td>906</td>\n",
              "      <td>Sarai Kale Khan</td>\n",
              "      <td>0</td>\n",
              "      <td>3</td>\n",
              "      <td>1</td>\n",
              "      <td>1</td>\n",
              "      <td>0</td>\n",
              "      <td>1</td>\n",
              "      <td>0</td>\n",
              "      <td>0.0</td>\n",
              "      <td>3</td>\n",
              "      <td>3.487375</td>\n",
              "    </tr>\n",
              "    <tr>\n",
              "      <th>3</th>\n",
              "      <td>10692995</td>\n",
              "      <td>12/04/16</td>\n",
              "      <td>32.9</td>\n",
              "      <td>34.3</td>\n",
              "      <td>29</td>\n",
              "      <td>1.8</td>\n",
              "      <td>32.5</td>\n",
              "      <td>0.0</td>\n",
              "      <td>906</td>\n",
              "      <td>Lodhi Colony</td>\n",
              "      <td>0</td>\n",
              "      <td>2</td>\n",
              "      <td>0</td>\n",
              "      <td>0</td>\n",
              "      <td>0</td>\n",
              "      <td>1</td>\n",
              "      <td>0</td>\n",
              "      <td>1.0</td>\n",
              "      <td>6</td>\n",
              "      <td>3.493473</td>\n",
              "    </tr>\n",
              "    <tr>\n",
              "      <th>4</th>\n",
              "      <td>10692998</td>\n",
              "      <td>12/04/16</td>\n",
              "      <td>32.4</td>\n",
              "      <td>34.3</td>\n",
              "      <td>29</td>\n",
              "      <td>1.8</td>\n",
              "      <td>32.5</td>\n",
              "      <td>0.0</td>\n",
              "      <td>906</td>\n",
              "      <td>Patparganj slum</td>\n",
              "      <td>0</td>\n",
              "      <td>0</td>\n",
              "      <td>1</td>\n",
              "      <td>1</td>\n",
              "      <td>0</td>\n",
              "      <td>1</td>\n",
              "      <td>0</td>\n",
              "      <td>1.0</td>\n",
              "      <td>2</td>\n",
              "      <td>3.478158</td>\n",
              "    </tr>\n",
              "  </tbody>\n",
              "</table>\n",
              "</div>"
            ],
            "text/plain": [
              "     logger      date  temp  ...  Flowing_ventilation  LCZ  temp_log\n",
              "0  10692989  12/04/16  31.4  ...                  1.0    2  3.446808\n",
              "1  10692990  12/04/16  31.5  ...                  1.0    5  3.449988\n",
              "2  10692993  12/04/16  32.7  ...                  0.0    3  3.487375\n",
              "3  10692995  12/04/16  32.9  ...                  1.0    6  3.493473\n",
              "4  10692998  12/04/16  32.4  ...                  1.0    2  3.478158\n",
              "\n",
              "[5 rows x 20 columns]"
            ]
          },
          "metadata": {},
          "execution_count": 18
        }
      ]
    },
    {
      "cell_type": "code",
      "metadata": {
        "colab": {
          "base_uri": "https://localhost:8080/",
          "height": 937
        },
        "id": "7gLxm_LOgFca",
        "outputId": "503f7241-2e66-49f8-eafc-1ad0786f641f"
      },
      "source": [
        "# Plotting the pearson correlation matrix of the features\n",
        "colormap = plt.cm.RdBu\n",
        "plt.figure(figsize=(30,15))\n",
        "plt.title('Pearson Correlation of Features', y=1.05, size=15)\n",
        "sns.heatmap(indoorcleaned_df.corr(),linewidths=0.1,vmax=1.0, square=True, cmap=colormap, linecolor='white', annot=False)\n",
        "plt.show()"
      ],
      "execution_count": 19,
      "outputs": [
        {
          "output_type": "display_data",
          "data": {
            "image/png": "[encoded data removed]",
            "text/plain": [
              "<Figure size 2160x1080 with 2 Axes>"
            ]
          },
          "metadata": {
            "needs_background": "light"
          }
        }
      ]
    },
    {
      "cell_type": "markdown",
      "metadata": {
        "id": "P-s1ev9QRzPG"
      },
      "source": [
        "We have a few strong correlations, especially with humidity, LCZ, and the presence of ventilation. Linear models might work, but lets see. \n",
        "\n",
        "Seperating the features and the target:"
      ]
    },
    {
      "cell_type": "code",
      "metadata": {
        "id": "l-DLoor-m3x_"
      },
      "source": [
        "indoorcleaned_df = pd.get_dummies(indoorcleaned_df)\n",
        "\n",
        "indoorcleaned_df.to_csv('indoorheat_df_mod.csv')"
      ],
      "execution_count": 20,
      "outputs": []
    },
    {
      "cell_type": "code",
      "metadata": {
        "id": "4dd8DLp4pPRh"
      },
      "source": [
        "X = indoorcleaned_df.drop(['temp', 'temp_log'], axis=1)\n",
        "Y = indoorcleaned_df['temp']"
      ],
      "execution_count": 21,
      "outputs": []
    },
    {
      "cell_type": "code",
      "metadata": {
        "colab": {
          "base_uri": "https://localhost:8080/",
          "height": 273
        },
        "id": "lonoQUxHqMWK",
        "outputId": "b2b083c6-83c3-441f-d6d3-4507d089a8ca"
      },
      "source": [
        "X.head()"
      ],
      "execution_count": 22,
      "outputs": [
        {
          "output_type": "execute_result",
          "data": {
            "text/html": [
              "<div>\n",
              "<style scoped>\n",
              "    .dataframe tbody tr th:only-of-type {\n",
              "        vertical-align: middle;\n",
              "    }\n",
              "\n",
              "    .dataframe tbody tr th {\n",
              "        vertical-align: top;\n",
              "    }\n",
              "\n",
              "    .dataframe thead th {\n",
              "        text-align: right;\n",
              "    }\n",
              "</style>\n",
              "<table border=\"1\" class=\"dataframe\">\n",
              "  <thead>\n",
              "    <tr style=\"text-align: right;\">\n",
              "      <th></th>\n",
              "      <th>logger</th>\n",
              "      <th>Temp_Out</th>\n",
              "      <th>Out_Hum</th>\n",
              "      <th>Wind_Speed</th>\n",
              "      <th>Heat_Index</th>\n",
              "      <th>Rain</th>\n",
              "      <th>Solar_Rad</th>\n",
              "      <th>Humidity_sensor</th>\n",
              "      <th>Floor</th>\n",
              "      <th>Floor_on_top</th>\n",
              "      <th>Roof_structure</th>\n",
              "      <th>Wall_material</th>\n",
              "      <th>Fan</th>\n",
              "      <th>Evaporative_cooler</th>\n",
              "      <th>Flowing_ventilation</th>\n",
              "      <th>LCZ</th>\n",
              "      <th>date_01/05/16</th>\n",
              "      <th>date_01/06/16</th>\n",
              "      <th>date_01/07/16</th>\n",
              "      <th>date_01/08/16</th>\n",
              "      <th>date_01/09/16</th>\n",
              "      <th>date_01/10/16</th>\n",
              "      <th>date_02/05/16</th>\n",
              "      <th>date_02/06/16</th>\n",
              "      <th>date_02/07/16</th>\n",
              "      <th>date_02/08/16</th>\n",
              "      <th>date_02/09/16</th>\n",
              "      <th>date_02/10/16</th>\n",
              "      <th>date_03/05/16</th>\n",
              "      <th>date_03/06/16</th>\n",
              "      <th>date_03/07/16</th>\n",
              "      <th>date_03/08/16</th>\n",
              "      <th>date_03/09/16</th>\n",
              "      <th>date_03/10/16</th>\n",
              "      <th>date_04/05/16</th>\n",
              "      <th>date_04/06/16</th>\n",
              "      <th>date_04/07/16</th>\n",
              "      <th>date_04/08/16</th>\n",
              "      <th>date_04/09/16</th>\n",
              "      <th>date_04/10/16</th>\n",
              "      <th>...</th>\n",
              "      <th>date_25/07/16</th>\n",
              "      <th>date_25/08/16</th>\n",
              "      <th>date_25/09/16</th>\n",
              "      <th>date_26/04/16</th>\n",
              "      <th>date_26/05/16</th>\n",
              "      <th>date_26/06/16</th>\n",
              "      <th>date_26/07/16</th>\n",
              "      <th>date_26/08/16</th>\n",
              "      <th>date_26/09/16</th>\n",
              "      <th>date_27/04/16</th>\n",
              "      <th>date_27/05/16</th>\n",
              "      <th>date_27/06/16</th>\n",
              "      <th>date_27/07/16</th>\n",
              "      <th>date_27/08/16</th>\n",
              "      <th>date_27/09/16</th>\n",
              "      <th>date_28/04/16</th>\n",
              "      <th>date_28/05/16</th>\n",
              "      <th>date_28/06/16</th>\n",
              "      <th>date_28/07/16</th>\n",
              "      <th>date_28/08/16</th>\n",
              "      <th>date_28/09/16</th>\n",
              "      <th>date_29/04/16</th>\n",
              "      <th>date_29/05/16</th>\n",
              "      <th>date_29/06/16</th>\n",
              "      <th>date_29/07/16</th>\n",
              "      <th>date_29/08/16</th>\n",
              "      <th>date_29/09/16</th>\n",
              "      <th>date_30/04/16</th>\n",
              "      <th>date_30/05/16</th>\n",
              "      <th>date_30/06/16</th>\n",
              "      <th>date_30/08/16</th>\n",
              "      <th>date_30/09/16</th>\n",
              "      <th>date_31/05/16</th>\n",
              "      <th>date_31/08/16</th>\n",
              "      <th>Area_Kasturbha Nagar</th>\n",
              "      <th>Area_Laxmi Nagar</th>\n",
              "      <th>Area_Lodhi Colony</th>\n",
              "      <th>Area_Patparganj slum</th>\n",
              "      <th>Area_Railway Colony</th>\n",
              "      <th>Area_Sarai Kale Khan</th>\n",
              "    </tr>\n",
              "  </thead>\n",
              "  <tbody>\n",
              "    <tr>\n",
              "      <th>0</th>\n",
              "      <td>10692989</td>\n",
              "      <td>34.3</td>\n",
              "      <td>29</td>\n",
              "      <td>1.8</td>\n",
              "      <td>32.5</td>\n",
              "      <td>0.0</td>\n",
              "      <td>906</td>\n",
              "      <td>0</td>\n",
              "      <td>4</td>\n",
              "      <td>0</td>\n",
              "      <td>0</td>\n",
              "      <td>0</td>\n",
              "      <td>1</td>\n",
              "      <td>0</td>\n",
              "      <td>1.0</td>\n",
              "      <td>2</td>\n",
              "      <td>0</td>\n",
              "      <td>0</td>\n",
              "      <td>0</td>\n",
              "      <td>0</td>\n",
              "      <td>0</td>\n",
              "      <td>0</td>\n",
              "      <td>0</td>\n",
              "      <td>0</td>\n",
              "      <td>0</td>\n",
              "      <td>0</td>\n",
              "      <td>0</td>\n",
              "      <td>0</td>\n",
              "      <td>0</td>\n",
              "      <td>0</td>\n",
              "      <td>0</td>\n",
              "      <td>0</td>\n",
              "      <td>0</td>\n",
              "      <td>0</td>\n",
              "      <td>0</td>\n",
              "      <td>0</td>\n",
              "      <td>0</td>\n",
              "      <td>0</td>\n",
              "      <td>0</td>\n",
              "      <td>0</td>\n",
              "      <td>...</td>\n",
              "      <td>0</td>\n",
              "      <td>0</td>\n",
              "      <td>0</td>\n",
              "      <td>0</td>\n",
              "      <td>0</td>\n",
              "      <td>0</td>\n",
              "      <td>0</td>\n",
              "      <td>0</td>\n",
              "      <td>0</td>\n",
              "      <td>0</td>\n",
              "      <td>0</td>\n",
              "      <td>0</td>\n",
              "      <td>0</td>\n",
              "      <td>0</td>\n",
              "      <td>0</td>\n",
              "      <td>0</td>\n",
              "      <td>0</td>\n",
              "      <td>0</td>\n",
              "      <td>0</td>\n",
              "      <td>0</td>\n",
              "      <td>0</td>\n",
              "      <td>0</td>\n",
              "      <td>0</td>\n",
              "      <td>0</td>\n",
              "      <td>0</td>\n",
              "      <td>0</td>\n",
              "      <td>0</td>\n",
              "      <td>0</td>\n",
              "      <td>0</td>\n",
              "      <td>0</td>\n",
              "      <td>0</td>\n",
              "      <td>0</td>\n",
              "      <td>0</td>\n",
              "      <td>0</td>\n",
              "      <td>0</td>\n",
              "      <td>0</td>\n",
              "      <td>0</td>\n",
              "      <td>0</td>\n",
              "      <td>1</td>\n",
              "      <td>0</td>\n",
              "    </tr>\n",
              "    <tr>\n",
              "      <th>1</th>\n",
              "      <td>10692990</td>\n",
              "      <td>34.3</td>\n",
              "      <td>29</td>\n",
              "      <td>1.8</td>\n",
              "      <td>32.5</td>\n",
              "      <td>0.0</td>\n",
              "      <td>906</td>\n",
              "      <td>0</td>\n",
              "      <td>1</td>\n",
              "      <td>0</td>\n",
              "      <td>0</td>\n",
              "      <td>0</td>\n",
              "      <td>1</td>\n",
              "      <td>0</td>\n",
              "      <td>1.0</td>\n",
              "      <td>5</td>\n",
              "      <td>0</td>\n",
              "      <td>0</td>\n",
              "      <td>0</td>\n",
              "      <td>0</td>\n",
              "      <td>0</td>\n",
              "      <td>0</td>\n",
              "      <td>0</td>\n",
              "      <td>0</td>\n",
              "      <td>0</td>\n",
              "      <td>0</td>\n",
              "      <td>0</td>\n",
              "      <td>0</td>\n",
              "      <td>0</td>\n",
              "      <td>0</td>\n",
              "      <td>0</td>\n",
              "      <td>0</td>\n",
              "      <td>0</td>\n",
              "      <td>0</td>\n",
              "      <td>0</td>\n",
              "      <td>0</td>\n",
              "      <td>0</td>\n",
              "      <td>0</td>\n",
              "      <td>0</td>\n",
              "      <td>0</td>\n",
              "      <td>...</td>\n",
              "      <td>0</td>\n",
              "      <td>0</td>\n",
              "      <td>0</td>\n",
              "      <td>0</td>\n",
              "      <td>0</td>\n",
              "      <td>0</td>\n",
              "      <td>0</td>\n",
              "      <td>0</td>\n",
              "      <td>0</td>\n",
              "      <td>0</td>\n",
              "      <td>0</td>\n",
              "      <td>0</td>\n",
              "      <td>0</td>\n",
              "      <td>0</td>\n",
              "      <td>0</td>\n",
              "      <td>0</td>\n",
              "      <td>0</td>\n",
              "      <td>0</td>\n",
              "      <td>0</td>\n",
              "      <td>0</td>\n",
              "      <td>0</td>\n",
              "      <td>0</td>\n",
              "      <td>0</td>\n",
              "      <td>0</td>\n",
              "      <td>0</td>\n",
              "      <td>0</td>\n",
              "      <td>0</td>\n",
              "      <td>0</td>\n",
              "      <td>0</td>\n",
              "      <td>0</td>\n",
              "      <td>0</td>\n",
              "      <td>0</td>\n",
              "      <td>0</td>\n",
              "      <td>0</td>\n",
              "      <td>1</td>\n",
              "      <td>0</td>\n",
              "      <td>0</td>\n",
              "      <td>0</td>\n",
              "      <td>0</td>\n",
              "      <td>0</td>\n",
              "    </tr>\n",
              "    <tr>\n",
              "      <th>2</th>\n",
              "      <td>10692993</td>\n",
              "      <td>34.3</td>\n",
              "      <td>29</td>\n",
              "      <td>1.8</td>\n",
              "      <td>32.5</td>\n",
              "      <td>0.0</td>\n",
              "      <td>906</td>\n",
              "      <td>0</td>\n",
              "      <td>3</td>\n",
              "      <td>1</td>\n",
              "      <td>1</td>\n",
              "      <td>0</td>\n",
              "      <td>1</td>\n",
              "      <td>0</td>\n",
              "      <td>0.0</td>\n",
              "      <td>3</td>\n",
              "      <td>0</td>\n",
              "      <td>0</td>\n",
              "      <td>0</td>\n",
              "      <td>0</td>\n",
              "      <td>0</td>\n",
              "      <td>0</td>\n",
              "      <td>0</td>\n",
              "      <td>0</td>\n",
              "      <td>0</td>\n",
              "      <td>0</td>\n",
              "      <td>0</td>\n",
              "      <td>0</td>\n",
              "      <td>0</td>\n",
              "      <td>0</td>\n",
              "      <td>0</td>\n",
              "      <td>0</td>\n",
              "      <td>0</td>\n",
              "      <td>0</td>\n",
              "      <td>0</td>\n",
              "      <td>0</td>\n",
              "      <td>0</td>\n",
              "      <td>0</td>\n",
              "      <td>0</td>\n",
              "      <td>0</td>\n",
              "      <td>...</td>\n",
              "      <td>0</td>\n",
              "      <td>0</td>\n",
              "      <td>0</td>\n",
              "      <td>0</td>\n",
              "      <td>0</td>\n",
              "      <td>0</td>\n",
              "      <td>0</td>\n",
              "      <td>0</td>\n",
              "      <td>0</td>\n",
              "      <td>0</td>\n",
              "      <td>0</td>\n",
              "      <td>0</td>\n",
              "      <td>0</td>\n",
              "      <td>0</td>\n",
              "      <td>0</td>\n",
              "      <td>0</td>\n",
              "      <td>0</td>\n",
              "      <td>0</td>\n",
              "      <td>0</td>\n",
              "      <td>0</td>\n",
              "      <td>0</td>\n",
              "      <td>0</td>\n",
              "      <td>0</td>\n",
              "      <td>0</td>\n",
              "      <td>0</td>\n",
              "      <td>0</td>\n",
              "      <td>0</td>\n",
              "      <td>0</td>\n",
              "      <td>0</td>\n",
              "      <td>0</td>\n",
              "      <td>0</td>\n",
              "      <td>0</td>\n",
              "      <td>0</td>\n",
              "      <td>0</td>\n",
              "      <td>0</td>\n",
              "      <td>0</td>\n",
              "      <td>0</td>\n",
              "      <td>0</td>\n",
              "      <td>0</td>\n",
              "      <td>1</td>\n",
              "    </tr>\n",
              "    <tr>\n",
              "      <th>3</th>\n",
              "      <td>10692995</td>\n",
              "      <td>34.3</td>\n",
              "      <td>29</td>\n",
              "      <td>1.8</td>\n",
              "      <td>32.5</td>\n",
              "      <td>0.0</td>\n",
              "      <td>906</td>\n",
              "      <td>0</td>\n",
              "      <td>2</td>\n",
              "      <td>0</td>\n",
              "      <td>0</td>\n",
              "      <td>0</td>\n",
              "      <td>1</td>\n",
              "      <td>0</td>\n",
              "      <td>1.0</td>\n",
              "      <td>6</td>\n",
              "      <td>0</td>\n",
              "      <td>0</td>\n",
              "      <td>0</td>\n",
              "      <td>0</td>\n",
              "      <td>0</td>\n",
              "      <td>0</td>\n",
              "      <td>0</td>\n",
              "      <td>0</td>\n",
              "      <td>0</td>\n",
              "      <td>0</td>\n",
              "      <td>0</td>\n",
              "      <td>0</td>\n",
              "      <td>0</td>\n",
              "      <td>0</td>\n",
              "      <td>0</td>\n",
              "      <td>0</td>\n",
              "      <td>0</td>\n",
              "      <td>0</td>\n",
              "      <td>0</td>\n",
              "      <td>0</td>\n",
              "      <td>0</td>\n",
              "      <td>0</td>\n",
              "      <td>0</td>\n",
              "      <td>0</td>\n",
              "      <td>...</td>\n",
              "      <td>0</td>\n",
              "      <td>0</td>\n",
              "      <td>0</td>\n",
              "      <td>0</td>\n",
              "      <td>0</td>\n",
              "      <td>0</td>\n",
              "      <td>0</td>\n",
              "      <td>0</td>\n",
              "      <td>0</td>\n",
              "      <td>0</td>\n",
              "      <td>0</td>\n",
              "      <td>0</td>\n",
              "      <td>0</td>\n",
              "      <td>0</td>\n",
              "      <td>0</td>\n",
              "      <td>0</td>\n",
              "      <td>0</td>\n",
              "      <td>0</td>\n",
              "      <td>0</td>\n",
              "      <td>0</td>\n",
              "      <td>0</td>\n",
              "      <td>0</td>\n",
              "      <td>0</td>\n",
              "      <td>0</td>\n",
              "      <td>0</td>\n",
              "      <td>0</td>\n",
              "      <td>0</td>\n",
              "      <td>0</td>\n",
              "      <td>0</td>\n",
              "      <td>0</td>\n",
              "      <td>0</td>\n",
              "      <td>0</td>\n",
              "      <td>0</td>\n",
              "      <td>0</td>\n",
              "      <td>0</td>\n",
              "      <td>0</td>\n",
              "      <td>1</td>\n",
              "      <td>0</td>\n",
              "      <td>0</td>\n",
              "      <td>0</td>\n",
              "    </tr>\n",
              "    <tr>\n",
              "      <th>4</th>\n",
              "      <td>10692998</td>\n",
              "      <td>34.3</td>\n",
              "      <td>29</td>\n",
              "      <td>1.8</td>\n",
              "      <td>32.5</td>\n",
              "      <td>0.0</td>\n",
              "      <td>906</td>\n",
              "      <td>0</td>\n",
              "      <td>0</td>\n",
              "      <td>1</td>\n",
              "      <td>1</td>\n",
              "      <td>0</td>\n",
              "      <td>1</td>\n",
              "      <td>0</td>\n",
              "      <td>1.0</td>\n",
              "      <td>2</td>\n",
              "      <td>0</td>\n",
              "      <td>0</td>\n",
              "      <td>0</td>\n",
              "      <td>0</td>\n",
              "      <td>0</td>\n",
              "      <td>0</td>\n",
              "      <td>0</td>\n",
              "      <td>0</td>\n",
              "      <td>0</td>\n",
              "      <td>0</td>\n",
              "      <td>0</td>\n",
              "      <td>0</td>\n",
              "      <td>0</td>\n",
              "      <td>0</td>\n",
              "      <td>0</td>\n",
              "      <td>0</td>\n",
              "      <td>0</td>\n",
              "      <td>0</td>\n",
              "      <td>0</td>\n",
              "      <td>0</td>\n",
              "      <td>0</td>\n",
              "      <td>0</td>\n",
              "      <td>0</td>\n",
              "      <td>0</td>\n",
              "      <td>...</td>\n",
              "      <td>0</td>\n",
              "      <td>0</td>\n",
              "      <td>0</td>\n",
              "      <td>0</td>\n",
              "      <td>0</td>\n",
              "      <td>0</td>\n",
              "      <td>0</td>\n",
              "      <td>0</td>\n",
              "      <td>0</td>\n",
              "      <td>0</td>\n",
              "      <td>0</td>\n",
              "      <td>0</td>\n",
              "      <td>0</td>\n",
              "      <td>0</td>\n",
              "      <td>0</td>\n",
              "      <td>0</td>\n",
              "      <td>0</td>\n",
              "      <td>0</td>\n",
              "      <td>0</td>\n",
              "      <td>0</td>\n",
              "      <td>0</td>\n",
              "      <td>0</td>\n",
              "      <td>0</td>\n",
              "      <td>0</td>\n",
              "      <td>0</td>\n",
              "      <td>0</td>\n",
              "      <td>0</td>\n",
              "      <td>0</td>\n",
              "      <td>0</td>\n",
              "      <td>0</td>\n",
              "      <td>0</td>\n",
              "      <td>0</td>\n",
              "      <td>0</td>\n",
              "      <td>0</td>\n",
              "      <td>0</td>\n",
              "      <td>0</td>\n",
              "      <td>0</td>\n",
              "      <td>1</td>\n",
              "      <td>0</td>\n",
              "      <td>0</td>\n",
              "    </tr>\n",
              "  </tbody>\n",
              "</table>\n",
              "<p>5 rows × 206 columns</p>\n",
              "</div>"
            ],
            "text/plain": [
              "     logger  Temp_Out  ...  Area_Railway Colony  Area_Sarai Kale Khan\n",
              "0  10692989      34.3  ...                    1                     0\n",
              "1  10692990      34.3  ...                    0                     0\n",
              "2  10692993      34.3  ...                    0                     1\n",
              "3  10692995      34.3  ...                    0                     0\n",
              "4  10692998      34.3  ...                    0                     0\n",
              "\n",
              "[5 rows x 206 columns]"
            ]
          },
          "metadata": {},
          "execution_count": 22
        }
      ]
    },
    {
      "cell_type": "code",
      "metadata": {
        "id": "irNeP35UhP7r"
      },
      "source": [
        "from sklearn.model_selection import train_test_split\n",
        "X_train, X_test, y_train, y_test = train_test_split(X, Y, test_size=0.30, random_state=42)"
      ],
      "execution_count": 23,
      "outputs": []
    },
    {
      "cell_type": "code",
      "metadata": {
        "id": "sPkXmfl-V4xi"
      },
      "source": [
        "# Scaling the features using StandardScaler\n",
        "from sklearn.preprocessing import StandardScaler\n",
        "scaler = StandardScaler()\n",
        "X_train_std = scaler.fit_transform(X_train)\n",
        "X_test_std = scaler.transform(X_test)"
      ],
      "execution_count": 24,
      "outputs": []
    },
    {
      "cell_type": "code",
      "metadata": {
        "colab": {
          "base_uri": "https://localhost:8080/"
        },
        "id": "_dZihKQfWThh",
        "outputId": "06817ecd-b20b-42de-c16e-7b36fc7f02ed"
      },
      "source": [
        "np.isinf(X_train_std).sum()"
      ],
      "execution_count": 25,
      "outputs": [
        {
          "output_type": "execute_result",
          "data": {
            "text/plain": [
              "0"
            ]
          },
          "metadata": {},
          "execution_count": 25
        }
      ]
    },
    {
      "cell_type": "code",
      "metadata": {
        "id": "B2c6_OCfX1Hc"
      },
      "source": [
        "X_train = X_train_std\n",
        "X_test = X_test_std"
      ],
      "execution_count": 26,
      "outputs": []
    },
    {
      "cell_type": "markdown",
      "metadata": {
        "id": "3MGpDXUklRum"
      },
      "source": [
        "## Regression Models"
      ]
    },
    {
      "cell_type": "markdown",
      "metadata": {
        "id": "GWZL8qW5lTm-"
      },
      "source": [
        "\n",
        "\n",
        "\n",
        "\n",
        "### Linear Model"
      ]
    },
    {
      "cell_type": "markdown",
      "metadata": {
        "id": "p-iaF9k9iMVW"
      },
      "source": [
        "Linear model without regularization"
      ]
    },
    {
      "cell_type": "code",
      "metadata": {
        "colab": {
          "base_uri": "https://localhost:8080/"
        },
        "id": "8RGzyBJvoi0I",
        "outputId": "d14714c0-e881-4bed-a6a9-b04be17c8a23"
      },
      "source": [
        "from sklearn.linear_model import LinearRegression\n",
        "from sklearn.metrics import mean_squared_error\n",
        "#Instantiate the model:\n",
        "linear_model= LinearRegression()\n",
        "#train the model using training data\n",
        "linear_model.fit(X_train, y_train)"
      ],
      "execution_count": 27,
      "outputs": [
        {
          "output_type": "execute_result",
          "data": {
            "text/plain": [
              "LinearRegression()"
            ]
          },
          "metadata": {},
          "execution_count": 27
        }
      ]
    },
    {
      "cell_type": "code",
      "metadata": {
        "colab": {
          "base_uri": "https://localhost:8080/"
        },
        "id": "ey2YGGCJpUT9",
        "outputId": "fce2a1b9-5c3f-4c71-e8be-2a081400e29d"
      },
      "source": [
        "train_r2 = round(linear_model.score(X_train, y_train),2)\n",
        "print('Training R2 score is {}'.format(train_r2))"
      ],
      "execution_count": 28,
      "outputs": [
        {
          "output_type": "stream",
          "name": "stdout",
          "text": [
            "Training R2 score is 0.73\n"
          ]
        }
      ]
    },
    {
      "cell_type": "code",
      "metadata": {
        "colab": {
          "base_uri": "https://localhost:8080/"
        },
        "id": "7sJyxFB9pyYD",
        "outputId": "a06051d6-8e7f-4c7d-fbc2-67221aa0d876"
      },
      "source": [
        "#RMSE calculations, moving away from R2 from above\n",
        "y_train_predicted = linear_model.predict(X_train)\n",
        "#mean_square_error to RMSE\n",
        "rmse_train_linear = (np.sqrt(mean_squared_error(y_train, y_train_predicted)))\n",
        "print('RMSE of the linear model for the training set is {}'.format(rmse_train_linear))"
      ],
      "execution_count": 29,
      "outputs": [
        {
          "output_type": "stream",
          "name": "stdout",
          "text": [
            "RMSE of the linear model for the training set is 1.6614702482401045\n"
          ]
        }
      ]
    },
    {
      "cell_type": "code",
      "metadata": {
        "colab": {
          "base_uri": "https://localhost:8080/"
        },
        "id": "5LA6dn5NqHra",
        "outputId": "7539fc31-cd49-416b-d6b3-a47956c2b2cd"
      },
      "source": [
        "y_pred = linear_model.predict(X_test)\n",
        "\n",
        "rmse_test_linear = (np.sqrt(mean_squared_error(y_test, y_pred)))\n",
        "print(\"RMSE of the linear model for the test set is {}\".format(rmse_test_linear))"
      ],
      "execution_count": 30,
      "outputs": [
        {
          "output_type": "stream",
          "name": "stdout",
          "text": [
            "RMSE of the linear model for the test set is 1.7392020665473307\n"
          ]
        }
      ]
    },
    {
      "cell_type": "code",
      "metadata": {
        "colab": {
          "base_uri": "https://localhost:8080/"
        },
        "id": "SdI5MXvHwG6Y",
        "outputId": "b85767e2-75f5-4f01-ab6c-5960793f3572"
      },
      "source": [
        "import numpy\n",
        "numpy.exp(0.52) - 1 "
      ],
      "execution_count": 31,
      "outputs": [
        {
          "output_type": "execute_result",
          "data": {
            "text/plain": [
              "0.6820276496988864"
            ]
          },
          "metadata": {},
          "execution_count": 31
        }
      ]
    },
    {
      "cell_type": "code",
      "metadata": {
        "colab": {
          "base_uri": "https://localhost:8080/",
          "height": 206
        },
        "id": "sK2Pdec7hdmQ",
        "outputId": "3071aed3-982d-4cce-f476-a2e503ca5c3b"
      },
      "source": [
        "linear_coefficients = pd.concat([pd.DataFrame(X.columns, columns={'feature'}),pd.DataFrame(np.transpose(linear_model.coef_), columns={'coefficient'})], axis = 1) \n",
        "linear_coefficients.sort_values(by='coefficient', ascending=False, inplace=True)\n",
        "#Let's just check out the top 5 coefs\n",
        "linear_coefficients.head()"
      ],
      "execution_count": 32,
      "outputs": [
        {
          "output_type": "execute_result",
          "data": {
            "text/html": [
              "<div>\n",
              "<style scoped>\n",
              "    .dataframe tbody tr th:only-of-type {\n",
              "        vertical-align: middle;\n",
              "    }\n",
              "\n",
              "    .dataframe tbody tr th {\n",
              "        vertical-align: top;\n",
              "    }\n",
              "\n",
              "    .dataframe thead th {\n",
              "        text-align: right;\n",
              "    }\n",
              "</style>\n",
              "<table border=\"1\" class=\"dataframe\">\n",
              "  <thead>\n",
              "    <tr style=\"text-align: right;\">\n",
              "      <th></th>\n",
              "      <th>feature</th>\n",
              "      <th>coefficient</th>\n",
              "    </tr>\n",
              "  </thead>\n",
              "  <tbody>\n",
              "    <tr>\n",
              "      <th>5</th>\n",
              "      <td>Rain</td>\n",
              "      <td>6.165481e+12</td>\n",
              "    </tr>\n",
              "    <tr>\n",
              "      <th>205</th>\n",
              "      <td>Area_Sarai Kale Khan</td>\n",
              "      <td>4.154221e+12</td>\n",
              "    </tr>\n",
              "    <tr>\n",
              "      <th>204</th>\n",
              "      <td>Area_Railway Colony</td>\n",
              "      <td>3.785943e+12</td>\n",
              "    </tr>\n",
              "    <tr>\n",
              "      <th>201</th>\n",
              "      <td>Area_Laxmi Nagar</td>\n",
              "      <td>3.779180e+12</td>\n",
              "    </tr>\n",
              "    <tr>\n",
              "      <th>200</th>\n",
              "      <td>Area_Kasturbha Nagar</td>\n",
              "      <td>3.766508e+12</td>\n",
              "    </tr>\n",
              "  </tbody>\n",
              "</table>\n",
              "</div>"
            ],
            "text/plain": [
              "                  feature   coefficient\n",
              "5                    Rain  6.165481e+12\n",
              "205  Area_Sarai Kale Khan  4.154221e+12\n",
              "204   Area_Railway Colony  3.785943e+12\n",
              "201      Area_Laxmi Nagar  3.779180e+12\n",
              "200  Area_Kasturbha Nagar  3.766508e+12"
            ]
          },
          "metadata": {},
          "execution_count": 32
        }
      ]
    },
    {
      "cell_type": "markdown",
      "metadata": {
        "id": "ZmkT6ELKhZ-y"
      },
      "source": [
        "### Lasso Model\n"
      ]
    },
    {
      "cell_type": "code",
      "metadata": {
        "colab": {
          "base_uri": "https://localhost:8080/"
        },
        "id": "TZReiIJ1qaaM",
        "outputId": "689ca73d-6acd-4e38-ce39-34bcee741a60"
      },
      "source": [
        "from sklearn.linear_model import Lasso\n",
        "from sklearn.model_selection import RandomizedSearchCV\n",
        "\n",
        "lasso = Lasso()\n",
        "lasso_params_grid = {'alpha':np.arange(0.001, 10, 0.05)}\n",
        "\n",
        "lasso_cv =  RandomizedSearchCV(Lasso(), lasso_params_grid, cv=5, scoring ='neg_root_mean_squared_error', random_state=42)\n",
        "lasso_cv.fit(X_train,y_train)\n",
        "lasso_cv.best_params_"
      ],
      "execution_count": 33,
      "outputs": [
        {
          "output_type": "execute_result",
          "data": {
            "text/plain": [
              "{'alpha': 0.751}"
            ]
          },
          "metadata": {},
          "execution_count": 33
        }
      ]
    },
    {
      "cell_type": "code",
      "metadata": {
        "colab": {
          "base_uri": "https://localhost:8080/"
        },
        "id": "DPnhCIo9unW9",
        "outputId": "f08a4c8f-9fcd-4da5-ab84-669f0aee3612"
      },
      "source": [
        "best_lasso = Lasso(alpha= 4.751)\n",
        "best_lasso.fit(X_train, y_train)"
      ],
      "execution_count": 34,
      "outputs": [
        {
          "output_type": "execute_result",
          "data": {
            "text/plain": [
              "Lasso(alpha=4.751)"
            ]
          },
          "metadata": {},
          "execution_count": 34
        }
      ]
    },
    {
      "cell_type": "code",
      "metadata": {
        "colab": {
          "base_uri": "https://localhost:8080/"
        },
        "id": "Rj6mbbTBv0zI",
        "outputId": "418d4cd9-e9c4-4702-aa8f-1b4bddc7cb0c"
      },
      "source": [
        "# model evaluation for training set\n",
        "train_r2_lasso = round(best_lasso.score(X_train, y_train),2)\n",
        "print('Training R2 score is {}'.format(train_r2_lasso))\n",
        "y_train_predicted_lasso = best_lasso.predict(X_train)\n",
        "rmse_train_lasso = (np.sqrt(mean_squared_error(y_train, y_train_predicted_lasso)))\n",
        "print('RMSE on the training set for the lasso model is: {}'.format(rmse_train_lasso))"
      ],
      "execution_count": 35,
      "outputs": [
        {
          "output_type": "stream",
          "name": "stdout",
          "text": [
            "Training R2 score is 0.0\n",
            "RMSE on the training set for the lasso model is: 3.194942771101432\n"
          ]
        }
      ]
    },
    {
      "cell_type": "code",
      "metadata": {
        "colab": {
          "base_uri": "https://localhost:8080/"
        },
        "id": "OGIAHKUzwIPj",
        "outputId": "a8a8c471-91a9-4c73-a455-c0ef018dbfe5"
      },
      "source": [
        "# model evaluation for test set\n",
        "y_test_predicted_lasso = best_lasso.predict(X_test)\n",
        "rmse_test_lasso = (np.sqrt(mean_squared_error(y_test, y_test_predicted_lasso)))\n",
        "print(\"RMSE on test set is for the lasso model is: {}\".format(rmse_test_lasso))"
      ],
      "execution_count": 36,
      "outputs": [
        {
          "output_type": "stream",
          "name": "stdout",
          "text": [
            "RMSE on test set is for the lasso model is: 3.233518922429945\n"
          ]
        }
      ]
    },
    {
      "cell_type": "code",
      "metadata": {
        "colab": {
          "base_uri": "https://localhost:8080/",
          "height": 206
        },
        "id": "UaZEOf3GhRZQ",
        "outputId": "8bd1a613-a6e9-45c9-a243-1e9a60f2a6e0"
      },
      "source": [
        "lasso_coefficients = pd.concat([pd.DataFrame(X.columns, columns={'feature'}),pd.DataFrame(np.transpose(best_lasso.coef_), columns={'coefficient'})], axis = 1) \n",
        "lasso_coefficients.sort_values(by='coefficient', ascending=False, inplace=True)\n",
        "lasso_coefficients.head()"
      ],
      "execution_count": 37,
      "outputs": [
        {
          "output_type": "execute_result",
          "data": {
            "text/html": [
              "<div>\n",
              "<style scoped>\n",
              "    .dataframe tbody tr th:only-of-type {\n",
              "        vertical-align: middle;\n",
              "    }\n",
              "\n",
              "    .dataframe tbody tr th {\n",
              "        vertical-align: top;\n",
              "    }\n",
              "\n",
              "    .dataframe thead th {\n",
              "        text-align: right;\n",
              "    }\n",
              "</style>\n",
              "<table border=\"1\" class=\"dataframe\">\n",
              "  <thead>\n",
              "    <tr style=\"text-align: right;\">\n",
              "      <th></th>\n",
              "      <th>feature</th>\n",
              "      <th>coefficient</th>\n",
              "    </tr>\n",
              "  </thead>\n",
              "  <tbody>\n",
              "    <tr>\n",
              "      <th>0</th>\n",
              "      <td>logger</td>\n",
              "      <td>0.0</td>\n",
              "    </tr>\n",
              "    <tr>\n",
              "      <th>141</th>\n",
              "      <td>date_21/06/16</td>\n",
              "      <td>-0.0</td>\n",
              "    </tr>\n",
              "    <tr>\n",
              "      <th>131</th>\n",
              "      <td>date_19/08/16</td>\n",
              "      <td>-0.0</td>\n",
              "    </tr>\n",
              "    <tr>\n",
              "      <th>132</th>\n",
              "      <td>date_19/09/16</td>\n",
              "      <td>-0.0</td>\n",
              "    </tr>\n",
              "    <tr>\n",
              "      <th>133</th>\n",
              "      <td>date_20/04/16</td>\n",
              "      <td>0.0</td>\n",
              "    </tr>\n",
              "  </tbody>\n",
              "</table>\n",
              "</div>"
            ],
            "text/plain": [
              "           feature  coefficient\n",
              "0           logger          0.0\n",
              "141  date_21/06/16         -0.0\n",
              "131  date_19/08/16         -0.0\n",
              "132  date_19/09/16         -0.0\n",
              "133  date_20/04/16          0.0"
            ]
          },
          "metadata": {},
          "execution_count": 37
        }
      ]
    },
    {
      "cell_type": "markdown",
      "metadata": {
        "id": "Ts8QDBD1cy20"
      },
      "source": [
        "\n",
        "Most coefficients are zero, so maybe a linear model is not the best"
      ]
    },
    {
      "cell_type": "markdown",
      "metadata": {
        "id": "daLzYVKqhNSS"
      },
      "source": [
        "### Ridge Model\n"
      ]
    },
    {
      "cell_type": "code",
      "metadata": {
        "colab": {
          "base_uri": "https://localhost:8080/"
        },
        "id": "MHAJ-V2NwZY9",
        "outputId": "73e5f2a5-32ba-4273-c8a5-bc784ccaf3fd"
      },
      "source": [
        "from sklearn.linear_model import Ridge\n",
        "ridge_params_grid = {'alpha':np.arange(0.001, 10, 0.05)} \n",
        "ridge_cv = RandomizedSearchCV(Ridge(), ridge_params_grid, cv=5, scoring ='neg_root_mean_squared_error', random_state=42)\n",
        "ridge_cv.fit(X_train,y_train)\n",
        "ridge_cv.best_params_"
      ],
      "execution_count": 38,
      "outputs": [
        {
          "output_type": "execute_result",
          "data": {
            "text/plain": [
              "{'alpha': 0.751}"
            ]
          },
          "metadata": {},
          "execution_count": 38
        }
      ]
    },
    {
      "cell_type": "code",
      "metadata": {
        "colab": {
          "base_uri": "https://localhost:8080/"
        },
        "id": "mxF7Ujp7xs7A",
        "outputId": "a627cbc4-f3a8-40cc-9785-7562f39414fe"
      },
      "source": [
        "best_ridge = Ridge(alpha= 8.701)\n",
        "best_ridge.fit(X_train,y_train)"
      ],
      "execution_count": 39,
      "outputs": [
        {
          "output_type": "execute_result",
          "data": {
            "text/plain": [
              "Ridge(alpha=8.701)"
            ]
          },
          "metadata": {},
          "execution_count": 39
        }
      ]
    },
    {
      "cell_type": "code",
      "metadata": {
        "colab": {
          "base_uri": "https://localhost:8080/"
        },
        "id": "O7889Yi3x6Qe",
        "outputId": "2db5a443-5cfe-452d-8ac0-ee94fc78d031"
      },
      "source": [
        "# model evaluation for training set\n",
        "train_r2_ridge = round(best_ridge.score(X_train, y_train),2)\n",
        "print('Training R2 score is {}'.format(train_r2_ridge))\n",
        "y_train_predicted_ridge = best_ridge.predict(X_train)\n",
        "rmse_train_ridge = (np.sqrt(mean_squared_error(y_train, y_train_predicted_ridge)))\n",
        "print('RMSE on the training set for the ridge model is: {}'.format(rmse_train_ridge))"
      ],
      "execution_count": 40,
      "outputs": [
        {
          "output_type": "stream",
          "name": "stdout",
          "text": [
            "Training R2 score is 0.73\n",
            "RMSE on the training set for the ridge model is: 1.6655930005385573\n"
          ]
        }
      ]
    },
    {
      "cell_type": "code",
      "metadata": {
        "colab": {
          "base_uri": "https://localhost:8080/"
        },
        "id": "sj8xA7rVyQZC",
        "outputId": "e58f3660-6576-47f2-c5c1-7904bb0b6741"
      },
      "source": [
        "# model evaluation for test set\n",
        "y_test_predicted_ridge = best_ridge.predict(X_test)\n",
        "rmse_test_ridge = (np.sqrt(mean_squared_error(y_test, y_test_predicted_ridge)))\n",
        "print(\"RMSE on testing set is for the ridge model is: {}\".format(rmse_test_ridge))"
      ],
      "execution_count": 41,
      "outputs": [
        {
          "output_type": "stream",
          "name": "stdout",
          "text": [
            "RMSE on testing set is for the ridge model is: 1.7415182709134056\n"
          ]
        }
      ]
    },
    {
      "cell_type": "code",
      "metadata": {
        "colab": {
          "base_uri": "https://localhost:8080/",
          "height": 206
        },
        "id": "NOswin_pg_1w",
        "outputId": "94b2a280-8eec-4ebb-c3f7-056b44f59eee"
      },
      "source": [
        "ridge_coefficients = pd.concat([pd.DataFrame(X.columns, columns={'variable'}),pd.DataFrame(np.transpose(best_ridge.coef_), columns={'coefficient'})], axis = 1) \n",
        "ridge_coefficients.sort_values(by='coefficient', ascending=False, inplace=True)\n",
        "ridge_coefficients.head()"
      ],
      "execution_count": 42,
      "outputs": [
        {
          "output_type": "execute_result",
          "data": {
            "text/html": [
              "<div>\n",
              "<style scoped>\n",
              "    .dataframe tbody tr th:only-of-type {\n",
              "        vertical-align: middle;\n",
              "    }\n",
              "\n",
              "    .dataframe tbody tr th {\n",
              "        vertical-align: top;\n",
              "    }\n",
              "\n",
              "    .dataframe thead th {\n",
              "        text-align: right;\n",
              "    }\n",
              "</style>\n",
              "<table border=\"1\" class=\"dataframe\">\n",
              "  <thead>\n",
              "    <tr style=\"text-align: right;\">\n",
              "      <th></th>\n",
              "      <th>variable</th>\n",
              "      <th>coefficient</th>\n",
              "    </tr>\n",
              "  </thead>\n",
              "  <tbody>\n",
              "    <tr>\n",
              "      <th>205</th>\n",
              "      <td>Area_Sarai Kale Khan</td>\n",
              "      <td>0.792870</td>\n",
              "    </tr>\n",
              "    <tr>\n",
              "      <th>13</th>\n",
              "      <td>Evaporative_cooler</td>\n",
              "      <td>0.631613</td>\n",
              "    </tr>\n",
              "    <tr>\n",
              "      <th>1</th>\n",
              "      <td>Temp_Out</td>\n",
              "      <td>0.573878</td>\n",
              "    </tr>\n",
              "    <tr>\n",
              "      <th>0</th>\n",
              "      <td>logger</td>\n",
              "      <td>0.319658</td>\n",
              "    </tr>\n",
              "    <tr>\n",
              "      <th>4</th>\n",
              "      <td>Heat_Index</td>\n",
              "      <td>0.317773</td>\n",
              "    </tr>\n",
              "  </tbody>\n",
              "</table>\n",
              "</div>"
            ],
            "text/plain": [
              "                 variable  coefficient\n",
              "205  Area_Sarai Kale Khan     0.792870\n",
              "13     Evaporative_cooler     0.631613\n",
              "1                Temp_Out     0.573878\n",
              "0                  logger     0.319658\n",
              "4              Heat_Index     0.317773"
            ]
          },
          "metadata": {},
          "execution_count": 42
        }
      ]
    },
    {
      "cell_type": "markdown",
      "metadata": {
        "id": "Jmu4DTSEyg6e"
      },
      "source": [
        "### Random Forest Regression"
      ]
    },
    {
      "cell_type": "code",
      "metadata": {
        "colab": {
          "base_uri": "https://localhost:8080/"
        },
        "id": "XfpuGwf3yZ7e",
        "outputId": "5b53ec0d-4fff-4d80-ea1c-2a9b9e187fb7"
      },
      "source": [
        "from sklearn.ensemble import RandomForestRegressor\n",
        "\n",
        "rf_regressor = RandomForestRegressor(random_state=42)\n",
        "\n",
        "rf_params = {'max_depth':np.arange(1,10,1),\n",
        "             'min_samples_split':np.arange(2,50,1),\n",
        "             'min_samples_leaf':np.arange(2,50,1),\n",
        "             'max_features':['sqrt', 'log2']} # could also add 'criterion':['mse', 'mae'],\n",
        "\n",
        "rf_regressor_cv = RandomizedSearchCV(rf_regressor, rf_params, cv=5, scoring='neg_root_mean_squared_error', random_state=42)\n",
        "rf_regressor_cv.fit(X_train, y_train)\n",
        "rf_regressor_cv.best_params_"
      ],
      "execution_count": 43,
      "outputs": [
        {
          "output_type": "execute_result",
          "data": {
            "text/plain": [
              "{'max_depth': 9,\n",
              " 'max_features': 'sqrt',\n",
              " 'min_samples_leaf': 8,\n",
              " 'min_samples_split': 44}"
            ]
          },
          "metadata": {},
          "execution_count": 43
        }
      ]
    },
    {
      "cell_type": "code",
      "metadata": {
        "colab": {
          "base_uri": "https://localhost:8080/"
        },
        "id": "BM8donMuTFP1",
        "outputId": "02f51f6b-9118-4042-b64d-5242ababddfb"
      },
      "source": [
        "np.random.seed(42)\n",
        "best_rf_regressor = RandomForestRegressor(max_depth= 9, max_features = 'sqrt', min_samples_leaf= 8, min_samples_split=44)\n",
        "best_rf_regressor.fit(X_train, y_train)"
      ],
      "execution_count": 44,
      "outputs": [
        {
          "output_type": "execute_result",
          "data": {
            "text/plain": [
              "RandomForestRegressor(max_depth=9, max_features='sqrt', min_samples_leaf=8,\n",
              "                      min_samples_split=44)"
            ]
          },
          "metadata": {},
          "execution_count": 44
        }
      ]
    },
    {
      "cell_type": "code",
      "metadata": {
        "colab": {
          "base_uri": "https://localhost:8080/"
        },
        "id": "rsIsvML8Y3qb",
        "outputId": "1394fe7c-234f-47b7-84e4-0272d33c9719"
      },
      "source": [
        "# model evaluation for training set\n",
        "train_r2_rf = round(best_rf_regressor.score(X_train, y_train),2)\n",
        "print('Training R2 score of Random Forest is {}'.format(train_r2_rf))\n",
        "y_train_predicted_rf = best_rf_regressor.predict(X_train)\n",
        "rmse_train_rf = (np.sqrt(mean_squared_error(y_train, y_train_predicted_rf)))\n",
        "print('RMSE on the training set for the Random Forest model is: {}'.format(rmse_train_rf))"
      ],
      "execution_count": 45,
      "outputs": [
        {
          "output_type": "stream",
          "name": "stdout",
          "text": [
            "Training R2 score of Random Forest is 0.69\n",
            "RMSE on the training set for the Random Forest model is: 1.7725362713201993\n"
          ]
        }
      ]
    },
    {
      "cell_type": "code",
      "metadata": {
        "colab": {
          "base_uri": "https://localhost:8080/"
        },
        "id": "VHDtODaIZ0Z2",
        "outputId": "dbdbec50-765d-4685-f4b6-495e18ac58ab"
      },
      "source": [
        "# model evaluation for test set\n",
        "y_test_predicted_rf = best_rf_regressor.predict(X_test)\n",
        "rmse_test_rf= (np.sqrt(mean_squared_error(y_test, y_test_predicted_rf)))\n",
        "print(\"RMSE on testing set is for the Random Forest model is: {}\".format(rmse_test_rf))"
      ],
      "execution_count": 46,
      "outputs": [
        {
          "output_type": "stream",
          "name": "stdout",
          "text": [
            "RMSE on testing set is for the Random Forest model is: 1.846717217160774\n"
          ]
        }
      ]
    },
    {
      "cell_type": "code",
      "metadata": {
        "colab": {
          "base_uri": "https://localhost:8080/",
          "height": 206
        },
        "id": "1-V4fD4CZ91Z",
        "outputId": "db017430-78fe-448a-88f1-3fbe78776852"
      },
      "source": [
        "rf_importance = pd.concat([pd.DataFrame(X.columns, columns={'feature'}),pd.DataFrame(np.transpose(best_rf_regressor.feature_importances_), columns={'Importance'})], axis = 1) \n",
        "rf_importance.sort_values(by='Importance', ascending=False, inplace=True)\n",
        "rf_importance.head()"
      ],
      "execution_count": 47,
      "outputs": [
        {
          "output_type": "execute_result",
          "data": {
            "text/html": [
              "<div>\n",
              "<style scoped>\n",
              "    .dataframe tbody tr th:only-of-type {\n",
              "        vertical-align: middle;\n",
              "    }\n",
              "\n",
              "    .dataframe tbody tr th {\n",
              "        vertical-align: top;\n",
              "    }\n",
              "\n",
              "    .dataframe thead th {\n",
              "        text-align: right;\n",
              "    }\n",
              "</style>\n",
              "<table border=\"1\" class=\"dataframe\">\n",
              "  <thead>\n",
              "    <tr style=\"text-align: right;\">\n",
              "      <th></th>\n",
              "      <th>feature</th>\n",
              "      <th>Importance</th>\n",
              "    </tr>\n",
              "  </thead>\n",
              "  <tbody>\n",
              "    <tr>\n",
              "      <th>10</th>\n",
              "      <td>Roof_structure</td>\n",
              "      <td>0.199167</td>\n",
              "    </tr>\n",
              "    <tr>\n",
              "      <th>1</th>\n",
              "      <td>Temp_Out</td>\n",
              "      <td>0.128051</td>\n",
              "    </tr>\n",
              "    <tr>\n",
              "      <th>15</th>\n",
              "      <td>LCZ</td>\n",
              "      <td>0.074314</td>\n",
              "    </tr>\n",
              "    <tr>\n",
              "      <th>2</th>\n",
              "      <td>Out_Hum</td>\n",
              "      <td>0.070013</td>\n",
              "    </tr>\n",
              "    <tr>\n",
              "      <th>205</th>\n",
              "      <td>Area_Sarai Kale Khan</td>\n",
              "      <td>0.056879</td>\n",
              "    </tr>\n",
              "  </tbody>\n",
              "</table>\n",
              "</div>"
            ],
            "text/plain": [
              "                  feature  Importance\n",
              "10         Roof_structure    0.199167\n",
              "1                Temp_Out    0.128051\n",
              "15                    LCZ    0.074314\n",
              "2                 Out_Hum    0.070013\n",
              "205  Area_Sarai Kale Khan    0.056879"
            ]
          },
          "metadata": {},
          "execution_count": 47
        }
      ]
    },
    {
      "cell_type": "markdown",
      "metadata": {
        "id": "QhSMyFXGaDFE"
      },
      "source": [
        "###  SVM regression"
      ]
    },
    {
      "cell_type": "code",
      "metadata": {
        "colab": {
          "base_uri": "https://localhost:8080/"
        },
        "id": "QnSnStkGaI42",
        "outputId": "dae69cdd-fc78-44dc-ef34-58749f7050ff"
      },
      "source": [
        "from sklearn.svm import SVR\n",
        "svr = SVR()\n",
        "\n",
        "svr_params = { 'kernel': ['linear', 'poly', 'rbf', 'sigmoid'],\n",
        "              'gamma': ['scale', 'auto'],\n",
        "              'C': np.arange(0.1, 5,0.4)}\n",
        "\n",
        "svr_cv = RandomizedSearchCV(svr, svr_params, cv=5, scoring='neg_root_mean_squared_error', random_state=42)\n",
        "svr_cv.fit(X_train, y_train)\n",
        "svr_cv.best_params_"
      ],
      "execution_count": 48,
      "outputs": [
        {
          "output_type": "execute_result",
          "data": {
            "text/plain": [
              "{'C': 1.3000000000000003, 'gamma': 'auto', 'kernel': 'rbf'}"
            ]
          },
          "metadata": {},
          "execution_count": 48
        }
      ]
    },
    {
      "cell_type": "code",
      "metadata": {
        "colab": {
          "base_uri": "https://localhost:8080/"
        },
        "id": "wCOrITlKdDzO",
        "outputId": "e11dd6db-3214-4df3-8764-b1e295963fec"
      },
      "source": [
        "best_svr = SVR(C= 1.3000000000000003, gamma= 'auto', kernel= 'rbf')\n",
        "best_svr.fit(X_train, y_train)"
      ],
      "execution_count": 49,
      "outputs": [
        {
          "output_type": "execute_result",
          "data": {
            "text/plain": [
              "SVR(C=1.3000000000000003, gamma='auto')"
            ]
          },
          "metadata": {},
          "execution_count": 49
        }
      ]
    },
    {
      "cell_type": "code",
      "metadata": {
        "id": "cctZihcAhyVB",
        "colab": {
          "base_uri": "https://localhost:8080/"
        },
        "outputId": "dd1be8fa-9cd0-4ab9-9611-4e64596c5230"
      },
      "source": [
        "# model evaluation for training set\n",
        "train_r2_svr = round(best_svr.score(X_train, y_train),2)\n",
        "print('Training R2 score of SVM Regressor is {}'.format(train_r2_svr))\n",
        "y_train_predicted_svr = best_svr.predict(X_train)\n",
        "rmse_train_svr = (np.sqrt(mean_squared_error(y_train, y_train_predicted_svr)))\n",
        "print('RMSE on the training set for the SVM Regressor is: {}'.format(rmse_train_svr))"
      ],
      "execution_count": 50,
      "outputs": [
        {
          "output_type": "stream",
          "name": "stdout",
          "text": [
            "Training R2 score of SVM Regressor is 0.76\n",
            "RMSE on the training set for the SVM Regressor is: 1.5626746891209586\n"
          ]
        }
      ]
    },
    {
      "cell_type": "code",
      "metadata": {
        "id": "lxq9rO2GiF1-",
        "colab": {
          "base_uri": "https://localhost:8080/"
        },
        "outputId": "1ddcb012-249d-4b35-e9f1-7eb6d082bedd"
      },
      "source": [
        "# model evaluation for test set\n",
        "y_test_predicted_svr = best_svr.predict(X_test)\n",
        "rmse_test_svr= (np.sqrt(mean_squared_error(y_test, y_test_predicted_svr)))\n",
        "print(\"RMSE on testing set is for the SVM Regressor is: {}\".format(rmse_test_svr))"
      ],
      "execution_count": 51,
      "outputs": [
        {
          "output_type": "stream",
          "name": "stdout",
          "text": [
            "RMSE on testing set is for the SVM Regressor is: 1.712075320935083\n"
          ]
        }
      ]
    },
    {
      "cell_type": "markdown",
      "metadata": {
        "id": "G4zBt2bLdMvd"
      },
      "source": [
        "###Stochastic Gradient Boosting Regression"
      ]
    },
    {
      "cell_type": "code",
      "metadata": {
        "id": "w_n4zOzidS8P"
      },
      "source": [
        "from sklearn.ensemble import GradientBoostingRegressor"
      ],
      "execution_count": 52,
      "outputs": []
    },
    {
      "cell_type": "code",
      "metadata": {
        "id": "XKWsvL7xdXM2",
        "colab": {
          "base_uri": "https://localhost:8080/"
        },
        "outputId": "9eed411d-a4ae-4767-c57b-1ef11ccd79fb"
      },
      "source": [
        "gb_regressor = GradientBoostingRegressor(random_state=42)\n",
        " \n",
        "gb_params = dict(learning_rate=np.arange(0.05,0.3,0.05), \n",
        "                     n_estimators=np.arange(100,1000,100), \n",
        "                     subsample = np.arange(0.1,0.9,0.05),\n",
        "                     max_depth=[int(i) for i in np.arange(1,10,1)],\n",
        "                     max_features = ['sqrt', 'log2']) \n",
        "\n",
        "gb_cv = RandomizedSearchCV(gb_regressor, gb_params, random_state=42, cv=5, scoring='neg_root_mean_squared_error')\n",
        "gb_optimized = gb_cv.fit(X_train, y_train)\n",
        "print('best params: ', gb_optimized.best_params_)"
      ],
      "execution_count": 53,
      "outputs": [
        {
          "output_type": "stream",
          "name": "stdout",
          "text": [
            "best params:  {'subsample': 0.6000000000000002, 'n_estimators': 700, 'max_features': 'sqrt', 'max_depth': 7, 'learning_rate': 0.1}\n"
          ]
        }
      ]
    },
    {
      "cell_type": "code",
      "metadata": {
        "id": "X0MGRCBHel7d",
        "colab": {
          "base_uri": "https://localhost:8080/"
        },
        "outputId": "330396a3-f8c5-4a0b-dc1c-4a5b48ac6a89"
      },
      "source": [
        "np.random.seed(42)\n",
        "best_gbr = GradientBoostingRegressor(subsample= 0.6000000000000002, n_estimators= 700, max_features= 'sqrt', max_depth= 7, learning_rate= 0.1)\n",
        "best_gbr.fit(X_train, y_train)"
      ],
      "execution_count": 54,
      "outputs": [
        {
          "output_type": "execute_result",
          "data": {
            "text/plain": [
              "GradientBoostingRegressor(max_depth=7, max_features='sqrt', n_estimators=700,\n",
              "                          subsample=0.6000000000000002)"
            ]
          },
          "metadata": {},
          "execution_count": 54
        }
      ]
    },
    {
      "cell_type": "code",
      "metadata": {
        "id": "zcTABNB8ezFH",
        "colab": {
          "base_uri": "https://localhost:8080/"
        },
        "outputId": "1b402f54-c311-46f9-d4aa-a381ce2c71ae"
      },
      "source": [
        "# model evaluation for training set\n",
        "train_r2_gbr = round(best_gbr.score(X_train, y_train),2)\n",
        "print('Training R2 score of Gradient Boosting Regressor is {}'.format(train_r2_gbr))\n",
        "y_train_predicted_gbr = best_gbr.predict(X_train)\n",
        "rmse_train_gbr = (np.sqrt(mean_squared_error(y_train, y_train_predicted_gbr)))\n",
        "print('RMSE on the training set for the Gradient Boosting Regressor is: {}'.format(rmse_train_gbr))"
      ],
      "execution_count": 55,
      "outputs": [
        {
          "output_type": "stream",
          "name": "stdout",
          "text": [
            "Training R2 score of Gradient Boosting Regressor is 0.98\n",
            "RMSE on the training set for the Gradient Boosting Regressor is: 0.39586595581517475\n"
          ]
        }
      ]
    },
    {
      "cell_type": "code",
      "metadata": {
        "id": "9G8KpBLOfL9C",
        "colab": {
          "base_uri": "https://localhost:8080/"
        },
        "outputId": "dee34fd4-cf94-4aaa-fa3b-e527a342561c"
      },
      "source": [
        "# model evaluation for test set\n",
        "y_test_predicted_gbr = best_gbr.predict(X_test)\n",
        "rmse_test_gbr= (np.sqrt(mean_squared_error(y_test, y_test_predicted_gbr)))\n",
        "print(\"RMSE on testing set is for the Gradient Boosting Regressor is: {}\".format(rmse_test_gbr))"
      ],
      "execution_count": 56,
      "outputs": [
        {
          "output_type": "stream",
          "name": "stdout",
          "text": [
            "RMSE on testing set is for the Gradient Boosting Regressor is: 0.9757885508824238\n"
          ]
        }
      ]
    },
    {
      "cell_type": "code",
      "metadata": {
        "id": "ATqYmSXjfTxY",
        "colab": {
          "base_uri": "https://localhost:8080/",
          "height": 206
        },
        "outputId": "fb3e76e5-4d0c-473e-989c-3ea7d339dbf4"
      },
      "source": [
        "gbr_importance = pd.concat([pd.DataFrame(X.columns, columns={'variable'}),pd.DataFrame(np.transpose(best_gbr.feature_importances_), columns={'Importance'})], axis = 1) \n",
        "gbr_importance.sort_values(by='Importance', ascending=False, inplace=True)\n",
        "gbr_importance.head()"
      ],
      "execution_count": 57,
      "outputs": [
        {
          "output_type": "execute_result",
          "data": {
            "text/html": [
              "<div>\n",
              "<style scoped>\n",
              "    .dataframe tbody tr th:only-of-type {\n",
              "        vertical-align: middle;\n",
              "    }\n",
              "\n",
              "    .dataframe tbody tr th {\n",
              "        vertical-align: top;\n",
              "    }\n",
              "\n",
              "    .dataframe thead th {\n",
              "        text-align: right;\n",
              "    }\n",
              "</style>\n",
              "<table border=\"1\" class=\"dataframe\">\n",
              "  <thead>\n",
              "    <tr style=\"text-align: right;\">\n",
              "      <th></th>\n",
              "      <th>variable</th>\n",
              "      <th>Importance</th>\n",
              "    </tr>\n",
              "  </thead>\n",
              "  <tbody>\n",
              "    <tr>\n",
              "      <th>1</th>\n",
              "      <td>Temp_Out</td>\n",
              "      <td>0.165561</td>\n",
              "    </tr>\n",
              "    <tr>\n",
              "      <th>10</th>\n",
              "      <td>Roof_structure</td>\n",
              "      <td>0.086936</td>\n",
              "    </tr>\n",
              "    <tr>\n",
              "      <th>0</th>\n",
              "      <td>logger</td>\n",
              "      <td>0.081338</td>\n",
              "    </tr>\n",
              "    <tr>\n",
              "      <th>15</th>\n",
              "      <td>LCZ</td>\n",
              "      <td>0.077041</td>\n",
              "    </tr>\n",
              "    <tr>\n",
              "      <th>8</th>\n",
              "      <td>Floor</td>\n",
              "      <td>0.063708</td>\n",
              "    </tr>\n",
              "  </tbody>\n",
              "</table>\n",
              "</div>"
            ],
            "text/plain": [
              "          variable  Importance\n",
              "1         Temp_Out    0.165561\n",
              "10  Roof_structure    0.086936\n",
              "0           logger    0.081338\n",
              "15             LCZ    0.077041\n",
              "8            Floor    0.063708"
            ]
          },
          "metadata": {},
          "execution_count": 57
        }
      ]
    },
    {
      "cell_type": "markdown",
      "metadata": {
        "id": "1SHf4xebf-nB"
      },
      "source": [
        "## Comparing models"
      ]
    },
    {
      "cell_type": "code",
      "metadata": {
        "colab": {
          "base_uri": "https://localhost:8080/",
          "height": 238
        },
        "id": "XXzS0zy5gGW_",
        "outputId": "43c802f6-d5eb-49e0-913f-2c0c5eeff5f0"
      },
      "source": [
        "#Same order as above, just the names for printing\n",
        "models = ['Linear','Lasso', 'Ridge', 'Random Forest', 'SVR', 'Gradient Boosting']\n",
        "#Creating lists of the values that we stored above\n",
        "training_r2s = [train_r2, train_r2_lasso, train_r2_ridge, train_r2_rf, train_r2_svr, train_r2_gbr]\n",
        "rmse_trains = [rmse_train_linear, rmse_train_lasso, rmse_train_ridge, rmse_train_rf, rmse_train_svr, rmse_train_gbr]\n",
        "rmse_tests= [rmse_test_linear, rmse_test_lasso, rmse_test_ridge, rmse_test_rf, rmse_test_svr, rmse_test_gbr]\n",
        "#Putting them all in a dictionary to create a table\n",
        "data = {\"model\": pd.Series(models), \n",
        "        \"Training R2\": pd.Series(training_r2s), \n",
        "        \"Training RMSE\": pd.Series(rmse_trains),\n",
        "        \"Testing RMSE\": pd.Series(rmse_tests)}\n",
        "\n",
        "comparison_df = pd.concat(data, axis = 1) \n",
        "comparison_df"
      ],
      "execution_count": 58,
      "outputs": [
        {
          "output_type": "execute_result",
          "data": {
            "text/html": [
              "<div>\n",
              "<style scoped>\n",
              "    .dataframe tbody tr th:only-of-type {\n",
              "        vertical-align: middle;\n",
              "    }\n",
              "\n",
              "    .dataframe tbody tr th {\n",
              "        vertical-align: top;\n",
              "    }\n",
              "\n",
              "    .dataframe thead th {\n",
              "        text-align: right;\n",
              "    }\n",
              "</style>\n",
              "<table border=\"1\" class=\"dataframe\">\n",
              "  <thead>\n",
              "    <tr style=\"text-align: right;\">\n",
              "      <th></th>\n",
              "      <th>model</th>\n",
              "      <th>Training R2</th>\n",
              "      <th>Training RMSE</th>\n",
              "      <th>Testing RMSE</th>\n",
              "    </tr>\n",
              "  </thead>\n",
              "  <tbody>\n",
              "    <tr>\n",
              "      <th>0</th>\n",
              "      <td>Linear</td>\n",
              "      <td>0.73</td>\n",
              "      <td>1.661470</td>\n",
              "      <td>1.739202</td>\n",
              "    </tr>\n",
              "    <tr>\n",
              "      <th>1</th>\n",
              "      <td>Lasso</td>\n",
              "      <td>0.00</td>\n",
              "      <td>3.194943</td>\n",
              "      <td>3.233519</td>\n",
              "    </tr>\n",
              "    <tr>\n",
              "      <th>2</th>\n",
              "      <td>Ridge</td>\n",
              "      <td>0.73</td>\n",
              "      <td>1.665593</td>\n",
              "      <td>1.741518</td>\n",
              "    </tr>\n",
              "    <tr>\n",
              "      <th>3</th>\n",
              "      <td>Random Forest</td>\n",
              "      <td>0.69</td>\n",
              "      <td>1.772536</td>\n",
              "      <td>1.846717</td>\n",
              "    </tr>\n",
              "    <tr>\n",
              "      <th>4</th>\n",
              "      <td>SVR</td>\n",
              "      <td>0.76</td>\n",
              "      <td>1.562675</td>\n",
              "      <td>1.712075</td>\n",
              "    </tr>\n",
              "    <tr>\n",
              "      <th>5</th>\n",
              "      <td>Gradient Boosting</td>\n",
              "      <td>0.98</td>\n",
              "      <td>0.395866</td>\n",
              "      <td>0.975789</td>\n",
              "    </tr>\n",
              "  </tbody>\n",
              "</table>\n",
              "</div>"
            ],
            "text/plain": [
              "               model  Training R2  Training RMSE  Testing RMSE\n",
              "0             Linear         0.73       1.661470      1.739202\n",
              "1              Lasso         0.00       3.194943      3.233519\n",
              "2              Ridge         0.73       1.665593      1.741518\n",
              "3      Random Forest         0.69       1.772536      1.846717\n",
              "4                SVR         0.76       1.562675      1.712075\n",
              "5  Gradient Boosting         0.98       0.395866      0.975789"
            ]
          },
          "metadata": {},
          "execution_count": 58
        }
      ]
    },
    {
      "cell_type": "code",
      "metadata": {
        "colab": {
          "base_uri": "https://localhost:8080/",
          "height": 585
        },
        "id": "u_aKmnfOgluh",
        "outputId": "aa225898-3d73-4697-841c-35dc9fe1d14e"
      },
      "source": [
        "x = np.arange(len(models))  # the label locations\n",
        "width = 0.35  # the width of the bars\n",
        "\n",
        "fig, ax = plt.subplots(figsize=(8,8))\n",
        "rects1 = ax.bar(x - width/2, round(comparison_df.iloc[:,2],2), width, label='Training RMSE')\n",
        "rects2 = ax.bar(x + width/2, round(comparison_df.iloc[:,3],2), width, label='Testing RMSE')\n",
        "\n",
        "# Add some text for labels, title and custom x-axis tick labels, etc.\n",
        "ax.set_ylabel('Performance Metric value',size=13)\n",
        "ax.set_xlabel('Model',size=13)\n",
        "ax.set_title(\"Root Mean Square Error\",size=15, weight='bold')\n",
        "ax.set_xticks(x)\n",
        "ax.set_xticklabels(models)\n",
        "ax.set_ylim([0,3.5])\n",
        "ax.legend()\n",
        "\n",
        "def autolabel(rects):\n",
        "    \"\"\"Attach a text label above each bar in *rects*, displaying its height.\"\"\"\n",
        "    for rect in rects:\n",
        "        height = rect.get_height()\n",
        "        ax.annotate('{}'.format(height),\n",
        "                    xy=(rect.get_x() + rect.get_width() / 2, height),\n",
        "                    xytext=(0, 3),  # 3 points vertical offset\n",
        "                    textcoords=\"offset points\",\n",
        "                    ha='center', va='bottom')\n",
        "\n",
        "autolabel(rects1)\n",
        "autolabel(rects2)\n",
        "\n",
        "fig.tight_layout()\n",
        "plt.show()"
      ],
      "execution_count": 59,
      "outputs": [
        {
          "output_type": "display_data",
          "data": {
            "image/png": "[encoded data removed]",
            "text/plain": [
              "<Figure size 576x576 with 1 Axes>"
            ]
          },
          "metadata": {
            "needs_background": "light"
          }
        }
      ]
    }
  ]
}